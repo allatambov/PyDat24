{
 "cells": [
  {
   "cell_type": "markdown",
   "metadata": {},
   "source": [
    "# Основы анализа данных в Python\n",
    "\n",
    "*Алла Тамбовцева*\n",
    "\n",
    "## Практикум 4. Визуализация данных: часть 1"
   ]
  },
  {
   "cell_type": "markdown",
   "metadata": {},
   "source": [
    "Импортируем библиотеки `numpy` и `pandas` с сокращённым названием:"
   ]
  },
  {
   "cell_type": "code",
   "execution_count": null,
   "metadata": {},
   "outputs": [],
   "source": [
    "import numpy as np\n",
    "import pandas as pd"
   ]
  },
  {
   "cell_type": "markdown",
   "metadata": {},
   "source": [
    "## Часть 1: вспоминаем распределения и изучаем скошенность"
   ]
  },
  {
   "cell_type": "markdown",
   "metadata": {},
   "source": [
    "Воспользуемся библиотекой `numpy` для того, чтобы сгенерировать выборки объёма $n=100$ из трёх различных распределений:\n",
    "\n",
    "* стандартного нормального;\n",
    "* экспоненциального с $\\beta=1$;\n",
    "* смешанного: к выборке из стандартного нормального добавляем значения –5, –10 и –12.\n",
    "\n",
    "Так как выборки у всех будут генерироваться разные за счёт случайности (псевдослучайности) выбора, для воспроизводимости результатов зафиксируем стартовую точку алгоритма `seed`, равную 999 (это может быть любое целое неотрицательное число, главное, что если оно у всех одинаковое, выборки тоже будут одинаковы)."
   ]
  },
  {
   "cell_type": "code",
   "execution_count": 50,
   "metadata": {},
   "outputs": [],
   "source": [
    "np.random.seed(999)\n",
    "\n",
    "# три выборки sample объема 100\n",
    "\n",
    "sample_norm = np.random.normal(size = 100)\n",
    "sample_exp = np.random.exponential(size = 100)\n",
    "sample_skewed = np.append(np.random.normal(size = 94), \n",
    "                          np.array([-5, -5, -10, -10, -10, -12]))"
   ]
  },
  {
   "cell_type": "markdown",
   "metadata": {},
   "source": [
    "Объединим эти выборки в один датафрейм по столбцам (для этого и генерировали выборки одинакового размера, чтобы без проблем получить таблицу из 100 строк):"
   ]
  },
  {
   "cell_type": "code",
   "execution_count": 57,
   "metadata": {},
   "outputs": [
    {
     "data": {
      "text/html": [
       "<div>\n",
       "<style scoped>\n",
       "    .dataframe tbody tr th:only-of-type {\n",
       "        vertical-align: middle;\n",
       "    }\n",
       "\n",
       "    .dataframe tbody tr th {\n",
       "        vertical-align: top;\n",
       "    }\n",
       "\n",
       "    .dataframe thead th {\n",
       "        text-align: right;\n",
       "    }\n",
       "</style>\n",
       "<table border=\"1\" class=\"dataframe\">\n",
       "  <thead>\n",
       "    <tr style=\"text-align: right;\">\n",
       "      <th></th>\n",
       "      <th>s1</th>\n",
       "      <th>s2</th>\n",
       "      <th>s3</th>\n",
       "    </tr>\n",
       "  </thead>\n",
       "  <tbody>\n",
       "    <tr>\n",
       "      <th>0</th>\n",
       "      <td>0.127158</td>\n",
       "      <td>0.659916</td>\n",
       "      <td>-0.578383</td>\n",
       "    </tr>\n",
       "    <tr>\n",
       "      <th>1</th>\n",
       "      <td>1.401891</td>\n",
       "      <td>1.069682</td>\n",
       "      <td>-0.791310</td>\n",
       "    </tr>\n",
       "    <tr>\n",
       "      <th>2</th>\n",
       "      <td>0.314815</td>\n",
       "      <td>2.720017</td>\n",
       "      <td>1.068553</td>\n",
       "    </tr>\n",
       "    <tr>\n",
       "      <th>3</th>\n",
       "      <td>-0.858449</td>\n",
       "      <td>0.783343</td>\n",
       "      <td>-0.500550</td>\n",
       "    </tr>\n",
       "    <tr>\n",
       "      <th>4</th>\n",
       "      <td>-0.266134</td>\n",
       "      <td>0.333437</td>\n",
       "      <td>0.895741</td>\n",
       "    </tr>\n",
       "    <tr>\n",
       "      <th>5</th>\n",
       "      <td>-0.648901</td>\n",
       "      <td>0.246681</td>\n",
       "      <td>-0.484718</td>\n",
       "    </tr>\n",
       "    <tr>\n",
       "      <th>6</th>\n",
       "      <td>1.566268</td>\n",
       "      <td>1.356177</td>\n",
       "      <td>0.086599</td>\n",
       "    </tr>\n",
       "    <tr>\n",
       "      <th>7</th>\n",
       "      <td>-2.091370</td>\n",
       "      <td>0.688116</td>\n",
       "      <td>-0.504001</td>\n",
       "    </tr>\n",
       "    <tr>\n",
       "      <th>8</th>\n",
       "      <td>1.456328</td>\n",
       "      <td>0.181994</td>\n",
       "      <td>1.638309</td>\n",
       "    </tr>\n",
       "    <tr>\n",
       "      <th>9</th>\n",
       "      <td>0.945293</td>\n",
       "      <td>3.200099</td>\n",
       "      <td>1.631034</td>\n",
       "    </tr>\n",
       "  </tbody>\n",
       "</table>\n",
       "</div>"
      ],
      "text/plain": [
       "         s1        s2        s3\n",
       "0  0.127158  0.659916 -0.578383\n",
       "1  1.401891  1.069682 -0.791310\n",
       "2  0.314815  2.720017  1.068553\n",
       "3 -0.858449  0.783343 -0.500550\n",
       "4 -0.266134  0.333437  0.895741\n",
       "5 -0.648901  0.246681 -0.484718\n",
       "6  1.566268  1.356177  0.086599\n",
       "7 -2.091370  0.688116 -0.504001\n",
       "8  1.456328  0.181994  1.638309\n",
       "9  0.945293  3.200099  1.631034"
      ]
     },
     "execution_count": 57,
     "metadata": {},
     "output_type": "execute_result"
    }
   ],
   "source": [
    "df = pd.DataFrame({\"s1\" : sample_norm, \"s2\" : sample_exp, \n",
    "                   \"s3\" : sample_skewed})\n",
    "df.head(10)"
   ]
  },
  {
   "cell_type": "markdown",
   "metadata": {},
   "source": [
    "Построим гистограммы для каждой выборки и прокомментируем форму распределения:"
   ]
  },
  {
   "cell_type": "code",
   "execution_count": 52,
   "metadata": {},
   "outputs": [
    {
     "data": {
      "image/png": "[encoded data removed]",
      "text/plain": [
       "<Figure size 432x288 with 1 Axes>"
      ]
     },
     "metadata": {
      "needs_background": "light"
     },
     "output_type": "display_data"
    }
   ],
   "source": [
    "df.hist(\"s1\", color = \"limegreen\", edgecolor = \"white\");"
   ]
  },
  {
   "cell_type": "code",
   "execution_count": 53,
   "metadata": {},
   "outputs": [
    {
     "data": {
      "image/png": "[encoded data removed]",
      "text/plain": [
       "<Figure size 432x288 with 1 Axes>"
      ]
     },
     "metadata": {
      "needs_background": "light"
     },
     "output_type": "display_data"
    }
   ],
   "source": [
    "df.hist(\"s2\", color = \"limegreen\", edgecolor = \"white\");"
   ]
  },
  {
   "cell_type": "code",
   "execution_count": 54,
   "metadata": {},
   "outputs": [
    {
     "data": {
      "image/png": "[encoded data removed]",
      "text/plain": [
       "<Figure size 432x288 with 1 Axes>"
      ]
     },
     "metadata": {
      "needs_background": "light"
     },
     "output_type": "display_data"
    }
   ],
   "source": [
    "df.hist(\"s3\", color = \"limegreen\", edgecolor = \"white\");"
   ]
  },
  {
   "cell_type": "markdown",
   "metadata": {},
   "source": [
    "А теперь формально зафиксируем скошенность полученных распределений – вычислим коэффициент скошенности (*skewness*):"
   ]
  },
  {
   "cell_type": "code",
   "execution_count": 56,
   "metadata": {},
   "outputs": [
    {
     "data": {
      "text/plain": [
       "s1   -0.01\n",
       "s2    1.35\n",
       "s3   -3.17\n",
       "dtype: float64"
      ]
     },
     "execution_count": 56,
     "metadata": {},
     "output_type": "execute_result"
    }
   ],
   "source": [
    "df.skew().round(2)"
   ]
  },
  {
   "cell_type": "markdown",
   "metadata": {},
   "source": [
    "Полезный и милый [пост](https://community.hellotriad.com/psychology/post/skewed-distributions-may-not-be-normal-but-they-don-t-have-to-be-iLrwghSXAY6QHdW) про скошенность и положение мер центральной тенденции при разных типах скошенности."
   ]
  },
  {
   "cell_type": "markdown",
   "metadata": {},
   "source": [
    "## Часть 2: строим гистограммы и столбиковые диаграммы"
   ]
  },
  {
   "cell_type": "markdown",
   "metadata": {},
   "source": [
    "В этой части предлагается поработать с небольшой выгрузкой новостей с сайта [N+1](https://nplus1.ru/) за октябрь-ноябрь этого года. \n",
    "\n",
    "Переменные в файле `news.xlsx`:\n",
    "\n",
    "* `title`: заголовок новости;\n",
    "* `author`: автор новости;\n",
    "* `date`: дата;\n",
    "* `diffc`: сложность новости;\n",
    "* `rubrics`: рубрики, к которым относится новость."
   ]
  },
  {
   "cell_type": "markdown",
   "metadata": {},
   "source": [
    "Загрузим данные из файла Excel:"
   ]
  },
  {
   "cell_type": "code",
   "execution_count": null,
   "metadata": {},
   "outputs": [],
   "source": [
    "news = pd.read_excel(\"news.xlsx\")"
   ]
  },
  {
   "cell_type": "markdown",
   "metadata": {},
   "source": [
    "### Задача 0\n",
    "\n",
    "Выведите описательные статистики для всех столбцов датафрейма `news`. Прокомментируйте полученные результаты. При необходимости скорректируйте полученный датафрейм и сохраните изменения."
   ]
  },
  {
   "cell_type": "code",
   "execution_count": null,
   "metadata": {},
   "outputs": [],
   "source": [
    "### YOUR CODE HERE ###"
   ]
  },
  {
   "cell_type": "markdown",
   "metadata": {},
   "source": [
    "### Задача 1\n",
    "\n",
    "Постройте гистограмму для сложности новости, измените цвет её заливки и цвет границ столбцов."
   ]
  },
  {
   "cell_type": "code",
   "execution_count": null,
   "metadata": {},
   "outputs": [],
   "source": [
    "### YOUR CODE HERE ###"
   ]
  },
  {
   "cell_type": "markdown",
   "metadata": {},
   "source": [
    "### Задача 2\n",
    "\n",
    "Измените у полученной гистограммы число столбцов, сделав его равным 5.\n",
    "\n",
    "**Подсказка:** аргумент `bins`."
   ]
  },
  {
   "cell_type": "code",
   "execution_count": null,
   "metadata": {},
   "outputs": [],
   "source": [
    "### YOUR CODE HERE ###"
   ]
  },
  {
   "cell_type": "markdown",
   "metadata": {},
   "source": [
    "### Задача 3\n",
    "\n",
    "Измените у полученной гистограммы шаг (интервал группировки), сделав его равным выборочному стандартному отклонению.\n",
    "\n",
    "**Подсказка:** все тот же аргумент `bins` и функция `arange()` из библиотеки `numpy`."
   ]
  },
  {
   "cell_type": "code",
   "execution_count": null,
   "metadata": {},
   "outputs": [],
   "source": [
    "### YOUR CODE HERE ###"
   ]
  },
  {
   "cell_type": "markdown",
   "metadata": {},
   "source": [
    "### Задача 4\n",
    "\n",
    "Выведите таблицу частот для столбца `author`. Постройте столбиковую диаграмму для этого показателя. Что нужно сделать, чтобы авторы на диаграмме были упорядочены по алфавиту?"
   ]
  },
  {
   "cell_type": "code",
   "execution_count": null,
   "metadata": {},
   "outputs": [],
   "source": [
    "### YOUR CODE HERE ###"
   ]
  },
  {
   "cell_type": "markdown",
   "metadata": {},
   "source": [
    "### Задача 5\n",
    "\n",
    "* Выведите таблицу частот для столбца `rubrics`. \n",
    "* Разбейте столбец `rubrics` на столбцы с отдельными рубриками (рубрики разделены запятыми) и сохраните датафрейм из полученных столбцов с названием `rubs`. \n",
    "\n",
    "**Подсказка:** метод `str.split()`."
   ]
  },
  {
   "cell_type": "code",
   "execution_count": null,
   "metadata": {},
   "outputs": [],
   "source": [
    "### YOUR CODE HERE ###"
   ]
  },
  {
   "cell_type": "markdown",
   "metadata": {},
   "source": [
    "### Задача 6\n",
    "\n",
    "Выведите таблицу частот для первого столбца в `rubs`, сохраните ее в переменную `tab`. "
   ]
  },
  {
   "cell_type": "code",
   "execution_count": null,
   "metadata": {},
   "outputs": [],
   "source": [
    "### YOUR CODE HERE ###"
   ]
  },
  {
   "cell_type": "markdown",
   "metadata": {},
   "source": [
    "### Задача 7\n",
    "\n",
    "Как можно заметить, в `tab` получилось довольно много категорий, причем некоторые из них довольно редкие (частота менее 5). Ниже приведен код для того, чтобы эти редкие категории «схлопнуть» в одну категорию *Другое*. "
   ]
  },
  {
   "cell_type": "code",
   "execution_count": null,
   "metadata": {},
   "outputs": [],
   "source": [
    "get_other = lambda x: \"Другое\" if x in tab[tab < 5].index else x\n",
    "tab.rename(get_other, inplace = True)\n",
    "tab = tab.groupby(level = 0).sum()\n",
    "tab"
   ]
  },
  {
   "cell_type": "markdown",
   "metadata": {},
   "source": [
    "Постройте для обновленной таблицы частот `tab` столбиковую диаграмму таким образом, чтобы столбцы в ней были упорядочены от самого высокого к самому низкому."
   ]
  },
  {
   "cell_type": "code",
   "execution_count": null,
   "metadata": {},
   "outputs": [],
   "source": [
    "### YOUR CODE HERE ###"
   ]
  }
 ],
 "metadata": {
  "kernelspec": {
   "display_name": "Python 3",
   "language": "python",
   "name": "python3"
  },
  "language_info": {
   "codemirror_mode": {
    "name": "ipython",
    "version": 3
   },
   "file_extension": ".py",
   "mimetype": "text/x-python",
   "name": "python",
   "nbconvert_exporter": "python",
   "pygments_lexer": "ipython3",
   "version": "3.7.4"
  }
 },
 "nbformat": 4,
 "nbformat_minor": 2
}
