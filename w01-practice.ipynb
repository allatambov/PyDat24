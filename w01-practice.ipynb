{
 "cells": [
  {
   "cell_type": "markdown",
   "metadata": {},
   "source": [
    "# Основы анализа данных в Python\n",
    "\n",
    "## Практикум 1. Списки и массивы NumPy\n",
    "\n",
    "*Алла Тамбовцева*\n",
    "\n",
    "* Списки, массивы, датафреймы\n",
    "* Описательные статистики и простая группировка"
   ]
  },
  {
   "cell_type": "markdown",
   "metadata": {},
   "source": [
    "### Часть 1. Списки, массивы, датафреймы\n",
    "\n",
    "На курсе по Python мы познакомились с последовательностями разных видов: строками (тип `string`), списками (тип `list`) и кортежами (тип `tuple`). Самой универсальной последовательностью из перечисленных является список – во-первых, он позволяет хранить элементы разных типов, а во-вторых, его можно изменять. \n",
    "\n",
    "Не будем смешивать типы, рассмотрим простой список из целых чисел. Пусть это будет выборка значений веса пингвинов, обитающих на острове Мечты в Антарктике (к более интересным данным мы перейдём во второй части семинара, пока у нас «техническая» часть). На этом острове обитают пингвины Адели и антарктические пингвины, которые довольно небольшие."
   ]
  },
  {
   "cell_type": "code",
   "execution_count": null,
   "metadata": {},
   "outputs": [],
   "source": [
    "# вес в граммах\n",
    "\n",
    "weight = [3250, 3900, 3300, 3900, 3325, 4150, 3950, 3550, 3300, 4650, 3150,\n",
    "       3900, 3100, 4400, 3000, 4600, 3425, 2975, 3450, 4150, 3350, 3550,\n",
    "       3800, 3500, 3950, 3600, 3550, 4300, 3400, 4450, 3300, 4300, 3700,\n",
    "       4350, 2900, 4100, 3500, 4475, 3425, 3900, 3175, 3975, 3400, 4250,\n",
    "       3400, 3475, 3050, 3725, 3000, 3650, 4250, 3475, 3450, 3750, 3700,\n",
    "       4000, 3500, 3900, 3650, 3525, 3725, 3950, 3250, 3750, 4150, 3700,\n",
    "       3800, 3775, 3700, 4050, 3575, 4050, 3300, 3700, 3450, 4400, 3600,\n",
    "       3400, 2900, 3800, 3300, 4150, 3400, 3800, 3700, 4550, 3200, 4300,\n",
    "       3350, 4100, 3600, 3900, 3850, 4800, 2700, 4500, 3950, 3650, 3550,\n",
    "       3500, 3675, 4450, 3400, 4300, 3250, 3675, 3325, 3950, 3600, 4050,\n",
    "       3350, 3450, 3250, 4050, 3800, 3525, 3950, 3650, 3650, 4000, 3400,\n",
    "       3775, 4100, 3775]"
   ]
  },
  {
   "cell_type": "markdown",
   "metadata": {},
   "source": [
    "Предположим, мы хотим выполнить стандартизацию этих данных (вспоминаем ТВиМС) – вычесть из каждого значения выборки её среднее $\\bar{y}$ и поделить результат на её стандартное отклонение $s$:\n",
    "\n",
    "$$\n",
    "y' = \\frac{y-\\bar{y}}{s}.\n",
    "$$\n",
    "\n",
    "*(вспоминаем и привыкаем к формулам)*\n",
    "\n",
    "$$\n",
    "\\bar{y} = \\frac{\\sum_{i=1}^{n}y_i}{n}; \\text{ }\n",
    "s^2 = \\frac{\\sum_{i=1}^{n}{(y_i - \\bar{y})}^2}{n - 1}.\n",
    "$$"
   ]
  },
  {
   "cell_type": "markdown",
   "metadata": {},
   "source": [
    "Тут возникает сразу две проблемы:\n",
    "\n",
    "* на списках не определены готовые методы, которые вычисляют среднее и стандартное отклонение;\n",
    "* без циклов и аналогичных конструкций не обойтись – нужен перебор элементов. \n",
    "\n",
    "Давайте вспомним, как применить цикл `for` для решения этой задачи. \n",
    "\n",
    ">**Задача 1.** Используя только базовые функции Python и цикл `for`:\n",
    "* вычислите выборочное среднее `avg` и выборочное стандартное отклонение `s`;\n",
    "* получите список `weight_norm` со стандартизованными значениями выборки `weight`."
   ]
  },
  {
   "cell_type": "code",
   "execution_count": null,
   "metadata": {},
   "outputs": [],
   "source": [
    "### YOUR CODE HERE ###"
   ]
  },
  {
   "cell_type": "markdown",
   "metadata": {},
   "source": [
    ">**Вопрос.** Есть ли в выборке пингвины, которые обладают весом, нехарактерно большим или нехарактерно маленьким для этого набора данных? Как это понять по стандартизованным значениям?"
   ]
  },
  {
   "cell_type": "markdown",
   "metadata": {},
   "source": [
    "Отлично! Всё получилось, однако это выглядит слишком громоздко, даже если мы заменим циклы списковыми включениями/генераторами списков. Поэтому перейдём к более удобной структуре данных – **массиву** из библиотеки `numpy` (сокращение от *Numeric Python*) для работы с числовыми массивами. Импортируем эту библиотеку с сокращённым названием:"
   ]
  },
  {
   "cell_type": "code",
   "execution_count": null,
   "metadata": {},
   "outputs": [],
   "source": [
    "import numpy as np"
   ]
  },
  {
   "cell_type": "markdown",
   "metadata": {},
   "source": [
    "Создадим массив (*array*) на основе списка `weight` с помощью функции `array()`:"
   ]
  },
  {
   "cell_type": "code",
   "execution_count": null,
   "metadata": {},
   "outputs": [],
   "source": [
    "Weight = np.array(weight)"
   ]
  },
  {
   "cell_type": "markdown",
   "metadata": {},
   "source": [
    "Вычислим безо всяких циклов среднее и стандартное отклонение – воспользуемся методами `.mean()` и `.std()`:"
   ]
  },
  {
   "cell_type": "code",
   "execution_count": null,
   "metadata": {},
   "outputs": [],
   "source": [
    "# ddof = 1, так как используем оценку с (n-1) в знаменателе\n",
    "\n",
    "average = Weight.mean()\n",
    "stdev = Weight.std(ddof=1)\n",
    "\n",
    "print(average)\n",
    "print(stdev)"
   ]
  },
  {
   "cell_type": "markdown",
   "metadata": {},
   "source": [
    "Ура! Что ещё замечательней – для стандартизации циклы нам тоже не понадобятся. Операции на массивах являются *векторизованными* (в некоторых языках программирования массивы называются векторами), то есть при применении к массиву они применяются к каждому элементу по отдельности:"
   ]
  },
  {
   "cell_type": "code",
   "execution_count": null,
   "metadata": {},
   "outputs": [],
   "source": [
    "(Weight - average) / stdev"
   ]
  },
  {
   "cell_type": "markdown",
   "metadata": {},
   "source": [
    "Результат действия выше – тоже массив, сохраним его в переменную и выведем на экран (при выводе на экран запятые убираются для красоты):"
   ]
  },
  {
   "cell_type": "code",
   "execution_count": null,
   "metadata": {},
   "outputs": [],
   "source": [
    "Res = (Weight - average) / stdev\n",
    "print(Res)"
   ]
  },
  {
   "cell_type": "markdown",
   "metadata": {},
   "source": [
    ">**Задача 2.** Создайте массив `Weight_kg` со значениями веса пингвинов в килограммах."
   ]
  },
  {
   "cell_type": "code",
   "execution_count": null,
   "metadata": {},
   "outputs": [],
   "source": [
    "### YOUR CODE HERE ###"
   ]
  },
  {
   "cell_type": "markdown",
   "metadata": {},
   "source": [
    "Теперь посмотрим, как выбрать элементы массива, которые удовлетворяют некоторому условию. Допустим, мы хотим выбрать только тех пингвинов, чей вес превышает 4 килограмма. Сформулируем условие и проверим его выполнение для всех элементов массива:"
   ]
  },
  {
   "cell_type": "code",
   "execution_count": null,
   "metadata": {},
   "outputs": [],
   "source": [
    "Weight_kg > 4"
   ]
  },
  {
   "cell_type": "markdown",
   "metadata": {},
   "source": [
    "Операция сравнения вновь выполнена поэлементно, на месте элементов, для которых условие верно, стоит `True`, а на месте элементов, для которых условие неверно – `False`. А как отфильтровать сами значения? Поместить условие в квадратные скобки, они всегда используются для выбора элементов:"
   ]
  },
  {
   "cell_type": "code",
   "execution_count": null,
   "metadata": {},
   "outputs": [],
   "source": [
    "Weight_kg[Weight_kg > 4]"
   ]
  },
  {
   "cell_type": "markdown",
   "metadata": {},
   "source": [
    "Для объединения нескольких условий используются символьные операторы:\n",
    "\n",
    "* `&` (символьное обозначение для `and`): оба условия верны;\n",
    "* `|` (символьное обозначение для `or`): хотя бы одно из условий верно;\n",
    "* `^` (во многих языках `xor`): ровно одно из условий верно.\n",
    "\n",
    "Важно: каждая часть условия должна заключаться в круглые скобки, так как символьные операторы очень сильные, и условие Python будет читать, начиная с них, что приведёт либо к ошибкам `TypeError`, либо к некорректным результатам фильтрации. \n",
    "\n",
    ">**Задача 3.** Используя массив `Weight_kg`, выведите на экран:\n",
    "* вес пингвинов не ниже 3.5 килограммов и не выше 4.5 килограммов;\n",
    "* вес пингвинов ниже 3 килограммов или выше 4.5 килограммов."
   ]
  },
  {
   "cell_type": "code",
   "execution_count": null,
   "metadata": {},
   "outputs": [],
   "source": [
    "### YOUR CODE HERE ###"
   ]
  },
  {
   "cell_type": "markdown",
   "metadata": {},
   "source": [
    "Отлично! Массивы – очень полезная структура в Python, однако долго на них останавливаться не будем, поскольку на практике мы часто имеем дело с таблицами или базами данных, а не с небольшими перечнями элементов. Тем не менее, отметим одну важную деталь: массивы всегда хранят данные только одного типа. Если в массив вперемешку вписать элементы разных типов, более сильный тип вытеснит более слабый:"
   ]
  },
  {
   "cell_type": "code",
   "execution_count": null,
   "metadata": {},
   "outputs": [],
   "source": [
    "# тип float вытеснил integer, все числа дробные\n",
    "print(np.array([2, 6, 7, 8, 5.5, 3]))\n",
    "\n",
    "# тип string вытеснил integer, всё в кавычках\n",
    "print(np.array([0, 1, 0, 1, 0, 0, \"0\"]))"
   ]
  },
  {
   "cell_type": "markdown",
   "metadata": {},
   "source": [
    "Эту особенность стоит иметь в виду при работе с реальными данными. Как мы сейчас увидим, на столбцы таблицы можно смотреть как на массивы, а это значит, что если на этапе описания числовых данных мы получаем что-то очень странное или сталкиваемся с сообщением об ошибке, не исключено, что в столбец с интересующим нам числовым показателем закрался текст (пробел, фраза `нет ответа`, дробное число с запятой вместо точки в качестве разделителя)."
   ]
  },
  {
   "cell_type": "markdown",
   "metadata": {},
   "source": [
    "В завершение этой части на примере небольшой таблицы рассмотрим устройство датафрейма `pandas` – структуры, с которой мы будем постоянно работать. Импортируем библиотеку `pandas` для работы с данными в табличном виде:"
   ]
  },
  {
   "cell_type": "code",
   "execution_count": null,
   "metadata": {},
   "outputs": [],
   "source": [
    "import pandas as pd"
   ]
  },
  {
   "cell_type": "markdown",
   "metadata": {},
   "source": [
    "Представим, что теперь помимо массива `Weight` у нас есть массив `Type` с указанием вида пингвина (данные по одним и тем же птицам, массивы одинаковой длины):"
   ]
  },
  {
   "cell_type": "code",
   "execution_count": null,
   "metadata": {},
   "outputs": [],
   "source": [
    "# Adelie – пингвины Адели\n",
    "# Chinstrap – Антарктические пингвины\n",
    "\n",
    "Type = np.array(['Adelie', 'Adelie', 'Adelie', 'Adelie', 'Adelie', 'Adelie',\n",
    "       'Adelie', 'Adelie', 'Adelie', 'Adelie', 'Adelie', 'Adelie',\n",
    "       'Adelie', 'Adelie', 'Adelie', 'Adelie', 'Adelie', 'Adelie',\n",
    "       'Adelie', 'Adelie', 'Adelie', 'Adelie', 'Adelie', 'Adelie',\n",
    "       'Adelie', 'Adelie', 'Adelie', 'Adelie', 'Adelie', 'Adelie',\n",
    "       'Adelie', 'Adelie', 'Adelie', 'Adelie', 'Adelie', 'Adelie',\n",
    "       'Adelie', 'Adelie', 'Adelie', 'Adelie', 'Adelie', 'Adelie',\n",
    "       'Adelie', 'Adelie', 'Adelie', 'Adelie', 'Adelie', 'Adelie',\n",
    "       'Adelie', 'Adelie', 'Adelie', 'Adelie', 'Adelie', 'Adelie',\n",
    "       'Adelie', 'Adelie', 'Chinstrap', 'Chinstrap', 'Chinstrap',\n",
    "       'Chinstrap', 'Chinstrap', 'Chinstrap', 'Chinstrap', 'Chinstrap',\n",
    "       'Chinstrap', 'Chinstrap', 'Chinstrap', 'Chinstrap', 'Chinstrap',\n",
    "       'Chinstrap', 'Chinstrap', 'Chinstrap', 'Chinstrap', 'Chinstrap',\n",
    "       'Chinstrap', 'Chinstrap', 'Chinstrap', 'Chinstrap', 'Chinstrap',\n",
    "       'Chinstrap', 'Chinstrap', 'Chinstrap', 'Chinstrap', 'Chinstrap',\n",
    "       'Chinstrap', 'Chinstrap', 'Chinstrap', 'Chinstrap', 'Chinstrap',\n",
    "       'Chinstrap', 'Chinstrap', 'Chinstrap', 'Chinstrap', 'Chinstrap',\n",
    "       'Chinstrap', 'Chinstrap', 'Chinstrap', 'Chinstrap', 'Chinstrap',\n",
    "       'Chinstrap', 'Chinstrap', 'Chinstrap', 'Chinstrap', 'Chinstrap',\n",
    "       'Chinstrap', 'Chinstrap', 'Chinstrap', 'Chinstrap', 'Chinstrap',\n",
    "       'Chinstrap', 'Chinstrap', 'Chinstrap', 'Chinstrap', 'Chinstrap',\n",
    "       'Chinstrap', 'Chinstrap', 'Chinstrap', 'Chinstrap', 'Chinstrap',\n",
    "       'Chinstrap', 'Chinstrap', 'Chinstrap', 'Chinstrap', 'Chinstrap'])"
   ]
  },
  {
   "cell_type": "markdown",
   "metadata": {},
   "source": [
    "Объединим их в датафрейм `pandas` с двумя столбцами, `Weight` и `Type`:"
   ]
  },
  {
   "cell_type": "code",
   "execution_count": null,
   "metadata": {},
   "outputs": [],
   "source": [
    "df = pd.DataFrame({\"Weight\": Weight, \"Type\": Type})\n",
    "df"
   ]
  },
  {
   "cell_type": "markdown",
   "metadata": {},
   "source": [
    "Объект `df`, который мы только что получили, это **датафрейм** `pandas`. Как можно догадаться по коду выше, эта структура изнутри похожа на словарь, где ключами являются названия столбцов, а значениями – массивы. Действительно, вызов отдельного столбца производится также, как и выбор записи по ключу словаря:"
   ]
  },
  {
   "cell_type": "code",
   "execution_count": null,
   "metadata": {},
   "outputs": [],
   "source": [
    "df[\"Weight\"]"
   ]
  },
  {
   "cell_type": "code",
   "execution_count": null,
   "metadata": {},
   "outputs": [],
   "source": [
    "# среднее по столбцу\n",
    "df[\"Weight\"].mean()"
   ]
  },
  {
   "cell_type": "code",
   "execution_count": null,
   "metadata": {},
   "outputs": [],
   "source": [
    "# ст отклонение\n",
    "df[\"Weight\"].std()"
   ]
  },
  {
   "cell_type": "markdown",
   "metadata": {},
   "source": [
    "Поработаем с этим маленьким датафреймом, чтобы вспомнить полезные функции и методы. "
   ]
  },
  {
   "cell_type": "markdown",
   "metadata": {},
   "source": [
    "### Часть 2. Описательные статистики и простая группировка\n",
    "\n",
    "Выведем техническую информацию о датафрейме – применим метод `.info()`:"
   ]
  },
  {
   "cell_type": "code",
   "execution_count": null,
   "metadata": {},
   "outputs": [],
   "source": [
    "df.info()"
   ]
  },
  {
   "cell_type": "markdown",
   "metadata": {},
   "source": [
    "Этот метод возвращает сводную информацию: \n",
    "\n",
    "* число строк и столбцов (здесь 124 строки и два столбца);\n",
    "* названия столбцов;\n",
    "* число заполненных ячеек в каждом столбце (здесь все заполнены, `124 non-null`);\n",
    "* типы столбцов (первый столбец целочисленный `int64`, второй – текстовый `object`)."
   ]
  },
  {
   "cell_type": "markdown",
   "metadata": {},
   "source": [
    "Отдельно запросим число строк и столбцов в датафрейме. Эта информация хранится в атрибуте `shape`:"
   ]
  },
  {
   "cell_type": "code",
   "execution_count": null,
   "metadata": {},
   "outputs": [],
   "source": [
    "print(df.shape)\n",
    "print(\"Число строк:\", df.shape[0])\n",
    "print(\"Число столбцов\", df.shape[1])"
   ]
  },
  {
   "cell_type": "markdown",
   "metadata": {},
   "source": [
    "Выведем описательные статистики для всех числовых столбцов датафрейма, здесь такой один:"
   ]
  },
  {
   "cell_type": "code",
   "execution_count": null,
   "metadata": {},
   "outputs": [],
   "source": [
    "df.describe()"
   ]
  },
  {
   "cell_type": "markdown",
   "metadata": {},
   "source": [
    ">**Вопрос.** Проинтерпретируйте полученные значения."
   ]
  },
  {
   "cell_type": "markdown",
   "metadata": {},
   "source": [
    "Запросим, наоборот, информацию только по текстовым столбцам датафрейма (тип `object` как аналог `string`):"
   ]
  },
  {
   "cell_type": "code",
   "execution_count": null,
   "metadata": {},
   "outputs": [],
   "source": [
    "df.describe(include = \"object\")"
   ]
  },
  {
   "cell_type": "markdown",
   "metadata": {},
   "source": [
    ">**Вопрос.** Проинтерпретируйте полученные значения."
   ]
  },
  {
   "cell_type": "markdown",
   "metadata": {},
   "source": [
    "Сгруппируем строки в датафрейме на основе значений столбца `Type` – воспользуемся методом `.groupby()`:"
   ]
  },
  {
   "cell_type": "code",
   "execution_count": null,
   "metadata": {},
   "outputs": [],
   "source": [
    "df.groupby(\"Type\")"
   ]
  },
  {
   "cell_type": "markdown",
   "metadata": {},
   "source": [
    "Метод `.groupby()` возвращает объект специального типа `GroupBy`, который изнутри похож на список с парами, где на первом месте стоит название группы, а на втором – датафрейм со строками, соответствующими этой группе. Можно убедиться в этом, запустив цикл ниже:"
   ]
  },
  {
   "cell_type": "code",
   "execution_count": null,
   "metadata": {},
   "outputs": [],
   "source": [
    "for g in df.groupby(\"Type\"):\n",
    "    print(g)"
   ]
  },
  {
   "cell_type": "markdown",
   "metadata": {},
   "source": [
    "На что похож список пар? На словарь! А это означает, что из результата, полученного с помощью `.groupby()`, можно выбрать отдельный столбец (по его названию) и запросить для него описательные статистики с учётом деления на группы:"
   ]
  },
  {
   "cell_type": "code",
   "execution_count": null,
   "metadata": {},
   "outputs": [],
   "source": [
    "df.groupby(\"Type\")[\"Weight\"].describe()"
   ]
  },
  {
   "cell_type": "markdown",
   "metadata": {},
   "source": [
    "Отдельные описательные статистики тоже можно получить, причём очень разными способами. Однако пока мы не будем в это углубляться, метод `.describe()` выводит перечень необходимых статистик, этого на этом этапе достаточно (кому интересно – посмотрите [документацию]() для метода `.agg()` с примерами его использования). Лучше посмотрим, как выбрать строки, которые соответствуют каждой группе.\n",
    "\n",
    "Вспомним, как мы формулировали условия для массивов и проделаем то же для датафреймов. Проверим, какие строки соответствуют пингвинам Адели:"
   ]
  },
  {
   "cell_type": "code",
   "execution_count": null,
   "metadata": {},
   "outputs": [],
   "source": [
    "df[\"Type\"] == \"Adelie\""
   ]
  },
  {
   "cell_type": "markdown",
   "metadata": {},
   "source": [
    "Как и в случае с массивами, мы получили набор из `True` и `False` (только теперь это не просто массив, а столбец датафрейма, обратите внимание на индексы значений слева, это номера строк в маленькой таблице из одного столбца). Поместим условие в квадратные скобки после `df` и отфильтруем строки:"
   ]
  },
  {
   "cell_type": "code",
   "execution_count": null,
   "metadata": {},
   "outputs": [],
   "source": [
    "df_a = df[df[\"Type\"] == \"Adelie\"]\n",
    "df_a"
   ]
  },
  {
   "cell_type": "markdown",
   "metadata": {},
   "source": [
    "Поступим точно так же со вторым видом пингвинов:"
   ]
  },
  {
   "cell_type": "code",
   "execution_count": null,
   "metadata": {},
   "outputs": [],
   "source": [
    "df_c = df[df[\"Type\"] == \"Chinstrap\"]\n",
    "df_c"
   ]
  }
 ],
 "metadata": {
  "kernelspec": {
   "display_name": "Python 3",
   "language": "python",
   "name": "python3"
  },
  "language_info": {
   "codemirror_mode": {
    "name": "ipython",
    "version": 3
   },
   "file_extension": ".py",
   "mimetype": "text/x-python",
   "name": "python",
   "nbconvert_exporter": "python",
   "pygments_lexer": "ipython3",
   "version": "3.7.4"
  }
 },
 "nbformat": 4,
 "nbformat_minor": 2
}
