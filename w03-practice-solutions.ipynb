{
 "cells": [
  {
   "cell_type": "markdown",
   "metadata": {},
   "source": [
    "# Основы анализа данных в Python\n",
    "\n",
    "*Алла Тамбовцева*\n",
    "\n",
    "## Практикум 4. Визуализация данных: часть 1"
   ]
  },
  {
   "cell_type": "markdown",
   "metadata": {},
   "source": [
    "Импортируем библиотеки `numpy` и `pandas` с сокращённым названием:"
   ]
  },
  {
   "cell_type": "code",
   "execution_count": 1,
   "metadata": {},
   "outputs": [],
   "source": [
    "import numpy as np\n",
    "import pandas as pd"
   ]
  },
  {
   "cell_type": "markdown",
   "metadata": {},
   "source": [
    "## Часть 1: вспоминаем распределения и изучаем скошенность"
   ]
  },
  {
   "cell_type": "markdown",
   "metadata": {},
   "source": [
    "Воспользуемся библиотекой `numpy` для того, чтобы сгенерировать выборки объёма $n=100$ из трёх различных распределений:\n",
    "\n",
    "* стандартного нормального;\n",
    "* экспоненциального с $\\beta=1$;\n",
    "* смешанного: к выборке из стандартного нормального добавляем значения –5, –10 и –12.\n",
    "\n",
    "Так как выборки у всех будут генерироваться разные за счёт случайности (псевдослучайности) выбора, для воспроизводимости результатов зафиксируем стартовую точку алгоритма `seed`, равную 999 (это может быть любое целое неотрицательное число, главное, что если оно у всех одинаковое, выборки тоже будут одинаковы)."
   ]
  },
  {
   "cell_type": "code",
   "execution_count": 2,
   "metadata": {},
   "outputs": [],
   "source": [
    "np.random.seed(999)\n",
    "\n",
    "# три выборки sample объема 100\n",
    "\n",
    "sample_norm = np.random.normal(size = 100)\n",
    "sample_exp = np.random.exponential(size = 100)\n",
    "sample_skewed = np.append(np.random.normal(size = 94), \n",
    "                          np.array([-5, -5, -10, -10, -10, -12]))"
   ]
  },
  {
   "cell_type": "markdown",
   "metadata": {},
   "source": [
    "> **Пояснения к коду.** В `numpy` есть модуль `random` для имитации случайного выбора и генерации выборок из различных распределений. Функция `normal()` извлекает выборку фиксированного объема `size` из нормального распределения с известным математическим ожиданием и стандартным отклонением (аргументы `loc` и `scale` соответственно). По умолчанию `loc` равен 0, а `scale` – 1, что соответствует стандартному нормальному распределению. С экспоненциальным распределением похожая история. Функция `exponential()` генерирует случайную выборку из этого распределения, параметр распределения `beta` по умолчанию равен 1, поэтому мы его не добавляем. А вот в последнем случае мы генерируем выборку из стандартного нормального распределения размера 94, а затем «приклеиваем» к ней нехарактерные значения. Выполняем это действие с помощью функции `append()` из `numpy`, она выполняет объединение массивов. Оператор `+`, который подошел бы для двух списков, тут не годится, поскольку он будет выполнять поэлементное сложение элементов двух массивов."
   ]
  },
  {
   "cell_type": "markdown",
   "metadata": {},
   "source": [
    "Объединим эти выборки в один датафрейм по столбцам (для этого и генерировали выборки одинакового размера, чтобы без проблем получить таблицу из 100 строк):"
   ]
  },
  {
   "cell_type": "code",
   "execution_count": 3,
   "metadata": {},
   "outputs": [
    {
     "data": {
      "text/html": [
       "<div>\n",
       "<style scoped>\n",
       "    .dataframe tbody tr th:only-of-type {\n",
       "        vertical-align: middle;\n",
       "    }\n",
       "\n",
       "    .dataframe tbody tr th {\n",
       "        vertical-align: top;\n",
       "    }\n",
       "\n",
       "    .dataframe thead th {\n",
       "        text-align: right;\n",
       "    }\n",
       "</style>\n",
       "<table border=\"1\" class=\"dataframe\">\n",
       "  <thead>\n",
       "    <tr style=\"text-align: right;\">\n",
       "      <th></th>\n",
       "      <th>s1</th>\n",
       "      <th>s2</th>\n",
       "      <th>s3</th>\n",
       "    </tr>\n",
       "  </thead>\n",
       "  <tbody>\n",
       "    <tr>\n",
       "      <th>0</th>\n",
       "      <td>0.127158</td>\n",
       "      <td>0.659916</td>\n",
       "      <td>-0.578383</td>\n",
       "    </tr>\n",
       "    <tr>\n",
       "      <th>1</th>\n",
       "      <td>1.401891</td>\n",
       "      <td>1.069682</td>\n",
       "      <td>-0.791310</td>\n",
       "    </tr>\n",
       "    <tr>\n",
       "      <th>2</th>\n",
       "      <td>0.314815</td>\n",
       "      <td>2.720017</td>\n",
       "      <td>1.068553</td>\n",
       "    </tr>\n",
       "    <tr>\n",
       "      <th>3</th>\n",
       "      <td>-0.858449</td>\n",
       "      <td>0.783343</td>\n",
       "      <td>-0.500550</td>\n",
       "    </tr>\n",
       "    <tr>\n",
       "      <th>4</th>\n",
       "      <td>-0.266134</td>\n",
       "      <td>0.333437</td>\n",
       "      <td>0.895741</td>\n",
       "    </tr>\n",
       "    <tr>\n",
       "      <th>5</th>\n",
       "      <td>-0.648901</td>\n",
       "      <td>0.246681</td>\n",
       "      <td>-0.484718</td>\n",
       "    </tr>\n",
       "    <tr>\n",
       "      <th>6</th>\n",
       "      <td>1.566268</td>\n",
       "      <td>1.356177</td>\n",
       "      <td>0.086599</td>\n",
       "    </tr>\n",
       "    <tr>\n",
       "      <th>7</th>\n",
       "      <td>-2.091370</td>\n",
       "      <td>0.688116</td>\n",
       "      <td>-0.504001</td>\n",
       "    </tr>\n",
       "    <tr>\n",
       "      <th>8</th>\n",
       "      <td>1.456328</td>\n",
       "      <td>0.181994</td>\n",
       "      <td>1.638309</td>\n",
       "    </tr>\n",
       "    <tr>\n",
       "      <th>9</th>\n",
       "      <td>0.945293</td>\n",
       "      <td>3.200099</td>\n",
       "      <td>1.631034</td>\n",
       "    </tr>\n",
       "  </tbody>\n",
       "</table>\n",
       "</div>"
      ],
      "text/plain": [
       "         s1        s2        s3\n",
       "0  0.127158  0.659916 -0.578383\n",
       "1  1.401891  1.069682 -0.791310\n",
       "2  0.314815  2.720017  1.068553\n",
       "3 -0.858449  0.783343 -0.500550\n",
       "4 -0.266134  0.333437  0.895741\n",
       "5 -0.648901  0.246681 -0.484718\n",
       "6  1.566268  1.356177  0.086599\n",
       "7 -2.091370  0.688116 -0.504001\n",
       "8  1.456328  0.181994  1.638309\n",
       "9  0.945293  3.200099  1.631034"
      ]
     },
     "execution_count": 3,
     "metadata": {},
     "output_type": "execute_result"
    }
   ],
   "source": [
    "df = pd.DataFrame({\"s1\" : sample_norm, \"s2\" : sample_exp, \n",
    "                   \"s3\" : sample_skewed})\n",
    "df.head(10)"
   ]
  },
  {
   "cell_type": "markdown",
   "metadata": {},
   "source": [
    "Построим гистограммы для каждой выборки и прокомментируем форму распределения:"
   ]
  },
  {
   "cell_type": "code",
   "execution_count": 4,
   "metadata": {},
   "outputs": [
    {
     "data": {
      "image/png": "[encoded data removed]",
      "text/plain": [
       "<Figure size 432x288 with 1 Axes>"
      ]
     },
     "metadata": {
      "needs_background": "light"
     },
     "output_type": "display_data"
    }
   ],
   "source": [
    "# из датафрейма df выбрать столбец s1\n",
    "# color – цвет заливки\n",
    "# edgecolor – цвет границ столбцов\n",
    "\n",
    "df.hist(\"s1\", color = \"limegreen\", edgecolor = \"white\");"
   ]
  },
  {
   "cell_type": "markdown",
   "metadata": {},
   "source": [
    "> Распределение симметрично."
   ]
  },
  {
   "cell_type": "code",
   "execution_count": 5,
   "metadata": {},
   "outputs": [
    {
     "data": {
      "image/png": "[encoded data removed]",
      "text/plain": [
       "<Figure size 432x288 with 1 Axes>"
      ]
     },
     "metadata": {
      "needs_background": "light"
     },
     "output_type": "display_data"
    }
   ],
   "source": [
    "df.hist(\"s2\", color = \"limegreen\", edgecolor = \"white\");"
   ]
  },
  {
   "cell_type": "markdown",
   "metadata": {},
   "source": [
    "> Распределение скошено вправо."
   ]
  },
  {
   "cell_type": "code",
   "execution_count": 6,
   "metadata": {},
   "outputs": [
    {
     "data": {
      "image/png": "[encoded data removed]",
      "text/plain": [
       "<Figure size 432x288 with 1 Axes>"
      ]
     },
     "metadata": {
      "needs_background": "light"
     },
     "output_type": "display_data"
    }
   ],
   "source": [
    "df.hist(\"s3\", color = \"limegreen\", edgecolor = \"white\");"
   ]
  },
  {
   "cell_type": "markdown",
   "metadata": {},
   "source": [
    "> Распределение скошено влево."
   ]
  },
  {
   "cell_type": "markdown",
   "metadata": {},
   "source": [
    "А теперь формально зафиксируем скошенность полученных распределений – вычислим коэффициент скошенности (*skewness*):"
   ]
  },
  {
   "cell_type": "code",
   "execution_count": 7,
   "metadata": {},
   "outputs": [
    {
     "data": {
      "text/plain": [
       "s1   -0.01\n",
       "s2    1.35\n",
       "s3   -3.17\n",
       "dtype: float64"
      ]
     },
     "execution_count": 7,
     "metadata": {},
     "output_type": "execute_result"
    }
   ],
   "source": [
    "# округлим до второго знака\n",
    "\n",
    "df.skew().round(2)"
   ]
  },
  {
   "cell_type": "markdown",
   "metadata": {},
   "source": [
    "> Значение коэффициента скошенности (коэффициента асимметрии) может быть как положительным, так и отрицательным. Значения около 0 соответствуют симметричным распределениям, отрицательные – скошенным влево, положительные – скошенным вправо. Здесь все логично: у первой выборки коэффициент почти 0, у второй – положительный, у третьей – отрицательный, причем довольно большой по модулю (асимметрия считается сильной, поскольку здесь есть небольшое число нетипичных значений, сильно отдаленных от остальных)."
   ]
  },
  {
   "cell_type": "markdown",
   "metadata": {},
   "source": [
    "Полезный и милый [пост](https://community.hellotriad.com/psychology/post/skewed-distributions-may-not-be-normal-but-they-don-t-have-to-be-iLrwghSXAY6QHdW) про скошенность и положение мер центральной тенденции при разных типах скошенности."
   ]
  },
  {
   "cell_type": "markdown",
   "metadata": {},
   "source": [
    "## Часть 2: строим гистограммы и столбиковые диаграммы"
   ]
  },
  {
   "cell_type": "markdown",
   "metadata": {},
   "source": [
    "В этой части предлагается поработать с небольшой выгрузкой новостей с сайта [N+1](https://nplus1.ru/) за октябрь-ноябрь этого года. \n",
    "\n",
    "Переменные в файле `news.xlsx`:\n",
    "\n",
    "* `title`: заголовок новости;\n",
    "* `author`: автор новости;\n",
    "* `date`: дата;\n",
    "* `diffc`: сложность новости;\n",
    "* `rubrics`: рубрики, к которым относится новость."
   ]
  },
  {
   "cell_type": "markdown",
   "metadata": {},
   "source": [
    "Загрузим данные из файла Excel:"
   ]
  },
  {
   "cell_type": "code",
   "execution_count": 8,
   "metadata": {},
   "outputs": [],
   "source": [
    "news = pd.read_excel(\"news.xlsx\")"
   ]
  },
  {
   "cell_type": "markdown",
   "metadata": {},
   "source": [
    "### Задача 0\n",
    "\n",
    "Выведите описательные статистики для всех столбцов датафрейма `news`. Прокомментируйте полученные результаты. При необходимости скорректируйте полученный датафрейм и сохраните изменения."
   ]
  },
  {
   "cell_type": "code",
   "execution_count": 9,
   "metadata": {},
   "outputs": [
    {
     "data": {
      "text/html": [
       "<div>\n",
       "<style scoped>\n",
       "    .dataframe tbody tr th:only-of-type {\n",
       "        vertical-align: middle;\n",
       "    }\n",
       "\n",
       "    .dataframe tbody tr th {\n",
       "        vertical-align: top;\n",
       "    }\n",
       "\n",
       "    .dataframe thead th {\n",
       "        text-align: right;\n",
       "    }\n",
       "</style>\n",
       "<table border=\"1\" class=\"dataframe\">\n",
       "  <thead>\n",
       "    <tr style=\"text-align: right;\">\n",
       "      <th></th>\n",
       "      <th>diffc</th>\n",
       "    </tr>\n",
       "  </thead>\n",
       "  <tbody>\n",
       "    <tr>\n",
       "      <th>count</th>\n",
       "      <td>130.000000</td>\n",
       "    </tr>\n",
       "    <tr>\n",
       "      <th>mean</th>\n",
       "      <td>2.922308</td>\n",
       "    </tr>\n",
       "    <tr>\n",
       "      <th>std</th>\n",
       "      <td>1.387556</td>\n",
       "    </tr>\n",
       "    <tr>\n",
       "      <th>min</th>\n",
       "      <td>1.100000</td>\n",
       "    </tr>\n",
       "    <tr>\n",
       "      <th>25%</th>\n",
       "      <td>1.900000</td>\n",
       "    </tr>\n",
       "    <tr>\n",
       "      <th>50%</th>\n",
       "      <td>2.500000</td>\n",
       "    </tr>\n",
       "    <tr>\n",
       "      <th>75%</th>\n",
       "      <td>3.500000</td>\n",
       "    </tr>\n",
       "    <tr>\n",
       "      <th>max</th>\n",
       "      <td>7.300000</td>\n",
       "    </tr>\n",
       "  </tbody>\n",
       "</table>\n",
       "</div>"
      ],
      "text/plain": [
       "            diffc\n",
       "count  130.000000\n",
       "mean     2.922308\n",
       "std      1.387556\n",
       "min      1.100000\n",
       "25%      1.900000\n",
       "50%      2.500000\n",
       "75%      3.500000\n",
       "max      7.300000"
      ]
     },
     "execution_count": 9,
     "metadata": {},
     "output_type": "execute_result"
    }
   ],
   "source": [
    "# числовой столбец один – сложность\n",
    "news.describe()"
   ]
  },
  {
   "cell_type": "code",
   "execution_count": 10,
   "metadata": {},
   "outputs": [
    {
     "data": {
      "text/html": [
       "<div>\n",
       "<style scoped>\n",
       "    .dataframe tbody tr th:only-of-type {\n",
       "        vertical-align: middle;\n",
       "    }\n",
       "\n",
       "    .dataframe tbody tr th {\n",
       "        vertical-align: top;\n",
       "    }\n",
       "\n",
       "    .dataframe thead th {\n",
       "        text-align: right;\n",
       "    }\n",
       "</style>\n",
       "<table border=\"1\" class=\"dataframe\">\n",
       "  <thead>\n",
       "    <tr style=\"text-align: right;\">\n",
       "      <th></th>\n",
       "      <th>title</th>\n",
       "      <th>author</th>\n",
       "      <th>date</th>\n",
       "      <th>rubrics</th>\n",
       "    </tr>\n",
       "  </thead>\n",
       "  <tbody>\n",
       "    <tr>\n",
       "      <th>count</th>\n",
       "      <td>130</td>\n",
       "      <td>130</td>\n",
       "      <td>130</td>\n",
       "      <td>130</td>\n",
       "    </tr>\n",
       "    <tr>\n",
       "      <th>unique</th>\n",
       "      <td>125</td>\n",
       "      <td>12</td>\n",
       "      <td>22</td>\n",
       "      <td>36</td>\n",
       "    </tr>\n",
       "    <tr>\n",
       "      <th>top</th>\n",
       "      <td>Орнитологи отправили камышовок в виртуальный Н...</td>\n",
       "      <td>Олег Лищук</td>\n",
       "      <td>2024-10-22</td>\n",
       "      <td>Медицина</td>\n",
       "    </tr>\n",
       "    <tr>\n",
       "      <th>freq</th>\n",
       "      <td>2</td>\n",
       "      <td>27</td>\n",
       "      <td>13</td>\n",
       "      <td>28</td>\n",
       "    </tr>\n",
       "  </tbody>\n",
       "</table>\n",
       "</div>"
      ],
      "text/plain": [
       "                                                    title      author  \\\n",
       "count                                                 130         130   \n",
       "unique                                                125          12   \n",
       "top     Орнитологи отправили камышовок в виртуальный Н...  Олег Лищук   \n",
       "freq                                                    2          27   \n",
       "\n",
       "              date   rubrics  \n",
       "count          130       130  \n",
       "unique          22        36  \n",
       "top     2024-10-22  Медицина  \n",
       "freq            13        28  "
      ]
     },
     "execution_count": 10,
     "metadata": {},
     "output_type": "execute_result"
    }
   ],
   "source": [
    "# почти все – текстовые\n",
    "news.describe(include = \"object\")"
   ]
  },
  {
   "cell_type": "markdown",
   "metadata": {},
   "source": [
    "> **Проблема.** Заголовки у новостей всегда уникальные, а здесь в `title` число уникальных значений 125 из 130. В данном случае это означает только одно: в датафрейме есть несколько одинаковых строк. Чтобы от них избавиться, пригодится метод `.drop_duplicates()`, он удалит строки-дубликаты, оставив только один вариант повторяющейся строки."
   ]
  },
  {
   "cell_type": "code",
   "execution_count": 11,
   "metadata": {},
   "outputs": [],
   "source": [
    "# inplace = True, чтобы сохранить изменения в news\n",
    "\n",
    "news.drop_duplicates(inplace = True)"
   ]
  },
  {
   "cell_type": "markdown",
   "metadata": {},
   "source": [
    "### Задача 1\n",
    "\n",
    "Постройте гистограмму для сложности новости, измените цвет её заливки и цвет границ столбцов."
   ]
  },
  {
   "cell_type": "code",
   "execution_count": 12,
   "metadata": {},
   "outputs": [
    {
     "data": {
      "image/png": "[encoded data removed]",
      "text/plain": [
       "<Figure size 432x288 with 1 Axes>"
      ]
     },
     "metadata": {
      "needs_background": "light"
     },
     "output_type": "display_data"
    }
   ],
   "source": [
    "# вариант 1: применяем метод к столбцу\n",
    "# k – сокращение от black, b занято цветом blue\n",
    "\n",
    "news[\"diffc\"].hist(color = \"salmon\", edgecolor = \"k\");"
   ]
  },
  {
   "cell_type": "code",
   "execution_count": 13,
   "metadata": {},
   "outputs": [
    {
     "data": {
      "image/png": "[encoded data removed]",
      "text/plain": [
       "<Figure size 432x288 with 1 Axes>"
      ]
     },
     "metadata": {
      "needs_background": "light"
     },
     "output_type": "display_data"
    }
   ],
   "source": [
    "# вариант 2: применяем метод к датафрейму\n",
    "\n",
    "news.hist(\"diffc\", color = \"salmon\", edgecolor = \"k\");"
   ]
  },
  {
   "cell_type": "markdown",
   "metadata": {},
   "source": [
    "### Задача 2\n",
    "\n",
    "Измените у полученной гистограммы число столбцов, сделав его равным 5.\n",
    "\n",
    "**Подсказка:** аргумент `bins`."
   ]
  },
  {
   "cell_type": "code",
   "execution_count": 14,
   "metadata": {},
   "outputs": [
    {
     "data": {
      "image/png": "[encoded data removed]",
      "text/plain": [
       "<Figure size 432x288 with 1 Axes>"
      ]
     },
     "metadata": {
      "needs_background": "light"
     },
     "output_type": "display_data"
    }
   ],
   "source": [
    "# подходит для любого варианта с hist() выше\n",
    "\n",
    "news.hist(\"diffc\", color = \"salmon\", edgecolor = \"k\", bins = 5);"
   ]
  },
  {
   "cell_type": "markdown",
   "metadata": {},
   "source": [
    "### Задача 3\n",
    "\n",
    "Измените у полученной гистограммы шаг (интервал группировки), сделав его равным выборочному стандартному отклонению.\n",
    "\n",
    "**Подсказка:** все тот же аргумент `bins` и функция `arange()` из библиотеки `numpy`."
   ]
  },
  {
   "cell_type": "code",
   "execution_count": 15,
   "metadata": {},
   "outputs": [
    {
     "name": "stdout",
     "output_type": "stream",
     "text": [
      "[0.         1.36503574 2.73007149 4.09510723 5.46014297 6.82517872\n",
      " 8.19021446 9.5552502 ]\n"
     ]
    }
   ],
   "source": [
    "# создаем набор значений - границ столбцов\n",
    "# так, будут столбцы одинаковой ширины равной std,\n",
    "# от 0 до 1.365, от 1.365 до 2.73, итд\n",
    "\n",
    "cutoffs = np.arange(0, 10, news[\"diffc\"].std())\n",
    "print(cutoffs)"
   ]
  },
  {
   "cell_type": "code",
   "execution_count": 16,
   "metadata": {},
   "outputs": [
    {
     "data": {
      "image/png": "[encoded data removed]",
      "text/plain": [
       "<Figure size 432x288 with 1 Axes>"
      ]
     },
     "metadata": {
      "needs_background": "light"
     },
     "output_type": "display_data"
    }
   ],
   "source": [
    "# подставляем в bins полученный набор\n",
    "\n",
    "news.hist(\"diffc\", color = \"salmon\", edgecolor = \"k\", bins = cutoffs);"
   ]
  },
  {
   "cell_type": "markdown",
   "metadata": {},
   "source": [
    "### Задача 4\n",
    "\n",
    "Выведите таблицу частот для столбца `author`. Постройте столбиковую диаграмму для этого показателя. Что нужно сделать, чтобы авторы на диаграмме были упорядочены по алфавиту?"
   ]
  },
  {
   "cell_type": "code",
   "execution_count": 17,
   "metadata": {},
   "outputs": [
    {
     "data": {
      "text/plain": [
       "Олег Лищук          27\n",
       "Михаил Подрезов     23\n",
       "Слава Гоменюк       19\n",
       "Сергей Коленов      15\n",
       "Андрей Фокин        11\n",
       "Марина Попова       10\n",
       "Александр Войтюк     5\n",
       "Катерина Петрова     5\n",
       "Егор Конюхов         3\n",
       "Михаил Бойм          3\n",
       "Дмитрий Рудик        3\n",
       "Винера Андреева      1\n",
       "Name: author, dtype: int64"
      ]
     },
     "execution_count": 17,
     "metadata": {},
     "output_type": "execute_result"
    }
   ],
   "source": [
    "news[\"author\"].value_counts()"
   ]
  },
  {
   "cell_type": "code",
   "execution_count": 18,
   "metadata": {},
   "outputs": [
    {
     "data": {
      "image/png": "[encoded data removed]",
      "text/plain": [
       "<Figure size 432x288 with 1 Axes>"
      ]
     },
     "metadata": {
      "needs_background": "light"
     },
     "output_type": "display_data"
    }
   ],
   "source": [
    "# метод plot.bar(), применяется к таблице с частотами, \n",
    "# не к исходному столбцу\n",
    "\n",
    "news[\"author\"].value_counts().plot.bar();"
   ]
  },
  {
   "cell_type": "code",
   "execution_count": 19,
   "metadata": {},
   "outputs": [
    {
     "data": {
      "image/png": "[encoded data removed]",
      "text/plain": [
       "<Figure size 432x288 with 1 Axes>"
      ]
     },
     "metadata": {
      "needs_background": "light"
     },
     "output_type": "display_data"
    }
   ],
   "source": [
    "# чтобы упорядочить авторов по алфавиту, нужно предварительно отсортировать\n",
    "# их в таблице частот, имена авторов = индексы\n",
    "\n",
    "news[\"author\"].value_counts().sort_index().plot.bar();"
   ]
  },
  {
   "cell_type": "markdown",
   "metadata": {},
   "source": [
    "### Задача 5\n",
    "\n",
    "* Выведите таблицу частот для столбца `rubrics`. \n",
    "* Разбейте столбец `rubrics` на столбцы с отдельными рубриками (рубрики разделены запятыми) и сохраните датафрейм из полученных столбцов с названием `rubs`. \n",
    "\n",
    "**Подсказка:** метод `str.split()`."
   ]
  },
  {
   "cell_type": "code",
   "execution_count": 20,
   "metadata": {},
   "outputs": [
    {
     "data": {
      "text/plain": [
       "Медицина                                 28\n",
       "Зоология                                 12\n",
       "Экология и климат                        10\n",
       "Археология                                7\n",
       "Антропология, Археология                  7\n",
       "Физика                                    6\n",
       "Астрономия                                5\n",
       "Роботы и дроны                            5\n",
       "Палеонтология                             4\n",
       "Медицина, Психология                      4\n",
       "Зоология, Экология и климат               3\n",
       "Медицина, Биология                        3\n",
       "Авиация                                   3\n",
       "Химия                                     3\n",
       "Космонавтика                              2\n",
       "Биология, Медицина                        2\n",
       "Биология, Зоология                        2\n",
       "Антропология                              1\n",
       "Экология и климат, Зоология               1\n",
       "Математика                                1\n",
       "Археология, История                       1\n",
       "Медицина, Психология, Социология          1\n",
       "Медицина, История                         1\n",
       "Антропология, История                     1\n",
       "Зоология, Археология                      1\n",
       "Роботы и дроны, Медицина                  1\n",
       "История                                   1\n",
       "Зоология, Ботаника, Экология и климат     1\n",
       "Социология, Медицина, Психология          1\n",
       "Роботы и дроны, Гаджеты                   1\n",
       "Медицина, Социология                      1\n",
       "Социология, Медицина                      1\n",
       "Медицина, Экология и климат               1\n",
       "Геология                                  1\n",
       "Социология, Психология, Медицина          1\n",
       "Биология                                  1\n",
       "Name: rubrics, dtype: int64"
      ]
     },
     "execution_count": 20,
     "metadata": {},
     "output_type": "execute_result"
    }
   ],
   "source": [
    "# есть перечни рубрик через запятую\n",
    "news[\"rubrics\"].value_counts()"
   ]
  },
  {
   "cell_type": "code",
   "execution_count": 21,
   "metadata": {},
   "outputs": [
    {
     "data": {
      "text/plain": [
       "0                       [Зоология]\n",
       "1                   [Космонавтика]\n",
       "3                         [Физика]\n",
       "4      [Антропология,  Археология]\n",
       "5                       [Медицина]\n",
       "                  ...             \n",
       "125            [Экология и климат]\n",
       "126    [Антропология,  Археология]\n",
       "127                [Палеонтология]\n",
       "128                     [Медицина]\n",
       "129    [Антропология,  Археология]\n",
       "Name: rubrics, Length: 125, dtype: object"
      ]
     },
     "execution_count": 21,
     "metadata": {},
     "output_type": "execute_result"
    }
   ],
   "source": [
    "# простое разбиение – получаем столбец со списками \n",
    "# в ячейках, неудобно в рамках pandas\n",
    "\n",
    "news[\"rubrics\"].str.split(\",\")"
   ]
  },
  {
   "cell_type": "code",
   "execution_count": 22,
   "metadata": {},
   "outputs": [
    {
     "data": {
      "text/html": [
       "<div>\n",
       "<style scoped>\n",
       "    .dataframe tbody tr th:only-of-type {\n",
       "        vertical-align: middle;\n",
       "    }\n",
       "\n",
       "    .dataframe tbody tr th {\n",
       "        vertical-align: top;\n",
       "    }\n",
       "\n",
       "    .dataframe thead th {\n",
       "        text-align: right;\n",
       "    }\n",
       "</style>\n",
       "<table border=\"1\" class=\"dataframe\">\n",
       "  <thead>\n",
       "    <tr style=\"text-align: right;\">\n",
       "      <th></th>\n",
       "      <th>0</th>\n",
       "      <th>1</th>\n",
       "      <th>2</th>\n",
       "    </tr>\n",
       "  </thead>\n",
       "  <tbody>\n",
       "    <tr>\n",
       "      <th>0</th>\n",
       "      <td>Зоология</td>\n",
       "      <td>None</td>\n",
       "      <td>None</td>\n",
       "    </tr>\n",
       "    <tr>\n",
       "      <th>1</th>\n",
       "      <td>Космонавтика</td>\n",
       "      <td>None</td>\n",
       "      <td>None</td>\n",
       "    </tr>\n",
       "    <tr>\n",
       "      <th>3</th>\n",
       "      <td>Физика</td>\n",
       "      <td>None</td>\n",
       "      <td>None</td>\n",
       "    </tr>\n",
       "    <tr>\n",
       "      <th>4</th>\n",
       "      <td>Антропология</td>\n",
       "      <td>Археология</td>\n",
       "      <td>None</td>\n",
       "    </tr>\n",
       "    <tr>\n",
       "      <th>5</th>\n",
       "      <td>Медицина</td>\n",
       "      <td>None</td>\n",
       "      <td>None</td>\n",
       "    </tr>\n",
       "    <tr>\n",
       "      <th>...</th>\n",
       "      <td>...</td>\n",
       "      <td>...</td>\n",
       "      <td>...</td>\n",
       "    </tr>\n",
       "    <tr>\n",
       "      <th>125</th>\n",
       "      <td>Экология и климат</td>\n",
       "      <td>None</td>\n",
       "      <td>None</td>\n",
       "    </tr>\n",
       "    <tr>\n",
       "      <th>126</th>\n",
       "      <td>Антропология</td>\n",
       "      <td>Археология</td>\n",
       "      <td>None</td>\n",
       "    </tr>\n",
       "    <tr>\n",
       "      <th>127</th>\n",
       "      <td>Палеонтология</td>\n",
       "      <td>None</td>\n",
       "      <td>None</td>\n",
       "    </tr>\n",
       "    <tr>\n",
       "      <th>128</th>\n",
       "      <td>Медицина</td>\n",
       "      <td>None</td>\n",
       "      <td>None</td>\n",
       "    </tr>\n",
       "    <tr>\n",
       "      <th>129</th>\n",
       "      <td>Антропология</td>\n",
       "      <td>Археология</td>\n",
       "      <td>None</td>\n",
       "    </tr>\n",
       "  </tbody>\n",
       "</table>\n",
       "<p>125 rows × 3 columns</p>\n",
       "</div>"
      ],
      "text/plain": [
       "                     0            1     2\n",
       "0             Зоология         None  None\n",
       "1         Космонавтика         None  None\n",
       "3               Физика         None  None\n",
       "4         Антропология   Археология  None\n",
       "5             Медицина         None  None\n",
       "..                 ...          ...   ...\n",
       "125  Экология и климат         None  None\n",
       "126       Антропология   Археология  None\n",
       "127      Палеонтология         None  None\n",
       "128           Медицина         None  None\n",
       "129       Антропология   Археология  None\n",
       "\n",
       "[125 rows x 3 columns]"
      ]
     },
     "execution_count": 22,
     "metadata": {},
     "output_type": "execute_result"
    }
   ],
   "source": [
    "# expand = True – растягиваем списки на отдельные столбцы,\n",
    "# если рубрика одна, в двух последних столбцах None\n",
    "# если рубрики две, в последнем столбце None\n",
    "\n",
    "rubs = news[\"rubrics\"].str.split(\",\", expand = True)\n",
    "rubs"
   ]
  },
  {
   "cell_type": "markdown",
   "metadata": {},
   "source": [
    "> **Дополнительно.** Если полученные столбцы нам нужно добавить в `news` (сразу все), можем доклеить их справа через функцию `concat()` из `pandas`. По умолчанию функция выполняет объединение по строкам (второй датафрейм доклеивается к первому снизу), поэтому для объединения по столбцам (второй датафрейм доклеивается к первому справа) нужно добавить аргумент `axis=1` (0 – по строкам, 1 – по столбцам):"
   ]
  },
  {
   "cell_type": "code",
   "execution_count": 23,
   "metadata": {},
   "outputs": [
    {
     "data": {
      "text/html": [
       "<div>\n",
       "<style scoped>\n",
       "    .dataframe tbody tr th:only-of-type {\n",
       "        vertical-align: middle;\n",
       "    }\n",
       "\n",
       "    .dataframe tbody tr th {\n",
       "        vertical-align: top;\n",
       "    }\n",
       "\n",
       "    .dataframe thead th {\n",
       "        text-align: right;\n",
       "    }\n",
       "</style>\n",
       "<table border=\"1\" class=\"dataframe\">\n",
       "  <thead>\n",
       "    <tr style=\"text-align: right;\">\n",
       "      <th></th>\n",
       "      <th>title</th>\n",
       "      <th>author</th>\n",
       "      <th>date</th>\n",
       "      <th>diffc</th>\n",
       "      <th>rubrics</th>\n",
       "      <th>0</th>\n",
       "      <th>1</th>\n",
       "      <th>2</th>\n",
       "    </tr>\n",
       "  </thead>\n",
       "  <tbody>\n",
       "    <tr>\n",
       "      <th>0</th>\n",
       "      <td>Орнитологи отправили камышовок в виртуальный Н...</td>\n",
       "      <td>Сергей Коленов</td>\n",
       "      <td>2024-11-18</td>\n",
       "      <td>4.1</td>\n",
       "      <td>Зоология</td>\n",
       "      <td>Зоология</td>\n",
       "      <td>None</td>\n",
       "      <td>None</td>\n",
       "    </tr>\n",
       "    <tr>\n",
       "      <th>1</th>\n",
       "      <td>Шестой полет Starship перенесли на 20 ноября. ...</td>\n",
       "      <td>Андрей Фокин</td>\n",
       "      <td>2024-11-18</td>\n",
       "      <td>1.1</td>\n",
       "      <td>Космонавтика</td>\n",
       "      <td>Космонавтика</td>\n",
       "      <td>None</td>\n",
       "      <td>None</td>\n",
       "    </tr>\n",
       "    <tr>\n",
       "      <th>3</th>\n",
       "      <td>Механический резонатор стал кубитом. Приготовл...</td>\n",
       "      <td>Егор Конюхов</td>\n",
       "      <td>2024-11-18</td>\n",
       "      <td>5.3</td>\n",
       "      <td>Физика</td>\n",
       "      <td>Физика</td>\n",
       "      <td>None</td>\n",
       "      <td>None</td>\n",
       "    </tr>\n",
       "  </tbody>\n",
       "</table>\n",
       "</div>"
      ],
      "text/plain": [
       "                                               title          author  \\\n",
       "0  Орнитологи отправили камышовок в виртуальный Н...  Сергей Коленов   \n",
       "1  Шестой полет Starship перенесли на 20 ноября. ...    Андрей Фокин   \n",
       "3  Механический резонатор стал кубитом. Приготовл...    Егор Конюхов   \n",
       "\n",
       "         date  diffc       rubrics             0     1     2  \n",
       "0  2024-11-18    4.1      Зоология      Зоология  None  None  \n",
       "1  2024-11-18    1.1  Космонавтика  Космонавтика  None  None  \n",
       "3  2024-11-18    5.3        Физика        Физика  None  None  "
      ]
     },
     "execution_count": 23,
     "metadata": {},
     "output_type": "execute_result"
    }
   ],
   "source": [
    "news2 = pd.concat([news, rubs], axis = 1)\n",
    "news2.head(3)"
   ]
  },
  {
   "cell_type": "markdown",
   "metadata": {},
   "source": [
    "### Задача 6\n",
    "\n",
    "Выведите таблицу частот для первого столбца в `rubs`, сохраните ее в переменную `tab`. "
   ]
  },
  {
   "cell_type": "code",
   "execution_count": 24,
   "metadata": {},
   "outputs": [
    {
     "data": {
      "text/plain": [
       "Медицина             39\n",
       "Зоология             17\n",
       "Экология и климат    11\n",
       "Антропология          9\n",
       "Археология            8\n",
       "Роботы и дроны        7\n",
       "Физика                6\n",
       "Биология              5\n",
       "Астрономия            5\n",
       "Палеонтология         4\n",
       "Авиация               3\n",
       "Социология            3\n",
       "Химия                 3\n",
       "Космонавтика          2\n",
       "Геология              1\n",
       "История               1\n",
       "Математика            1\n",
       "Name: 0, dtype: int64"
      ]
     },
     "execution_count": 24,
     "metadata": {},
     "output_type": "execute_result"
    }
   ],
   "source": [
    "# нет текстовых названий, названия = индексы с 0\n",
    "\n",
    "tab = rubs[0].value_counts()\n",
    "tab"
   ]
  },
  {
   "cell_type": "markdown",
   "metadata": {},
   "source": [
    "### Задача 7\n",
    "\n",
    "Как можно заметить, в `tab` получилось довольно много категорий, причем некоторые из них довольно редкие (частота менее 5). Ниже приведен код для того, чтобы эти редкие категории «схлопнуть» в одну категорию *Другое*. "
   ]
  },
  {
   "cell_type": "code",
   "execution_count": 25,
   "metadata": {},
   "outputs": [
    {
     "data": {
      "text/plain": [
       "Палеонтология    4\n",
       "Авиация          3\n",
       "Социология       3\n",
       "Химия            3\n",
       "Космонавтика     2\n",
       "Геология         1\n",
       "История          1\n",
       "Математика       1\n",
       "Name: 0, dtype: int64"
      ]
     },
     "execution_count": 25,
     "metadata": {},
     "output_type": "execute_result"
    }
   ],
   "source": [
    "# tab – объект pandas Series, один столбец таблицы,\n",
    "# с парами индекс-значение (index-values), \n",
    "# значит, на его значения можно накладывать условия\n",
    "\n",
    "tab[tab < 5]"
   ]
  },
  {
   "cell_type": "code",
   "execution_count": 26,
   "metadata": {},
   "outputs": [
    {
     "data": {
      "text/plain": [
       "Index(['Палеонтология', 'Авиация', 'Социология', 'Химия', 'Космонавтика',\n",
       "       'Геология', 'История', 'Математика'],\n",
       "      dtype='object')"
      ]
     },
     "execution_count": 26,
     "metadata": {},
     "output_type": "execute_result"
    }
   ],
   "source": [
    "# а у выбранных пар можно забрать только \n",
    "# названия категорий – index\n",
    "\n",
    "tab[tab < 5].index"
   ]
  },
  {
   "cell_type": "code",
   "execution_count": 27,
   "metadata": {},
   "outputs": [
    {
     "data": {
      "text/plain": [
       "Медицина             39\n",
       "Зоология             17\n",
       "Экология и климат    11\n",
       "Антропология          9\n",
       "Археология            8\n",
       "Роботы и дроны        7\n",
       "Физика                6\n",
       "Биология              5\n",
       "Астрономия            5\n",
       "Другое                4\n",
       "Другое                3\n",
       "Другое                3\n",
       "Другое                3\n",
       "Другое                2\n",
       "Другое                1\n",
       "Другое                1\n",
       "Другое                1\n",
       "Name: 0, dtype: int64"
      ]
     },
     "execution_count": 27,
     "metadata": {},
     "output_type": "execute_result"
    }
   ],
   "source": [
    "# пишем функцию, которая принимает название x,\n",
    "# если оно в списке категорий выше, возвращает Другое,\n",
    "# если нет – возращает само название x\n",
    "\n",
    "get_other = lambda x: \"Другое\" if x in tab[tab < 5].index else x\n",
    "\n",
    "# функцию помещаем в rename(), чтобы применить к tab\n",
    "# inplace = True – сохраняем изменения\n",
    "\n",
    "tab.rename(get_other, inplace = True)\n",
    "tab"
   ]
  },
  {
   "cell_type": "code",
   "execution_count": 28,
   "metadata": {},
   "outputs": [
    {
     "data": {
      "text/plain": [
       "Антропология          9\n",
       "Археология            8\n",
       "Астрономия            5\n",
       "Биология              5\n",
       "Другое               18\n",
       "Зоология             17\n",
       "Медицина             39\n",
       "Роботы и дроны        7\n",
       "Физика                6\n",
       "Экология и климат    11\n",
       "Name: 0, dtype: int64"
      ]
     },
     "execution_count": 28,
     "metadata": {},
     "output_type": "execute_result"
    }
   ],
   "source": [
    "# замена произошла, но Другое теперь много раз, \n",
    "# надо сгруппировать и просуммировать частоты,\n",
    "# здесь нет названий столбцов, есть только index (level = 0)\n",
    "\n",
    "tab = tab.groupby(level = 0).sum()\n",
    "tab"
   ]
  },
  {
   "cell_type": "markdown",
   "metadata": {},
   "source": [
    "Постройте для обновленной таблицы частот `tab` столбиковую диаграмму таким образом, чтобы столбцы в ней были упорядочены от самого высокого к самому низкому."
   ]
  },
  {
   "cell_type": "code",
   "execution_count": 29,
   "metadata": {},
   "outputs": [
    {
     "data": {
      "image/png": "[encoded data removed]",
      "text/plain": [
       "<Figure size 432x288 with 1 Axes>"
      ]
     },
     "metadata": {
      "needs_background": "light"
     },
     "output_type": "display_data"
    }
   ],
   "source": [
    "# сначала сортируем по убыванию (по значениям)\n",
    "\n",
    "tab.sort_values(ascending=False).plot.bar();"
   ]
  },
  {
   "cell_type": "markdown",
   "metadata": {},
   "source": [
    "**Дополнительно.** Для настройки цветов можно добавить аргумент `color`:"
   ]
  },
  {
   "cell_type": "code",
   "execution_count": 30,
   "metadata": {},
   "outputs": [
    {
     "data": {
      "image/png": "[encoded data removed]",
      "text/plain": [
       "<Figure size 432x288 with 1 Axes>"
      ]
     },
     "metadata": {
      "needs_background": "light"
     },
     "output_type": "display_data"
    }
   ],
   "source": [
    "# один цвет\n",
    "tab.sort_values(ascending=False).plot.bar(color = \"firebrick\");"
   ]
  },
  {
   "cell_type": "code",
   "execution_count": 31,
   "metadata": {},
   "outputs": [
    {
     "data": {
      "image/png": "[encoded data removed]",
      "text/plain": [
       "<Figure size 432x288 with 1 Axes>"
      ]
     },
     "metadata": {
      "needs_background": "light"
     },
     "output_type": "display_data"
    }
   ],
   "source": [
    "# несколько цветов, цвета списком\n",
    "# здесь цвета в виде кодов HEX\n",
    "\n",
    "tab.sort_values(ascending=False).plot.bar(color = [\"#4f000b\", \"#4f000b\", \"#4f000b\",\n",
    "                                                   \"#720026\", \"#720026\", \"#720026\", \n",
    "                                                   \"#ce4257\", \"#ce4257\", \"#ce4257\", \n",
    "                                                   \"#ce4257\"]);"
   ]
  },
  {
   "cell_type": "markdown",
   "metadata": {},
   "source": [
    "**Примечание 1.** Если цветов много, и они повторяются, как в примере выше, полезно вспомнить про свойства списков:"
   ]
  },
  {
   "cell_type": "code",
   "execution_count": 32,
   "metadata": {},
   "outputs": [
    {
     "name": "stdout",
     "output_type": "stream",
     "text": [
      "['#4f000b', '#4f000b', '#4f000b', '#720026', '#720026', '#720026', '#ce4257', '#ce4257', '#ce4257', '#ce4257']\n"
     ]
    }
   ],
   "source": [
    "cols = [\"#4f000b\"] * 3 + [\"#720026\"] * 3 + [\"#ce4257\"] * 4\n",
    "print(cols)"
   ]
  },
  {
   "cell_type": "markdown",
   "metadata": {},
   "source": [
    "**Примечание 2.** Если в списке цветов меньше, чем столбцов, после окончания списка Python начнет проходить его с начала:"
   ]
  },
  {
   "cell_type": "code",
   "execution_count": 33,
   "metadata": {},
   "outputs": [
    {
     "data": {
      "image/png": "[encoded data removed]",
      "text/plain": [
       "<Figure size 432x288 with 1 Axes>"
      ]
     },
     "metadata": {
      "needs_background": "light"
     },
     "output_type": "display_data"
    }
   ],
   "source": [
    "# 9 цветов вместо 10, последний столбец с первым цветом\n",
    "\n",
    "tab.sort_values(ascending=False).plot.bar(color = [\"#4f000b\", \"#4f000b\", \"#4f000b\",\n",
    "                                                   \"#720026\", \"#720026\", \"#720026\", \n",
    "                                                   \"#ce4257\", \"#ce4257\", \"#ce4257\"]);"
   ]
  },
  {
   "cell_type": "code",
   "execution_count": 34,
   "metadata": {},
   "outputs": [
    {
     "data": {
      "image/png": "[encoded data removed]",
      "text/plain": [
       "<Figure size 432x288 with 1 Axes>"
      ]
     },
     "metadata": {
      "needs_background": "light"
     },
     "output_type": "display_data"
    }
   ],
   "source": [
    "# этим можно пользоваться, если нужно чередование цветов\n",
    "\n",
    "tab.sort_values(ascending=False).plot.bar(color = [\"#720026\", \"#ce4257\"]);"
   ]
  }
 ],
 "metadata": {
  "kernelspec": {
   "display_name": "Python 3",
   "language": "python",
   "name": "python3"
  },
  "language_info": {
   "codemirror_mode": {
    "name": "ipython",
    "version": 3
   },
   "file_extension": ".py",
   "mimetype": "text/x-python",
   "name": "python",
   "nbconvert_exporter": "python",
   "pygments_lexer": "ipython3",
   "version": "3.7.4"
  }
 },
 "nbformat": 4,
 "nbformat_minor": 2
}
