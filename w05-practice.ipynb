{
 "cells": [
  {
   "cell_type": "markdown",
   "metadata": {},
   "source": [
    "# Основы анализа данных в Python\n",
    "\n",
    "*Алла Тамбовцева*\n",
    "\n",
    "## Практикум 6. Доверительный интервал для среднего нормальной выборки"
   ]
  },
  {
   "cell_type": "markdown",
   "metadata": {},
   "source": [
    "Импортируем необходимые библиотеки и модули:"
   ]
  },
  {
   "cell_type": "code",
   "execution_count": null,
   "metadata": {},
   "outputs": [],
   "source": [
    "import numpy as np\n",
    "from scipy import stats\n",
    "from matplotlib import pyplot as plt"
   ]
  },
  {
   "cell_type": "markdown",
   "metadata": {},
   "source": [
    "## Часть 1: вспоминаем нормальное распределение и распределение Стьюдента\n",
    "\n",
    "*Код в этой части практикума не является обязательным для запоминания и досконального изучения, мы будем использовать его для вычисления вероятностей и изображения графиков плотности нормальных распределений с разными параметрами. Однако, методы для нахождения квантилей разных распределений могут пригодиться для построения доверительных интервалов.*"
   ]
  },
  {
   "cell_type": "markdown",
   "metadata": {},
   "source": [
    "Допустим, нас интересует нормальное распределение со средним 10 и дисперсией 25, то есть $N(a=10, \\sigma^2=25)$. В Python (и в других языках обычно тоже) для создания нормальных случайных величин и выборок из них в качестве второго параметра используется стандартное отклонение $\\sigma$, а не дисперсия $\\sigma^2$. Сохраним параметры распределения в переменные:"
   ]
  },
  {
   "cell_type": "code",
   "execution_count": null,
   "metadata": {},
   "outputs": [],
   "source": [
    "a = 10\n",
    "sigma = 5"
   ]
  },
  {
   "cell_type": "markdown",
   "metadata": {},
   "source": [
    "Воспользумся функцией `norm()` из модуля `stats` и создадим случайную величину `X`:"
   ]
  },
  {
   "cell_type": "code",
   "execution_count": null,
   "metadata": {},
   "outputs": [],
   "source": [
    "X = stats.norm(loc = a, scale = sigma)\n",
    "print(X) # не массив, особый объект"
   ]
  },
  {
   "cell_type": "markdown",
   "metadata": {},
   "source": [
    "Мы знаем, что плотность распределения нормальной случайной величины похожа на симметричный колокол. Как построить график плотности распределния в Python? \n",
    "\n",
    "Python строит графики исключительно по точкам, поэтому сначала нам нужно получить массив из достаточно большого числа значений случайной величины. В каждом значении мы вычислим плотность нормального распределения, а затем нанесём на график полученные результаты и соединим их линией.\n",
    "\n",
    "**Вопрос 1.** Почему нам требуется достаточно много точек?\n",
    "\n",
    "**Вопрос 2.** В каком интервале находятся 99.8% значений нормальной случайной величины с заданными параметрами? Вычислите левую и правую границу такого интервала и сохраните их в переменные `left` и `right`."
   ]
  },
  {
   "cell_type": "code",
   "execution_count": null,
   "metadata": {},
   "outputs": [],
   "source": [
    "### YOUR CODE HERE ###"
   ]
  },
  {
   "cell_type": "markdown",
   "metadata": {},
   "source": [
    "Отлично, теперь мы сможем создать массив значений от `left` до `right`, состоящий, например, из 100 точек, равноудаленных друг от друга:"
   ]
  },
  {
   "cell_type": "code",
   "execution_count": null,
   "metadata": {},
   "outputs": [],
   "source": [
    "# функция linspace() от linear space\n",
    "x_ = np.linspace(left, right, num = 100)\n",
    "print(x_)"
   ]
  },
  {
   "cell_type": "markdown",
   "metadata": {},
   "source": [
    "И в каждой точке вычислить значение плотности, применив метод `.pdf()`, от *probability density function*:"
   ]
  },
  {
   "cell_type": "code",
   "execution_count": null,
   "metadata": {},
   "outputs": [],
   "source": [
    "print(X.pdf(x_))"
   ]
  },
  {
   "cell_type": "markdown",
   "metadata": {},
   "source": [
    "Нанесем точки на график:"
   ]
  },
  {
   "cell_type": "code",
   "execution_count": null,
   "metadata": {},
   "outputs": [],
   "source": [
    "x_ = np.linspace(left, right, num = 100)\n",
    "\n",
    "# в plot(): значения по оси X, значения по оси Y\n",
    "# добавляем сетку grid\n",
    "# и подписи к осям\n",
    "\n",
    "plt.plot(x_, X.pdf(x_));\n",
    "plt.grid();\n",
    "plt.xlabel(\"Значения\");\n",
    "plt.ylabel(\"Плотность вероятностей\");"
   ]
  },
  {
   "cell_type": "markdown",
   "metadata": {},
   "source": [
    "Можем вычислить значения плотности в отдельных точках:"
   ]
  },
  {
   "cell_type": "code",
   "execution_count": null,
   "metadata": {},
   "outputs": [],
   "source": [
    "print(X.pdf(10))\n",
    "print(X.pdf(20))"
   ]
  },
  {
   "cell_type": "markdown",
   "metadata": {},
   "source": [
    "**Вопрос.** Что означают полученные значения?"
   ]
  },
  {
   "cell_type": "markdown",
   "metadata": {},
   "source": [
    "Также мы можем вычислить вероятность попадания в тот или иной интервал. На объектах типа *случайная величина* есть метод `.cdf()`, от *cumulative density function*, который считает вероятность, «накопленную» к определенному моменту. Вычислим вероятности $P(X < 10) = P(X \\leqslant 10)$ и $P(X < 20) = P(X \\leqslant 20)$:"
   ]
  },
  {
   "cell_type": "code",
   "execution_count": null,
   "metadata": {},
   "outputs": [],
   "source": [
    "print(X.cdf(10))\n",
    "print(X.cdf(20))"
   ]
  },
  {
   "cell_type": "markdown",
   "metadata": {},
   "source": [
    "**Вопрос.** Как теперь вычислить вероятность $P(10 < X < 20)$?"
   ]
  },
  {
   "cell_type": "code",
   "execution_count": null,
   "metadata": {},
   "outputs": [],
   "source": [
    "### YOUR CODE HERE ###"
   ]
  },
  {
   "cell_type": "markdown",
   "metadata": {},
   "source": [
    "Давайте визуализируем эту вероятность – закрасим соответствующую площадь под графиком плотности!"
   ]
  },
  {
   "cell_type": "code",
   "execution_count": null,
   "metadata": {},
   "outputs": [],
   "source": [
    "# по аналогии с примером выше получаем набор точек от 10 до 20\n",
    "# вычисляем в каждой точке плотность\n",
    "# это будут границы закрашенной области\n",
    "\n",
    "interval = np.linspace(10, 20, num = 100)\n",
    "density = X.pdf(interval)"
   ]
  },
  {
   "cell_type": "code",
   "execution_count": null,
   "metadata": {},
   "outputs": [],
   "source": [
    "# прошлый код + черный цвет линии\n",
    "\n",
    "plt.plot(x_, X.pdf(x_), color = \"black\");\n",
    "plt.grid();\n",
    "plt.xlabel(\"Значения\");\n",
    "plt.ylabel(\"Плотность вероятностей\");\n",
    "\n",
    "# закрашиваем область, \n",
    "# ограничитель по x – interval, по y – density, \n",
    "# далее цвет и прозрачность\n",
    "\n",
    "plt.fill_between(interval, density, color = \"red\", alpha = 0.3);"
   ]
  },
  {
   "cell_type": "markdown",
   "metadata": {},
   "source": [
    "### Задача 1\n",
    "\n",
    "Создайте стандартную нормальную величину `Z` и постройте график плотности ее распределения."
   ]
  },
  {
   "cell_type": "code",
   "execution_count": null,
   "metadata": {},
   "outputs": [],
   "source": [
    "### YOUR CODE HERE ###"
   ]
  },
  {
   "cell_type": "markdown",
   "metadata": {},
   "source": [
    "### Задача 2\n",
    "\n",
    "На объектах типа *случайная величина* есть метод `.ppf()` от *percent point function*, функция процентных точек, которая находит точку, слева от которой находится $p \\cdot 100$% значений случайной величины. Другими словами, этот метод позволяет вычислять квантили.\n",
    "\n",
    "Вычислите для стандартной нормальной величины `Z`:\n",
    "\n",
    "* медиану;\n",
    "* квантиль уровня 0.9;\n",
    "* квантиль уровня 0.1."
   ]
  },
  {
   "cell_type": "code",
   "execution_count": null,
   "metadata": {},
   "outputs": [],
   "source": [
    "### YOUR CODE HERE ###"
   ]
  },
  {
   "cell_type": "markdown",
   "metadata": {},
   "source": [
    "Ниже приведен код для иллюстрации полученных результатов – графиков с закрашенной площадью."
   ]
  },
  {
   "cell_type": "code",
   "execution_count": null,
   "metadata": {},
   "outputs": [],
   "source": [
    "plt.plot(z_, Z.pdf(z_), color = \"black\");\n",
    "plt.grid();\n",
    "plt.xlabel(\"Значения\");\n",
    "plt.ylabel(\"Плотность вероятностей\");\n",
    "plt.fill_between(np.linspace(-3, 1.28, num = 100), \n",
    "                  Z.pdf(np.linspace(-3, 1.28, num = 100)), \n",
    "                 color = \"orangered\", alpha = 0.3);"
   ]
  },
  {
   "cell_type": "code",
   "execution_count": null,
   "metadata": {},
   "outputs": [],
   "source": [
    "plt.plot(z_, Z.pdf(z_), color = \"black\");\n",
    "plt.grid();\n",
    "plt.xlabel(\"Значения\");\n",
    "plt.ylabel(\"Плотность вероятностей\");\n",
    "plt.fill_between(np.linspace(-3, -1.28, num = 100), \n",
    "                  Z.pdf(np.linspace(-3, -1.28, num = 100)), \n",
    "                 color = \"blue\", alpha = 0.3);"
   ]
  },
  {
   "cell_type": "markdown",
   "metadata": {},
   "source": [
    "### Задача 3\n",
    "\n",
    "Ниже приведен код, который строит график плотности стандартного нормального распределения, и закрашивает на нем площадь равную 0.95 на отрезке, симметричном относительно 0:"
   ]
  },
  {
   "cell_type": "code",
   "execution_count": null,
   "metadata": {},
   "outputs": [],
   "source": [
    "plt.plot(z_, Z.pdf(z_), color = \"black\");\n",
    "plt.grid();\n",
    "plt.xlabel(\"Значения\");\n",
    "plt.ylabel(\"Плотность вероятностей\");\n",
    "\n",
    "plt.fill_between(np.linspace(-1.96, 1.96, num = 100), \n",
    "                 Z.pdf(np.linspace(-1.96, 1.96, num = 100)), \n",
    "                 color = \"green\", alpha = 0.3);\n",
    "\n",
    "plt.vlines(x = [-1.96, 1.96], \n",
    "           ymin = 0, \n",
    "           ymax = Z.pdf(1.96), \n",
    "           color = \"black\", \n",
    "           linestyle = \"--\");\n",
    "\n",
    "plt.text(s = \"95%\", \n",
    "         x = 0.1, \n",
    "         y = 0.2, \n",
    "         fontsize = 18,\n",
    "         horizontalalignment = \"center\");"
   ]
  },
  {
   "cell_type": "markdown",
   "metadata": {},
   "source": [
    "Квантиль какого уровня нужно вычислить, чтобы найти $z^*$?"
   ]
  },
  {
   "cell_type": "code",
   "execution_count": null,
   "metadata": {},
   "outputs": [],
   "source": [
    "### YOUR CODE HERE ###"
   ]
  },
  {
   "cell_type": "markdown",
   "metadata": {},
   "source": [
    "### Задача 4\n",
    "\n",
    "Создадим случайную величину, имеющую распределение Стьюдента с 4 степенями свободы и построим в одних осях график ее плотности и плотности стандартной нормальной случайной величины:"
   ]
  },
  {
   "cell_type": "code",
   "execution_count": null,
   "metadata": {},
   "outputs": [],
   "source": [
    "T = stats.t(df = 4)"
   ]
  },
  {
   "cell_type": "code",
   "execution_count": null,
   "metadata": {},
   "outputs": [],
   "source": [
    "# просто два раза plot()\n",
    "# по оси X одни и те же значения z_\n",
    "# по оси Y – для каждого графика своя плотность\n",
    "\n",
    "plt.plot(z_, Z.pdf(z_), color = \"navy\");\n",
    "plt.plot(z_, T.pdf(z_), color = \"red\");\n",
    "\n",
    "plt.grid();\n",
    "plt.xlabel(\"Значения\");\n",
    "plt.ylabel(\"Плотность вероятностей\");"
   ]
  },
  {
   "cell_type": "markdown",
   "metadata": {},
   "source": [
    "Прокомментируйте различия. Вычислите для величины `T` квантиль того же уровня, что и в предыдущей задаче. Сравните результаты. "
   ]
  },
  {
   "cell_type": "code",
   "execution_count": null,
   "metadata": {},
   "outputs": [],
   "source": [
    "### YOUR CODE HERE ###"
   ]
  },
  {
   "cell_type": "markdown",
   "metadata": {},
   "source": [
    "## Часть 2: доверительный интервал для среднего нормальной выборки"
   ]
  },
  {
   "cell_type": "markdown",
   "metadata": {},
   "source": [
    "### Задача 1 (из демоверсии НЭ)\n",
    "\n",
    "Винни-Пух в течение 150 дней фиксировал изменения количества пчёл в улье. Он уверен, что полученные наблюдения являются выборкой независимых одинаково распределённых нормальных случайных величин. Оказалось, что среднее количество пчёл равно 25000, а выборочная дисперсия равна 1300. Постройте 95%-ый доверительный интервал для математического ожидания количества пчёл в улье и выпишите в ответ его нижнюю границу, округлённую до целого.\n",
    "\n",
    "Пример ответа: 1500"
   ]
  },
  {
   "cell_type": "code",
   "execution_count": null,
   "metadata": {},
   "outputs": [],
   "source": [
    "### YOUR CODE HERE ###"
   ]
  },
  {
   "cell_type": "markdown",
   "metadata": {},
   "source": [
    "### Задача 2\n",
    "\n",
    "*Выборка взята из другой задачи демоверсии НЭ, задача переделана.*\n",
    "\n",
    "Ниже приведены данные об уровне осадков в некотором регионе России:\n",
    "\n",
    "[103.01, 101.99, 105.21, 106.80, 112.70, 106.13, 110.48, 109.26, 100.44, 100.28].\n",
    "\n",
    "Предполагая, что наблюдения являются выборкой независимых одинаково распределённых нормальных случайных величин, постройте 90%-ый доверительный интервал для математического ожидания уровня осадков в этом регионе."
   ]
  },
  {
   "cell_type": "code",
   "execution_count": null,
   "metadata": {},
   "outputs": [],
   "source": [
    "### YOUR CODE HERE ###"
   ]
  }
 ],
 "metadata": {
  "kernelspec": {
   "display_name": "Python 3",
   "language": "python",
   "name": "python3"
  },
  "language_info": {
   "codemirror_mode": {
    "name": "ipython",
    "version": 3
   },
   "file_extension": ".py",
   "mimetype": "text/x-python",
   "name": "python",
   "nbconvert_exporter": "python",
   "pygments_lexer": "ipython3",
   "version": "3.7.4"
  }
 },
 "nbformat": 4,
 "nbformat_minor": 2
}
