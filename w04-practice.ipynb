{
 "cells": [
  {
   "cell_type": "markdown",
   "metadata": {},
   "source": [
    "# Основы анализа данных в Python\n",
    "\n",
    "*Алла Тамбовцева*\n",
    "\n",
    "## Практикум 5. Визуализация данных: часть 2"
   ]
  },
  {
   "cell_type": "markdown",
   "metadata": {},
   "source": [
    "Импортируем библиотеку `pandas` и модуль `pyplot` из графической библиотеки `matplotlib`:"
   ]
  },
  {
   "cell_type": "code",
   "execution_count": null,
   "metadata": {},
   "outputs": [],
   "source": [
    "import pandas as pd\n",
    "from matplotlib import pyplot as plt"
   ]
  },
  {
   "cell_type": "markdown",
   "metadata": {},
   "source": [
    "В файле Excel хранятся результаты выборов в Государственную Думу 2021 года. Загрузим данные с третьего листа файла Excel (`sheet_name = 2`)."
   ]
  },
  {
   "cell_type": "code",
   "execution_count": null,
   "metadata": {},
   "outputs": [],
   "source": [
    "res = pd.read_excel(\"proportional_w_uiks.xlsx\", sheet_name = 2)"
   ]
  },
  {
   "cell_type": "markdown",
   "metadata": {},
   "source": [
    "### Сюжет 1: подготовка данных\n",
    "\n",
    "* Удаление и переименование столбцов\n",
    "* Добавление новых столбцов\n",
    "* Группировка и агрегирование\n",
    "* Вычисление максимума в каждой строке"
   ]
  },
  {
   "cell_type": "markdown",
   "metadata": {},
   "source": [
    "Посмотрим на названия столбцов в `res`:"
   ]
  },
  {
   "cell_type": "code",
   "execution_count": null,
   "metadata": {},
   "outputs": [],
   "source": [
    "print(res.columns)"
   ]
  },
  {
   "cell_type": "markdown",
   "metadata": {},
   "source": [
    "Так как некоторые столбцы нам не понадобятся, можем их удалить, воспользовавшись методом `.drop()`. В исходном датафрейме `res` их оставим, а результат после удаления сохраним в новый датафрейм `small`:"
   ]
  },
  {
   "cell_type": "code",
   "execution_count": null,
   "metadata": {},
   "outputs": [],
   "source": [
    "small = res.drop(columns = [\"level\", \"oik\", \"uiknum\", \n",
    "                           \"Число утраченных избирательных бюллетеней\",\n",
    "                           \"Число избирательных бюллетеней, не учтенных при получении\"])\n",
    "small.head()"
   ]
  },
  {
   "cell_type": "markdown",
   "metadata": {},
   "source": [
    "Переименуем оставшиеся столбцы, так как названия у них слишком длинные. Просто сохраним в атрибут `.columns` список новых названий:"
   ]
  },
  {
   "cell_type": "code",
   "execution_count": null,
   "metadata": {},
   "outputs": [],
   "source": [
    "small.columns = [\"region\", \"district\", \"tik\", \"uik\", \n",
    "                 \"invalid\", \"valid\", \"КПРФ\", \"ЗЕЛЁНЫЕ\", \n",
    "                 \"ЛДПР\", \"НЛ\", \"ЕР\", \"СР\", \"ЯБЛОКО\", \n",
    "                 \"ПАРТИЯ РОСТА\", \"РПСС\", \"КП\", \"ГП\", \n",
    "                 \"ЗЕЛЁНАЯ АЛЬТЕРНАТИВА\", \"РОДИНА\", \n",
    "                 \"ПП\"]"
   ]
  },
  {
   "cell_type": "markdown",
   "metadata": {},
   "source": [
    "Добавим столбец `turnout` с явкой в абсолютных значениях (число бюллетеней, не проценты):"
   ]
  },
  {
   "cell_type": "code",
   "execution_count": null,
   "metadata": {},
   "outputs": [],
   "source": [
    "small[\"turnout\"] = small[\"invalid\"] + small[\"valid\"]\n",
    "small.head()"
   ]
  },
  {
   "cell_type": "markdown",
   "metadata": {},
   "source": [
    "Посмотрим на размерность датафрейма `small`:"
   ]
  },
  {
   "cell_type": "code",
   "execution_count": null,
   "metadata": {},
   "outputs": [],
   "source": [
    "print(small.shape)"
   ]
  },
  {
   "cell_type": "markdown",
   "metadata": {},
   "source": [
    "В датафрейме хранятся данные в разрезе избирательных участков, одна строка таблицы – один участок. Чтобы перейти к анализу результатов выборов по регионам, данные нужно агрегировать. Каким образом? Так как все числовые столбцы здесь в одинаковых единицах измерения – количество бюллетеней – для получения данных по регионам, строки нужно сгруппировать по региону и для каждого региона посчитать сумму по каждому столбцу:"
   ]
  },
  {
   "cell_type": "code",
   "execution_count": null,
   "metadata": {},
   "outputs": [],
   "source": [
    "# в новых версия pandas аргумент numeric_only=True обязателен,\n",
    "# чтобы игнорировались нечисловые столбцы,\n",
    "# если у вас более старая версия (выдается ошибка), \n",
    "# оставьте просто .sum()\n",
    "\n",
    "regs = small.groupby(\"region\").sum(numeric_only=True)\n",
    "regs.head()"
   ]
  },
  {
   "cell_type": "markdown",
   "metadata": {},
   "source": [
    "Проверяем размерность:"
   ]
  },
  {
   "cell_type": "code",
   "execution_count": null,
   "metadata": {},
   "outputs": [],
   "source": [
    "regs.shape # все ок"
   ]
  },
  {
   "cell_type": "markdown",
   "metadata": {},
   "source": [
    "Как перейти от абсолютных чисел к процентам? Процент голосов, полученных на выборах партией, вычисляется от явки. Значит, нам нужно написать функцию, которая будет делить каждый столбец с результами партии на явку и домножать ответ на 100. Однако сначала выберем подходящие столбцы, столбцы с голосами за разные партии. Для этого, чтобы не писать длинный список, можно воспользоваться методами `.iloc[]` или `.loc[]`:\n",
    "\n",
    "* метод `.iloc[]` выбирает столбцы по индексам;\n",
    "* метод `.loc[]` выбирает столбцы по названиям.\n",
    "\n",
    "На первом месте в квадратных скобках указываются индексы/названия выбираемых строк, на втором – выбираемых столбцов. Если мы выбираем все строки/все столбцы, можем указать полный срез `:`:"
   ]
  },
  {
   "cell_type": "code",
   "execution_count": null,
   "metadata": {},
   "outputs": [],
   "source": [
    "# все строки, первый столбец с индексом 0\n",
    "regs.iloc[:, 0]"
   ]
  },
  {
   "cell_type": "code",
   "execution_count": null,
   "metadata": {},
   "outputs": [],
   "source": [
    "# все столбцы, вторая строка с индексом 1\n",
    "regs.iloc[1, :]"
   ]
  },
  {
   "cell_type": "markdown",
   "metadata": {},
   "source": [
    "Выберите, используя\n",
    "\n",
    "* метод `.loc[]`\n",
    "* метод `.iloc[]`\n",
    "\n",
    "столбцы, которые соответствуют количеству голосов за каждую партию и сохраните в датафрейм `parties`."
   ]
  },
  {
   "cell_type": "code",
   "execution_count": null,
   "metadata": {},
   "outputs": [],
   "source": [
    "### YOUR CODE HERE ###"
   ]
  },
  {
   "cell_type": "markdown",
   "metadata": {},
   "source": [
    "Напишите lambda-функцию, которая вычисляет процент голосов от явки и примените ее ко всем столбцам в `parties`, используя метод `.apply()`. Полученный датафрейм с процентами голосов назовите `regs_perc`."
   ]
  },
  {
   "cell_type": "code",
   "execution_count": null,
   "metadata": {},
   "outputs": [],
   "source": [
    "### YOUR CODE HERE ###"
   ]
  },
  {
   "cell_type": "code",
   "execution_count": null,
   "metadata": {},
   "outputs": [],
   "source": [
    "regs_perc = regs.iloc[:, 2:-1].apply(lambda x: x / regs[\"turnout\"] * 100)"
   ]
  },
  {
   "cell_type": "markdown",
   "metadata": {},
   "source": [
    "Добавим столбец `winner` с названием партии, которая получила большинство голосов в регионе. Чтобы это сделать, нужно определить максимум по каждой строке. И даже не сам максимум, а название столбца, в котором этот максимум по строке достигается. Для этого в `pandas` есть универсальный метод `.idxmax()`:"
   ]
  },
  {
   "cell_type": "code",
   "execution_count": null,
   "metadata": {},
   "outputs": [],
   "source": [
    "# axis = 1, так как ищем название столбца (0 – строка, 1 – столбец)\n",
    "\n",
    "regs_perc[\"winner\"] = regs_perc.idxmax(axis=1)"
   ]
  },
  {
   "cell_type": "markdown",
   "metadata": {},
   "source": [
    "### Сюжет 2: построение круговой и кольцевой диаграммы"
   ]
  },
  {
   "cell_type": "markdown",
   "metadata": {},
   "source": [
    "Выведите таблицу частот для нового столбца `winner` и сохраните ее в переменную `tab`:"
   ]
  },
  {
   "cell_type": "code",
   "execution_count": null,
   "metadata": {},
   "outputs": [],
   "source": [
    "### YOUR CODE HERE ###"
   ]
  },
  {
   "cell_type": "markdown",
   "metadata": {},
   "source": [
    "Постройте на основе полученной таблицы круговую диаграмму – та же логика, что и для столбиковой, только функция `pie()` вместо `bar()`."
   ]
  },
  {
   "cell_type": "code",
   "execution_count": null,
   "metadata": {},
   "outputs": [],
   "source": [
    "# ради всего святого, не стройте базовые круговые диаграммы, это катастрофа,\n",
    "# но кольцевую без круговой не построишь\n",
    "\n",
    "### YOUR CODE HERE ###"
   ]
  },
  {
   "cell_type": "markdown",
   "metadata": {},
   "source": [
    "Доработаем график! Сначала разберем таблицу частот на части, так будет удобнее:"
   ]
  },
  {
   "cell_type": "code",
   "execution_count": null,
   "metadata": {},
   "outputs": [],
   "source": [
    "labs = tab.index\n",
    "vals = tab.values\n",
    "\n",
    "print(labs)\n",
    "print(vals)"
   ]
  },
  {
   "cell_type": "markdown",
   "metadata": {},
   "source": [
    "Создадим заготовку для графика, пользуясь возможностями `matplotlib`:"
   ]
  },
  {
   "cell_type": "code",
   "execution_count": null,
   "metadata": {},
   "outputs": [],
   "source": [
    "# fig – картинка, ее потом выгрузим в файл\n",
    "# ax – оси, в которые вписываем элементы графика и редактируем\n",
    "# figsize – размер изображения в дюймах\n",
    "# dpi – разрешение, в точках на дюйм\n",
    "\n",
    "fig, ax = plt.subplots(figsize = (16, 9), dpi = 300)"
   ]
  },
  {
   "cell_type": "markdown",
   "metadata": {},
   "source": [
    "К осям `ax` применим метод `.pie()`, на первом месте укажем частоты, на втором – названия категорий:"
   ]
  },
  {
   "cell_type": "code",
   "execution_count": null,
   "metadata": {},
   "outputs": [],
   "source": [
    "fig, ax = plt.subplots(figsize = (16, 9), dpi = 300)\n",
    "ax.pie(vals, labels = labs)"
   ]
  },
  {
   "cell_type": "markdown",
   "metadata": {},
   "source": [
    "Добавим подписи с процентами:"
   ]
  },
  {
   "cell_type": "code",
   "execution_count": null,
   "metadata": {},
   "outputs": [],
   "source": [
    "fig, ax = plt.subplots(figsize = (16, 9), dpi = 300)\n",
    "\n",
    "# autopct: автоподсчет процентов и их добавление в заданном формате\n",
    "# pctdistance: расстояние подписей с процентами от центра\n",
    "# textprops: словарь с настройками для текста\n",
    "\n",
    "ax.pie(vals, labels = labs, \n",
    "       autopct = '%.1f%%', \n",
    "       pctdistance = 0.7,\n",
    "       textprops = dict(fontsize = 14));"
   ]
  },
  {
   "cell_type": "markdown",
   "metadata": {},
   "source": [
    "Даже в таком виде диаграмма выглядит не очень. Перейдём на кольцевую диаграмму (*ring diagram* или *donut diagram*). Python не умеет строить такую диаграмму сразу, поэтому нужно построить круговую диаграмму, а затем наложить на неё белый круг подходящего радиуса:"
   ]
  },
  {
   "cell_type": "code",
   "execution_count": null,
   "metadata": {},
   "outputs": [],
   "source": [
    "fig, ax = plt.subplots(figsize = (16, 9), dpi = 300)\n",
    "\n",
    "# остается, как прежде, увеличили pctdistance\n",
    "ax.pie(vals, labels = labs, \n",
    "       autopct = '%.1f%%', \n",
    "       pctdistance = 0.8,\n",
    "       textprops = dict(fontsize = 14));\n",
    "\n",
    "# создаем белый круг радиуса 0.6 с центром в нуле\n",
    "centre_circle = plt.Circle((0, 0), 0.6, fc = 'white')\n",
    "\n",
    "# добавляем круг – add_artist()\n",
    "# в текущие оси графика – gca() от get current axes\n",
    "fig.gca().add_artist(centre_circle);"
   ]
  },
  {
   "cell_type": "markdown",
   "metadata": {},
   "source": [
    "Обычно у круговых и кольцевых диаграмм названия категорий выносят в легенду, чтобы они не «болтались» вокруг круга. Для этого нужно «разобрать» диаграмму, создаваемую через `.pie()`, на части. Функция `.pie()` возвращает три объекта:\n",
    "\n",
    "* набор секторов на круге (*patches* или *wedges*);\n",
    "* набор подписей к секторам диаграммы (*labels*);\n",
    "* набор подписей с процентами (если есть аргумент `autopct`)."
   ]
  },
  {
   "cell_type": "code",
   "execution_count": null,
   "metadata": {},
   "outputs": [],
   "source": [
    "# посмотрим, как это выглядит\n",
    "# wedges – сектора, они же patches\n",
    "# texts – подписи, они же labels\n",
    "# autotexts – подписи с процентами\n",
    "\n",
    "wedges, texts, autotexts = ax.pie(vals, labels = labs, \n",
    "                                  autopct = '%.1f%%', \n",
    "                                  pctdistance = 0.8,\n",
    "                                  textprops = dict(fontsize = 14));\n",
    "\n",
    "print(wedges)\n",
    "print(texts)\n",
    "print(autotexts)"
   ]
  },
  {
   "cell_type": "markdown",
   "metadata": {},
   "source": [
    "Теперь, чтобы убрать подписи `КПРФ` и `ЕР`, нужно убрать аргумент `labels`, а подписи из `labs` перенести в метод `.legend()` для добавления легенды:"
   ]
  },
  {
   "cell_type": "code",
   "execution_count": null,
   "metadata": {},
   "outputs": [],
   "source": [
    "fig, ax = plt.subplots(figsize = (16, 9), dpi = 300)\n",
    "\n",
    "# нет labels\n",
    "\n",
    "wedges, texts, autotexts = ax.pie(vals, \n",
    "                                  autopct = '%.1f%%',\n",
    "                                  pctdistance = 0.8, \n",
    "                                  textprops = dict(fontsize = 16));\n",
    "# выносим названия в легенду\n",
    "# легенда с заливкой и подписями\n",
    "# фиксируем верний левый угол блока с легендой\n",
    "\n",
    "ax.legend(wedges, labs,\n",
    "          title = \"Партия\",\n",
    "          loc = \"upper left\")\n",
    "\n",
    "# все тот же код для белого круга\n",
    "centre_circle = plt.Circle((0, 0), 0.6, fc = 'white')\n",
    "fig.gca().add_artist(centre_circle);"
   ]
  },
  {
   "cell_type": "code",
   "execution_count": null,
   "metadata": {},
   "outputs": [],
   "source": [
    "# добавляем свои цвета, исправляем легенду\n",
    "# палитры https://coolors.co/\n",
    "\n",
    "cols = [\"#457b9d\", \"#e63946\"]\n",
    "\n",
    "fig, ax = plt.subplots(figsize = (16, 9), dpi = 300)\n",
    "\n",
    "wedges, texts, autotexts = ax.pie(vals, \n",
    "                                  colors = cols,\n",
    "                                  autopct = \"%.1f%%\",\n",
    "                                  pctdistance = 0.8,\n",
    "                                  textprops = dict(fontsize = 14));\n",
    "\n",
    "# выключаем рамку у легенды\n",
    "ax.legend(wedges, labs,\n",
    "          loc = \"upper left\",\n",
    "          frameon = False);\n",
    "\n",
    "# добавляем заголовок графика\n",
    "ax.set_title(\"Выборы в Государственную Думу 2021 года\\nПобедившая партия (% регионов)\", \n",
    "            fontsize = 16, \n",
    "            loc = \"left\", \n",
    "            fontweight = \"bold\");\n",
    "\n",
    "# все тот же код для белого круга\n",
    "centre_circle = plt.Circle((0, 0), 0.6, fc = \"white\")\n",
    "fig.gca().add_artist(centre_circle);"
   ]
  },
  {
   "cell_type": "markdown",
   "metadata": {},
   "source": [
    "В примерах выше мы везде применяли методы к осям графика `ax`. Однако на выходе нам нужны не сами оси, а материальная картинка, изображение, которое можно экспортировать в файл. А это – объект `fig`. Выберем его и сохраним в файл `my_pie.png`:"
   ]
  },
  {
   "cell_type": "code",
   "execution_count": null,
   "metadata": {},
   "outputs": [],
   "source": [
    "fig.savefig(\"my_pie.png\")"
   ]
  }
 ],
 "metadata": {
  "kernelspec": {
   "display_name": "Python 3",
   "language": "python",
   "name": "python3"
  },
  "language_info": {
   "codemirror_mode": {
    "name": "ipython",
    "version": 3
   },
   "file_extension": ".py",
   "mimetype": "text/x-python",
   "name": "python",
   "nbconvert_exporter": "python",
   "pygments_lexer": "ipython3",
   "version": "3.7.4"
  }
 },
 "nbformat": 4,
 "nbformat_minor": 2
}
