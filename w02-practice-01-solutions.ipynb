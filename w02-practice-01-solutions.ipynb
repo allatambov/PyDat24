{
 "cells": [
  {
   "cell_type": "markdown",
   "metadata": {},
   "source": [
    "# Основы анализа данных в Python\n",
    "\n",
    "*Алла Тамбовцева*\n",
    "\n",
    "## Практикум 2. Датафреймы `pandas`: часть 1"
   ]
  },
  {
   "cell_type": "markdown",
   "metadata": {},
   "source": [
    "Импортируем библиотеку `pandas` с сокращённым названием:"
   ]
  },
  {
   "cell_type": "code",
   "execution_count": 1,
   "metadata": {},
   "outputs": [],
   "source": [
    "import pandas as pd"
   ]
  },
  {
   "cell_type": "markdown",
   "metadata": {},
   "source": [
    "В этом практикуме предлагается поработать с данными из файла `beasts.csv`, который содержит характеристики фантастических существ. Переменные в таблице:\n",
    "\n",
    "* `Name`: название существа;\n",
    "* `Class`: вид существа (если есть, если нет, дублируется название);\n",
    "* `Classification`: классификация Министерства Магии по уровням опасности;\n",
    "* `Colour`: цвет тела;\n",
    "* `Eye`: цвет глаз;\n",
    "* `Native`: происхождение и распространение;\n",
    "* `Size`: размер в дюймах.\n",
    "\n",
    "Загрузим данные из CSV-файла:"
   ]
  },
  {
   "cell_type": "code",
   "execution_count": 2,
   "metadata": {},
   "outputs": [],
   "source": [
    "df = pd.read_csv(\"beasts.csv\")"
   ]
  },
  {
   "cell_type": "markdown",
   "metadata": {},
   "source": [
    "Запросим информацию по загруженной таблице:"
   ]
  },
  {
   "cell_type": "code",
   "execution_count": 3,
   "metadata": {},
   "outputs": [
    {
     "name": "stdout",
     "output_type": "stream",
     "text": [
      "<class 'pandas.core.frame.DataFrame'>\n",
      "RangeIndex: 81 entries, 0 to 80\n",
      "Data columns (total 8 columns):\n",
      " #   Column          Non-Null Count  Dtype  \n",
      "---  ------          --------------  -----  \n",
      " 0   Unnamed: 0      81 non-null     int64  \n",
      " 1   Name            81 non-null     object \n",
      " 2   Class           81 non-null     object \n",
      " 3   Classification  81 non-null     object \n",
      " 4   Colour          81 non-null     object \n",
      " 5   Eye             80 non-null     object \n",
      " 6   Native          81 non-null     object \n",
      " 7   Size            28 non-null     float64\n",
      "dtypes: float64(1), int64(1), object(6)\n",
      "memory usage: 5.2+ KB\n"
     ]
    }
   ],
   "source": [
    "df.info()"
   ]
  },
  {
   "cell_type": "markdown",
   "metadata": {},
   "source": [
    "Этот метод возвращает сводную информацию:\n",
    "\n",
    "* число строк и столбцов (здесь 81 строка и 8 столбцов);\n",
    "* названия столбцов;\n",
    "* число заполненных ячеек в каждом столбце (`Non-Null Count`);\n",
    "* типы столбцов (первый столбец целочисленный `int64`, последний – дробный `float64`, остальные – текстовые `object`)."
   ]
  },
  {
   "cell_type": "markdown",
   "metadata": {},
   "source": [
    "А теперь – отдельно типы столбцов:"
   ]
  },
  {
   "cell_type": "code",
   "execution_count": 4,
   "metadata": {},
   "outputs": [
    {
     "data": {
      "text/plain": [
       "Unnamed: 0          int64\n",
       "Name               object\n",
       "Class              object\n",
       "Classification     object\n",
       "Colour             object\n",
       "Eye                object\n",
       "Native             object\n",
       "Size              float64\n",
       "dtype: object"
      ]
     },
     "execution_count": 4,
     "metadata": {},
     "output_type": "execute_result"
    }
   ],
   "source": [
    "df.dtypes"
   ]
  },
  {
   "cell_type": "markdown",
   "metadata": {},
   "source": [
    "И названия столбцов:"
   ]
  },
  {
   "cell_type": "code",
   "execution_count": 5,
   "metadata": {},
   "outputs": [
    {
     "data": {
      "text/plain": [
       "['Class',\n",
       " 'Classification',\n",
       " 'Colour',\n",
       " 'Eye',\n",
       " 'Name',\n",
       " 'Native',\n",
       " 'Size',\n",
       " 'Unnamed: 0']"
      ]
     },
     "execution_count": 5,
     "metadata": {},
     "output_type": "execute_result"
    }
   ],
   "source": [
    "# для удобства отсортируем по алфавиту\n",
    "\n",
    "sorted(df.columns)"
   ]
  },
  {
   "cell_type": "markdown",
   "metadata": {},
   "source": [
    "**NB.** Выше `.info()` – метод, функция, определенная на датафрейме. Круглые скобки (даже без аргументов внутри) показывают, что метод применяется к объекту, то есть идет выполнение какой-то операции. А `.dtypes` и `.columns` – атрибуты, фиксированные характеристики датафрейма. Так как это фиксированные значения, для их вызова круглые скобки не нужны, достаточно просто извлечь их по названию."
   ]
  },
  {
   "cell_type": "markdown",
   "metadata": {},
   "source": [
    "Выведем размерность таблицы – число строк и столбцов:"
   ]
  },
  {
   "cell_type": "code",
   "execution_count": 6,
   "metadata": {},
   "outputs": [
    {
     "data": {
      "text/plain": [
       "(81, 8)"
      ]
     },
     "execution_count": 6,
     "metadata": {},
     "output_type": "execute_result"
    }
   ],
   "source": [
    "df.shape"
   ]
  },
  {
   "cell_type": "markdown",
   "metadata": {},
   "source": [
    "В атрибуте `.shape` хранится кортеж – пара «число строк – число столбцов». Если нам нужно что-то одно, можно просто выбрать элемент по индексу:"
   ]
  },
  {
   "cell_type": "code",
   "execution_count": 7,
   "metadata": {},
   "outputs": [
    {
     "name": "stdout",
     "output_type": "stream",
     "text": [
      "81\n",
      "8\n"
     ]
    }
   ],
   "source": [
    "print(df.shape[0])\n",
    "print(df.shape[1])"
   ]
  },
  {
   "cell_type": "markdown",
   "metadata": {},
   "source": [
    "**NB.** На массивах и датафреймах также определен атрибут `.size`. Для одномерных массивов значение `.size` совпадает с длиной, полученной через `len()`. Для многомерных массивов это уже не так. Так как датафрейм – двумерная структура (есть строки и столбцы), в `.size` хранится общее число элементов – общее число ячеек:"
   ]
  },
  {
   "cell_type": "code",
   "execution_count": 8,
   "metadata": {},
   "outputs": [
    {
     "name": "stdout",
     "output_type": "stream",
     "text": [
      "648\n"
     ]
    }
   ],
   "source": [
    "# 81 * 8\n",
    "print(df.size)"
   ]
  },
  {
   "cell_type": "markdown",
   "metadata": {},
   "source": [
    "А вот функция `len()` будет возвращать число строк (основная единица, одно наблюдение – строка):"
   ]
  },
  {
   "cell_type": "code",
   "execution_count": 9,
   "metadata": {},
   "outputs": [
    {
     "name": "stdout",
     "output_type": "stream",
     "text": [
      "81\n"
     ]
    }
   ],
   "source": [
    "print(len(df))"
   ]
  },
  {
   "cell_type": "markdown",
   "metadata": {},
   "source": [
    "Перейдём к описательным статистикам:"
   ]
  },
  {
   "cell_type": "code",
   "execution_count": 10,
   "metadata": {},
   "outputs": [
    {
     "data": {
      "text/html": [
       "<div>\n",
       "<style scoped>\n",
       "    .dataframe tbody tr th:only-of-type {\n",
       "        vertical-align: middle;\n",
       "    }\n",
       "\n",
       "    .dataframe tbody tr th {\n",
       "        vertical-align: top;\n",
       "    }\n",
       "\n",
       "    .dataframe thead th {\n",
       "        text-align: right;\n",
       "    }\n",
       "</style>\n",
       "<table border=\"1\" class=\"dataframe\">\n",
       "  <thead>\n",
       "    <tr style=\"text-align: right;\">\n",
       "      <th></th>\n",
       "      <th>Unnamed: 0</th>\n",
       "      <th>Size</th>\n",
       "    </tr>\n",
       "  </thead>\n",
       "  <tbody>\n",
       "    <tr>\n",
       "      <th>count</th>\n",
       "      <td>81.000000</td>\n",
       "      <td>28.000000</td>\n",
       "    </tr>\n",
       "    <tr>\n",
       "      <th>mean</th>\n",
       "      <td>40.000000</td>\n",
       "      <td>147.358929</td>\n",
       "    </tr>\n",
       "    <tr>\n",
       "      <th>std</th>\n",
       "      <td>23.526581</td>\n",
       "      <td>178.181732</td>\n",
       "    </tr>\n",
       "    <tr>\n",
       "      <th>min</th>\n",
       "      <td>0.000000</td>\n",
       "      <td>0.050000</td>\n",
       "    </tr>\n",
       "    <tr>\n",
       "      <th>25%</th>\n",
       "      <td>20.000000</td>\n",
       "      <td>11.500000</td>\n",
       "    </tr>\n",
       "    <tr>\n",
       "      <th>50%</th>\n",
       "      <td>40.000000</td>\n",
       "      <td>69.000000</td>\n",
       "    </tr>\n",
       "    <tr>\n",
       "      <th>75%</th>\n",
       "      <td>60.000000</td>\n",
       "      <td>189.000000</td>\n",
       "    </tr>\n",
       "    <tr>\n",
       "      <th>max</th>\n",
       "      <td>80.000000</td>\n",
       "      <td>600.000000</td>\n",
       "    </tr>\n",
       "  </tbody>\n",
       "</table>\n",
       "</div>"
      ],
      "text/plain": [
       "       Unnamed: 0        Size\n",
       "count   81.000000   28.000000\n",
       "mean    40.000000  147.358929\n",
       "std     23.526581  178.181732\n",
       "min      0.000000    0.050000\n",
       "25%     20.000000   11.500000\n",
       "50%     40.000000   69.000000\n",
       "75%     60.000000  189.000000\n",
       "max     80.000000  600.000000"
      ]
     },
     "execution_count": 10,
     "metadata": {},
     "output_type": "execute_result"
    }
   ],
   "source": [
    "df.describe()"
   ]
  },
  {
   "cell_type": "markdown",
   "metadata": {},
   "source": [
    "Метод `.describe()` по умолчанию выбирает только числовые столбцы и возвращает для них следующую информацию:\n",
    "\n",
    "* `count`: число заполненных ячеек;\n",
    "* `mean`: среднее;\n",
    "* `std`: стандартное отклонение;\n",
    "* `min`: минимум;\n",
    "* `25%`: нижний квартиль;\n",
    "* `50%`: медиана;\n",
    "* `75%` : верхний квартиль;\n",
    "* `max`: максимум.\n",
    "\n",
    "> Здесь содержательный смысл есть только у столбца `Size`. Можем отметить, что в столбце `Size` много пропусков (заполнены 28 из 81), при этом есть сигналы о наличии нехарактерно больших значений (верхний квартиль 189, а максимум 600, среднее в два раза превышает медиану)."
   ]
  },
  {
   "cell_type": "markdown",
   "metadata": {},
   "source": [
    "Если мы хотим получить описание текстовых столбцов (а их здесь большинство), добавим аргумент `include = \"object\"`):"
   ]
  },
  {
   "cell_type": "code",
   "execution_count": 11,
   "metadata": {},
   "outputs": [
    {
     "data": {
      "text/html": [
       "<div>\n",
       "<style scoped>\n",
       "    .dataframe tbody tr th:only-of-type {\n",
       "        vertical-align: middle;\n",
       "    }\n",
       "\n",
       "    .dataframe tbody tr th {\n",
       "        vertical-align: top;\n",
       "    }\n",
       "\n",
       "    .dataframe thead th {\n",
       "        text-align: right;\n",
       "    }\n",
       "</style>\n",
       "<table border=\"1\" class=\"dataframe\">\n",
       "  <thead>\n",
       "    <tr style=\"text-align: right;\">\n",
       "      <th></th>\n",
       "      <th>Name</th>\n",
       "      <th>Class</th>\n",
       "      <th>Classification</th>\n",
       "      <th>Colour</th>\n",
       "      <th>Eye</th>\n",
       "      <th>Native</th>\n",
       "    </tr>\n",
       "  </thead>\n",
       "  <tbody>\n",
       "    <tr>\n",
       "      <th>count</th>\n",
       "      <td>81</td>\n",
       "      <td>81</td>\n",
       "      <td>81</td>\n",
       "      <td>81</td>\n",
       "      <td>80</td>\n",
       "      <td>81</td>\n",
       "    </tr>\n",
       "    <tr>\n",
       "      <th>unique</th>\n",
       "      <td>81</td>\n",
       "      <td>72</td>\n",
       "      <td>5</td>\n",
       "      <td>53</td>\n",
       "      <td>17</td>\n",
       "      <td>45</td>\n",
       "    </tr>\n",
       "    <tr>\n",
       "      <th>top</th>\n",
       "      <td>Acromantula</td>\n",
       "      <td>Dragon</td>\n",
       "      <td>XXX</td>\n",
       "      <td>Green</td>\n",
       "      <td>No data</td>\n",
       "      <td>World-wide</td>\n",
       "    </tr>\n",
       "    <tr>\n",
       "      <th>freq</th>\n",
       "      <td>1</td>\n",
       "      <td>10</td>\n",
       "      <td>27</td>\n",
       "      <td>7</td>\n",
       "      <td>34</td>\n",
       "      <td>10</td>\n",
       "    </tr>\n",
       "  </tbody>\n",
       "</table>\n",
       "</div>"
      ],
      "text/plain": [
       "               Name   Class Classification Colour      Eye      Native\n",
       "count            81      81             81     81       80          81\n",
       "unique           81      72              5     53       17          45\n",
       "top     Acromantula  Dragon            XXX  Green  No data  World-wide\n",
       "freq              1      10             27      7       34          10"
      ]
     },
     "execution_count": 11,
     "metadata": {},
     "output_type": "execute_result"
    }
   ],
   "source": [
    "df.describe(include = \"object\")"
   ]
  },
  {
   "cell_type": "markdown",
   "metadata": {},
   "source": [
    "Здесь мы также получаем число заполненных ячеек – `count`, число уникальных значений `unique`, моду – самое частое значение `top` и частоту `freq`, соответствующую моде. Так, например, в `Classification` всего 5 уникальных значений, самое частое – `XXX`, оно встречается 27 раз. При этом, если все значения уникальны (см. столбец `Name`), формально каждое значение считается модой с частотой 1, поэтому `pandas` просто выбирает первое по алфавиту."
   ]
  },
  {
   "cell_type": "markdown",
   "metadata": {},
   "source": [
    "**Дополнительно.** Если нужно выбрать столбцы только определенного типа, это можно сделать через метод `.select_dtypes()`:"
   ]
  },
  {
   "cell_type": "code",
   "execution_count": 12,
   "metadata": {},
   "outputs": [
    {
     "data": {
      "text/html": [
       "<div>\n",
       "<style scoped>\n",
       "    .dataframe tbody tr th:only-of-type {\n",
       "        vertical-align: middle;\n",
       "    }\n",
       "\n",
       "    .dataframe tbody tr th {\n",
       "        vertical-align: top;\n",
       "    }\n",
       "\n",
       "    .dataframe thead th {\n",
       "        text-align: right;\n",
       "    }\n",
       "</style>\n",
       "<table border=\"1\" class=\"dataframe\">\n",
       "  <thead>\n",
       "    <tr style=\"text-align: right;\">\n",
       "      <th></th>\n",
       "      <th>Size</th>\n",
       "    </tr>\n",
       "  </thead>\n",
       "  <tbody>\n",
       "    <tr>\n",
       "      <th>0</th>\n",
       "      <td>180.0</td>\n",
       "    </tr>\n",
       "    <tr>\n",
       "      <th>1</th>\n",
       "      <td>600.0</td>\n",
       "    </tr>\n",
       "    <tr>\n",
       "      <th>2</th>\n",
       "      <td>NaN</td>\n",
       "    </tr>\n",
       "    <tr>\n",
       "      <th>3</th>\n",
       "      <td>NaN</td>\n",
       "    </tr>\n",
       "    <tr>\n",
       "      <th>4</th>\n",
       "      <td>300.0</td>\n",
       "    </tr>\n",
       "    <tr>\n",
       "      <th>...</th>\n",
       "      <td>...</td>\n",
       "    </tr>\n",
       "    <tr>\n",
       "      <th>76</th>\n",
       "      <td>NaN</td>\n",
       "    </tr>\n",
       "    <tr>\n",
       "      <th>77</th>\n",
       "      <td>24.0</td>\n",
       "    </tr>\n",
       "    <tr>\n",
       "      <th>78</th>\n",
       "      <td>NaN</td>\n",
       "    </tr>\n",
       "    <tr>\n",
       "      <th>79</th>\n",
       "      <td>10.0</td>\n",
       "    </tr>\n",
       "    <tr>\n",
       "      <th>80</th>\n",
       "      <td>NaN</td>\n",
       "    </tr>\n",
       "  </tbody>\n",
       "</table>\n",
       "<p>81 rows × 1 columns</p>\n",
       "</div>"
      ],
      "text/plain": [
       "     Size\n",
       "0   180.0\n",
       "1   600.0\n",
       "2     NaN\n",
       "3     NaN\n",
       "4   300.0\n",
       "..    ...\n",
       "76    NaN\n",
       "77   24.0\n",
       "78    NaN\n",
       "79   10.0\n",
       "80    NaN\n",
       "\n",
       "[81 rows x 1 columns]"
      ]
     },
     "execution_count": 12,
     "metadata": {},
     "output_type": "execute_result"
    }
   ],
   "source": [
    "df.select_dtypes(\"float\")"
   ]
  },
  {
   "cell_type": "code",
   "execution_count": 13,
   "metadata": {},
   "outputs": [
    {
     "data": {
      "text/html": [
       "<div>\n",
       "<style scoped>\n",
       "    .dataframe tbody tr th:only-of-type {\n",
       "        vertical-align: middle;\n",
       "    }\n",
       "\n",
       "    .dataframe tbody tr th {\n",
       "        vertical-align: top;\n",
       "    }\n",
       "\n",
       "    .dataframe thead th {\n",
       "        text-align: right;\n",
       "    }\n",
       "</style>\n",
       "<table border=\"1\" class=\"dataframe\">\n",
       "  <thead>\n",
       "    <tr style=\"text-align: right;\">\n",
       "      <th></th>\n",
       "      <th>Unnamed: 0</th>\n",
       "      <th>Size</th>\n",
       "    </tr>\n",
       "  </thead>\n",
       "  <tbody>\n",
       "    <tr>\n",
       "      <th>0</th>\n",
       "      <td>0</td>\n",
       "      <td>180.0</td>\n",
       "    </tr>\n",
       "    <tr>\n",
       "      <th>1</th>\n",
       "      <td>1</td>\n",
       "      <td>600.0</td>\n",
       "    </tr>\n",
       "    <tr>\n",
       "      <th>2</th>\n",
       "      <td>2</td>\n",
       "      <td>NaN</td>\n",
       "    </tr>\n",
       "    <tr>\n",
       "      <th>3</th>\n",
       "      <td>3</td>\n",
       "      <td>NaN</td>\n",
       "    </tr>\n",
       "    <tr>\n",
       "      <th>4</th>\n",
       "      <td>4</td>\n",
       "      <td>300.0</td>\n",
       "    </tr>\n",
       "    <tr>\n",
       "      <th>...</th>\n",
       "      <td>...</td>\n",
       "      <td>...</td>\n",
       "    </tr>\n",
       "    <tr>\n",
       "      <th>76</th>\n",
       "      <td>76</td>\n",
       "      <td>NaN</td>\n",
       "    </tr>\n",
       "    <tr>\n",
       "      <th>77</th>\n",
       "      <td>77</td>\n",
       "      <td>24.0</td>\n",
       "    </tr>\n",
       "    <tr>\n",
       "      <th>78</th>\n",
       "      <td>78</td>\n",
       "      <td>NaN</td>\n",
       "    </tr>\n",
       "    <tr>\n",
       "      <th>79</th>\n",
       "      <td>79</td>\n",
       "      <td>10.0</td>\n",
       "    </tr>\n",
       "    <tr>\n",
       "      <th>80</th>\n",
       "      <td>80</td>\n",
       "      <td>NaN</td>\n",
       "    </tr>\n",
       "  </tbody>\n",
       "</table>\n",
       "<p>81 rows × 2 columns</p>\n",
       "</div>"
      ],
      "text/plain": [
       "    Unnamed: 0   Size\n",
       "0            0  180.0\n",
       "1            1  600.0\n",
       "2            2    NaN\n",
       "3            3    NaN\n",
       "4            4  300.0\n",
       "..         ...    ...\n",
       "76          76    NaN\n",
       "77          77   24.0\n",
       "78          78    NaN\n",
       "79          79   10.0\n",
       "80          80    NaN\n",
       "\n",
       "[81 rows x 2 columns]"
      ]
     },
     "execution_count": 13,
     "metadata": {},
     "output_type": "execute_result"
    }
   ],
   "source": [
    "df.select_dtypes([\"float\", \"int\"])"
   ]
  },
  {
   "cell_type": "markdown",
   "metadata": {},
   "source": [
    "Проверим наличие пропущенных значений в каждом столбце:"
   ]
  },
  {
   "cell_type": "code",
   "execution_count": 14,
   "metadata": {},
   "outputs": [
    {
     "data": {
      "text/html": [
       "<div>\n",
       "<style scoped>\n",
       "    .dataframe tbody tr th:only-of-type {\n",
       "        vertical-align: middle;\n",
       "    }\n",
       "\n",
       "    .dataframe tbody tr th {\n",
       "        vertical-align: top;\n",
       "    }\n",
       "\n",
       "    .dataframe thead th {\n",
       "        text-align: right;\n",
       "    }\n",
       "</style>\n",
       "<table border=\"1\" class=\"dataframe\">\n",
       "  <thead>\n",
       "    <tr style=\"text-align: right;\">\n",
       "      <th></th>\n",
       "      <th>Unnamed: 0</th>\n",
       "      <th>Name</th>\n",
       "      <th>Class</th>\n",
       "      <th>Classification</th>\n",
       "      <th>Colour</th>\n",
       "      <th>Eye</th>\n",
       "      <th>Native</th>\n",
       "      <th>Size</th>\n",
       "    </tr>\n",
       "  </thead>\n",
       "  <tbody>\n",
       "    <tr>\n",
       "      <th>0</th>\n",
       "      <td>False</td>\n",
       "      <td>False</td>\n",
       "      <td>False</td>\n",
       "      <td>False</td>\n",
       "      <td>False</td>\n",
       "      <td>False</td>\n",
       "      <td>False</td>\n",
       "      <td>False</td>\n",
       "    </tr>\n",
       "    <tr>\n",
       "      <th>1</th>\n",
       "      <td>False</td>\n",
       "      <td>False</td>\n",
       "      <td>False</td>\n",
       "      <td>False</td>\n",
       "      <td>False</td>\n",
       "      <td>False</td>\n",
       "      <td>False</td>\n",
       "      <td>False</td>\n",
       "    </tr>\n",
       "    <tr>\n",
       "      <th>2</th>\n",
       "      <td>False</td>\n",
       "      <td>False</td>\n",
       "      <td>False</td>\n",
       "      <td>False</td>\n",
       "      <td>False</td>\n",
       "      <td>False</td>\n",
       "      <td>False</td>\n",
       "      <td>True</td>\n",
       "    </tr>\n",
       "    <tr>\n",
       "      <th>3</th>\n",
       "      <td>False</td>\n",
       "      <td>False</td>\n",
       "      <td>False</td>\n",
       "      <td>False</td>\n",
       "      <td>False</td>\n",
       "      <td>False</td>\n",
       "      <td>False</td>\n",
       "      <td>True</td>\n",
       "    </tr>\n",
       "    <tr>\n",
       "      <th>4</th>\n",
       "      <td>False</td>\n",
       "      <td>False</td>\n",
       "      <td>False</td>\n",
       "      <td>False</td>\n",
       "      <td>False</td>\n",
       "      <td>False</td>\n",
       "      <td>False</td>\n",
       "      <td>False</td>\n",
       "    </tr>\n",
       "    <tr>\n",
       "      <th>...</th>\n",
       "      <td>...</td>\n",
       "      <td>...</td>\n",
       "      <td>...</td>\n",
       "      <td>...</td>\n",
       "      <td>...</td>\n",
       "      <td>...</td>\n",
       "      <td>...</td>\n",
       "      <td>...</td>\n",
       "    </tr>\n",
       "    <tr>\n",
       "      <th>76</th>\n",
       "      <td>False</td>\n",
       "      <td>False</td>\n",
       "      <td>False</td>\n",
       "      <td>False</td>\n",
       "      <td>False</td>\n",
       "      <td>False</td>\n",
       "      <td>False</td>\n",
       "      <td>True</td>\n",
       "    </tr>\n",
       "    <tr>\n",
       "      <th>77</th>\n",
       "      <td>False</td>\n",
       "      <td>False</td>\n",
       "      <td>False</td>\n",
       "      <td>False</td>\n",
       "      <td>False</td>\n",
       "      <td>False</td>\n",
       "      <td>False</td>\n",
       "      <td>False</td>\n",
       "    </tr>\n",
       "    <tr>\n",
       "      <th>78</th>\n",
       "      <td>False</td>\n",
       "      <td>False</td>\n",
       "      <td>False</td>\n",
       "      <td>False</td>\n",
       "      <td>False</td>\n",
       "      <td>False</td>\n",
       "      <td>False</td>\n",
       "      <td>True</td>\n",
       "    </tr>\n",
       "    <tr>\n",
       "      <th>79</th>\n",
       "      <td>False</td>\n",
       "      <td>False</td>\n",
       "      <td>False</td>\n",
       "      <td>False</td>\n",
       "      <td>False</td>\n",
       "      <td>False</td>\n",
       "      <td>False</td>\n",
       "      <td>False</td>\n",
       "    </tr>\n",
       "    <tr>\n",
       "      <th>80</th>\n",
       "      <td>False</td>\n",
       "      <td>False</td>\n",
       "      <td>False</td>\n",
       "      <td>False</td>\n",
       "      <td>False</td>\n",
       "      <td>False</td>\n",
       "      <td>False</td>\n",
       "      <td>True</td>\n",
       "    </tr>\n",
       "  </tbody>\n",
       "</table>\n",
       "<p>81 rows × 8 columns</p>\n",
       "</div>"
      ],
      "text/plain": [
       "    Unnamed: 0   Name  Class  Classification  Colour    Eye  Native   Size\n",
       "0        False  False  False           False   False  False   False  False\n",
       "1        False  False  False           False   False  False   False  False\n",
       "2        False  False  False           False   False  False   False   True\n",
       "3        False  False  False           False   False  False   False   True\n",
       "4        False  False  False           False   False  False   False  False\n",
       "..         ...    ...    ...             ...     ...    ...     ...    ...\n",
       "76       False  False  False           False   False  False   False   True\n",
       "77       False  False  False           False   False  False   False  False\n",
       "78       False  False  False           False   False  False   False   True\n",
       "79       False  False  False           False   False  False   False  False\n",
       "80       False  False  False           False   False  False   False   True\n",
       "\n",
       "[81 rows x 8 columns]"
      ]
     },
     "execution_count": 14,
     "metadata": {},
     "output_type": "execute_result"
    }
   ],
   "source": [
    "df.isna()"
   ]
  },
  {
   "cell_type": "markdown",
   "metadata": {},
   "source": [
    "Метод `.isna()` возвращает нам новый датафрейм из `True` и `False`, где `True` стоит на месте пустых ячеек (`NaN`). Так как для Python значения `True` эквивалентны 1, а `False` – 0, можем посчитать сумму по каждому столбцу, это и будет число пропусков в каждом столбце (количество 1 или `True` в ответ на вопрос о пропусках):"
   ]
  },
  {
   "cell_type": "code",
   "execution_count": 15,
   "metadata": {},
   "outputs": [
    {
     "data": {
      "text/plain": [
       "Unnamed: 0         0\n",
       "Name               0\n",
       "Class              0\n",
       "Classification     0\n",
       "Colour             0\n",
       "Eye                1\n",
       "Native             0\n",
       "Size              53\n",
       "dtype: int64"
      ]
     },
     "execution_count": 15,
     "metadata": {},
     "output_type": "execute_result"
    }
   ],
   "source": [
    "df.isna().sum()"
   ]
  },
  {
   "cell_type": "markdown",
   "metadata": {},
   "source": [
    "Выберем единственный содержательный числовой столбец по названию и проверим, какую информацию по нему можно получить. "
   ]
  },
  {
   "cell_type": "code",
   "execution_count": 16,
   "metadata": {},
   "outputs": [
    {
     "data": {
      "text/plain": [
       "0     180.0\n",
       "1     600.0\n",
       "2       NaN\n",
       "3       NaN\n",
       "4     300.0\n",
       "      ...  \n",
       "76      NaN\n",
       "77     24.0\n",
       "78      NaN\n",
       "79     10.0\n",
       "80      NaN\n",
       "Name: Size, Length: 81, dtype: float64"
      ]
     },
     "execution_count": 16,
     "metadata": {},
     "output_type": "execute_result"
    }
   ],
   "source": [
    "df[\"Size\"]"
   ]
  },
  {
   "cell_type": "markdown",
   "metadata": {},
   "source": [
    "Можем просто описать его через `.describe()`, этот метод подходит и для датафреймов, и для отдельных столбцов:"
   ]
  },
  {
   "cell_type": "code",
   "execution_count": 17,
   "metadata": {},
   "outputs": [
    {
     "data": {
      "text/plain": [
       "count     28.000000\n",
       "mean     147.358929\n",
       "std      178.181732\n",
       "min        0.050000\n",
       "25%       11.500000\n",
       "50%       69.000000\n",
       "75%      189.000000\n",
       "max      600.000000\n",
       "Name: Size, dtype: float64"
      ]
     },
     "execution_count": 17,
     "metadata": {},
     "output_type": "execute_result"
    }
   ],
   "source": [
    "df[\"Size\"].describe()"
   ]
  },
  {
   "cell_type": "markdown",
   "metadata": {},
   "source": [
    "А можем вычислить отдельные статистики, как по массивам:"
   ]
  },
  {
   "cell_type": "code",
   "execution_count": 18,
   "metadata": {},
   "outputs": [
    {
     "name": "stdout",
     "output_type": "stream",
     "text": [
      "28\n",
      "147.35892857142858\n",
      "178.18173153936144\n"
     ]
    }
   ],
   "source": [
    "print(df[\"Size\"].count())\n",
    "print(df[\"Size\"].mean())\n",
    "print(df[\"Size\"].std())"
   ]
  },
  {
   "cell_type": "markdown",
   "metadata": {},
   "source": [
    "В отличие от массивов, здесь есть методы (именно методы, которые можно вызывать через точку, не функции) для медианы и выборочных квантилей разных уровней:"
   ]
  },
  {
   "cell_type": "code",
   "execution_count": 19,
   "metadata": {},
   "outputs": [
    {
     "name": "stdout",
     "output_type": "stream",
     "text": [
      "Медиана: 69.0\n",
      "Нижний квартиль: 11.5\n",
      "Верхний квартиль: 189.0\n"
     ]
    }
   ],
   "source": [
    "print(\"Медиана:\", df[\"Size\"].median())\n",
    "print(\"Нижний квартиль:\", df[\"Size\"].quantile(0.25))\n",
    "print(\"Верхний квартиль:\", df[\"Size\"].quantile(0.75))"
   ]
  },
  {
   "cell_type": "markdown",
   "metadata": {},
   "source": [
    "Что удобно, внутри `.quantile()` можно указать сразу список значений:"
   ]
  },
  {
   "cell_type": "code",
   "execution_count": 20,
   "metadata": {},
   "outputs": [
    {
     "data": {
      "text/plain": [
       "0.25     11.5\n",
       "0.75    189.0\n",
       "Name: Size, dtype: float64"
      ]
     },
     "execution_count": 20,
     "metadata": {},
     "output_type": "execute_result"
    }
   ],
   "source": [
    "df[\"Size\"].quantile([0.25, 0.75])"
   ]
  },
  {
   "cell_type": "markdown",
   "metadata": {},
   "source": [
    "Более того, можно автоматически создать перечень уровней квантилей с заданным шагом с помощью функции `arange()` из библиотеки `numpy` и получить, допустим, набор децилей:"
   ]
  },
  {
   "cell_type": "code",
   "execution_count": 21,
   "metadata": {},
   "outputs": [
    {
     "data": {
      "text/plain": [
       "array([0. , 0.1, 0.2, 0.3, 0.4, 0.5, 0.6, 0.7, 0.8, 0.9])"
      ]
     },
     "execution_count": 21,
     "metadata": {},
     "output_type": "execute_result"
    }
   ],
   "source": [
    "import numpy as np\n",
    "\n",
    "# как range(), только умеет работать с дробными числами\n",
    "# старт в 0, финиш в 1, шаг 0.1\n",
    "\n",
    "np.arange(0, 1, 0.1)"
   ]
  },
  {
   "cell_type": "code",
   "execution_count": 22,
   "metadata": {},
   "outputs": [
    {
     "data": {
      "text/plain": [
       "0.0      0.05\n",
       "0.1      7.70\n",
       "0.2     10.00\n",
       "0.3     12.00\n",
       "0.4     33.60\n",
       "0.5     69.00\n",
       "0.6    151.20\n",
       "0.7    180.00\n",
       "0.8    244.80\n",
       "0.9    396.00\n",
       "Name: Size, dtype: float64"
      ]
     },
     "execution_count": 22,
     "metadata": {},
     "output_type": "execute_result"
    }
   ],
   "source": [
    "df[\"Size\"].quantile(np.arange(0, 1, 0.1))"
   ]
  },
  {
   "cell_type": "markdown",
   "metadata": {},
   "source": [
    "> В нашем примере выборка маленькая (28 заполненных значений в `Size`), считать децили, то есть делить такое число наблюдений на 10 частей не совсем разумно, но технически все работает корректно. Единственное, значение 0 в `arange()` можно пропустить, начать с 0.1, так как «нулевой» дециль – это просто минимум."
   ]
  },
  {
   "cell_type": "markdown",
   "metadata": {},
   "source": [
    "Объект типа `pandas Series` – последовательность `pandas` – по внутреннему устройству похож на словарь:"
   ]
  },
  {
   "cell_type": "code",
   "execution_count": 23,
   "metadata": {},
   "outputs": [
    {
     "data": {
      "text/plain": [
       "0     180.0\n",
       "1     600.0\n",
       "2       NaN\n",
       "3       NaN\n",
       "4     300.0\n",
       "      ...  \n",
       "76      NaN\n",
       "77     24.0\n",
       "78      NaN\n",
       "79     10.0\n",
       "80      NaN\n",
       "Name: Size, Length: 81, dtype: float64"
      ]
     },
     "execution_count": 23,
     "metadata": {},
     "output_type": "execute_result"
    }
   ],
   "source": [
    "df[\"Size\"]"
   ]
  },
  {
   "cell_type": "markdown",
   "metadata": {},
   "source": [
    "В качестве ключей выступают индексы наблюдений (здесь целочисленные, но могут быть и текстовыми), а в качестве значений – сами значения в столбце таблицы. Другими словами, одна ячейка в столбце – это связанная пара *индекс-значение*, из которой просто так выбросить индекс нельзя. Но, как и словарь, столбец можно разобрать на части. Так, значения вызываются через атрибут `.values`:"
   ]
  },
  {
   "cell_type": "code",
   "execution_count": 24,
   "metadata": {},
   "outputs": [
    {
     "data": {
      "text/plain": [
       "array([1.80e+02, 6.00e+02,      nan,      nan, 3.00e+02, 2.16e+02,\n",
       "       3.60e+02, 6.00e+02,      nan, 1.80e+02, 4.80e+02, 2.64e+02,\n",
       "            nan,      nan,      nan,      nan,      nan,      nan,\n",
       "            nan,      nan, 3.60e+01,      nan,      nan,      nan,\n",
       "            nan,      nan,      nan, 1.80e+02,      nan,      nan,\n",
       "       7.80e+01, 1.20e+01,      nan,      nan,      nan, 1.44e+02,\n",
       "            nan, 1.80e+02,      nan,      nan,      nan,      nan,\n",
       "            nan,      nan,      nan,      nan,      nan,      nan,\n",
       "            nan,      nan,      nan,      nan, 1.20e+02, 1.20e+01,\n",
       "       1.00e+01,      nan,      nan,      nan, 8.00e+00,      nan,\n",
       "            nan, 4.20e+01,      nan,      nan,      nan,      nan,\n",
       "       8.00e+00, 5.00e-02,      nan,      nan, 3.00e+00,      nan,\n",
       "       1.20e+01, 6.00e+01, 7.00e+00,      nan,      nan, 2.40e+01,\n",
       "            nan, 1.00e+01,      nan])"
      ]
     },
     "execution_count": 24,
     "metadata": {},
     "output_type": "execute_result"
    }
   ],
   "source": [
    "# результат – уже массив, numpy array\n",
    "\n",
    "df[\"Size\"].values"
   ]
  },
  {
   "cell_type": "markdown",
   "metadata": {},
   "source": [
    "А индексы – через атрибут `.index`:"
   ]
  },
  {
   "cell_type": "code",
   "execution_count": 25,
   "metadata": {},
   "outputs": [
    {
     "data": {
      "text/plain": [
       "RangeIndex(start=0, stop=81, step=1)"
      ]
     },
     "execution_count": 25,
     "metadata": {},
     "output_type": "execute_result"
    }
   ],
   "source": [
    "# результат – интервал типа RangeIndex\n",
    "\n",
    "df[\"Size\"].index"
   ]
  },
  {
   "cell_type": "markdown",
   "metadata": {},
   "source": [
    "> **Примечание.** Выше в массиве со значениями `.values` используется научная запись числа. Так, первое значение `1.80e+02` – это $1.8 \\times 10^2$, то есть просто 180. А значение `5.00e-02` – это $5\\times 10^{-2}$, то есть 0.05. Пропущенные значения в массивах `numpy` обозначаются через `nan`, а в `pandas` – через `NaN`, формально это одно и то же."
   ]
  },
  {
   "cell_type": "markdown",
   "metadata": {},
   "source": [
    "Без деления столбцов на части спокойно можно жить, однако понимание их внутренней структуры позволяет более осмысленно применять различные методы и обрабатывать результаты их применения. Так, например, в задачах ниже мы увидим, что сортировать столбцы можно как по значениям, так и по индексам (особенно осмысленно, если индексы текстовые)."
   ]
  },
  {
   "cell_type": "markdown",
   "metadata": {},
   "source": [
    "### Задача 1\n",
    "\n",
    "Выведите таблицу частот для столбца `Classification`:\n",
    "\n",
    "* с настройками, предложенными Python по умолчанию;\n",
    "* со строками, упорядоченными от самого редкого значения к самому частому;\n",
    "* со строками, упорядоченными по возрастанию уровня опасности;\n",
    "* со строками, упорядоченными по убыванию уровня опасности.\n",
    "\n",
    "**Подсказка:** метод `.value_counts()` и методы `.sort_values()` и `.sort_index()`.\n"
   ]
  },
  {
   "cell_type": "code",
   "execution_count": 26,
   "metadata": {},
   "outputs": [
    {
     "data": {
      "text/plain": [
       "XXX      27\n",
       "XXXX     20\n",
       "XXXXX    18\n",
       "XX       14\n",
       "X         2\n",
       "Name: Classification, dtype: int64"
      ]
     },
     "execution_count": 26,
     "metadata": {},
     "output_type": "execute_result"
    }
   ],
   "source": [
    "# по умолчанию\n",
    "df[\"Classification\"].value_counts()"
   ]
  },
  {
   "cell_type": "markdown",
   "metadata": {},
   "source": [
    "> Результат `.value_counts()` – столбец, последовательность `pandas`, то есть `pandas Series`. Здесь индексы значений – это названия категорий (`XXX`, `XXXX` и так далее), а сами значения – частоты."
   ]
  },
  {
   "cell_type": "code",
   "execution_count": 27,
   "metadata": {},
   "outputs": [
    {
     "data": {
      "text/plain": [
       "X         2\n",
       "XX       14\n",
       "XXXXX    18\n",
       "XXXX     20\n",
       "XXX      27\n",
       "Name: Classification, dtype: int64"
      ]
     },
     "execution_count": 27,
     "metadata": {},
     "output_type": "execute_result"
    }
   ],
   "source": [
    "# сортируем по значениям\n",
    "# от малого 2 к большому 27\n",
    "\n",
    "df[\"Classification\"].value_counts().sort_values()"
   ]
  },
  {
   "cell_type": "code",
   "execution_count": 28,
   "metadata": {},
   "outputs": [
    {
     "data": {
      "text/plain": [
       "X         2\n",
       "XX       14\n",
       "XXX      27\n",
       "XXXX     20\n",
       "XXXXX    18\n",
       "Name: Classification, dtype: int64"
      ]
     },
     "execution_count": 28,
     "metadata": {},
     "output_type": "execute_result"
    }
   ],
   "source": [
    "# сортируем по индексам\n",
    "# по алфавиту от X до XXXXX\n",
    "\n",
    "df[\"Classification\"].value_counts().sort_index()"
   ]
  },
  {
   "cell_type": "code",
   "execution_count": 29,
   "metadata": {},
   "outputs": [
    {
     "data": {
      "text/plain": [
       "XXXXX    18\n",
       "XXXX     20\n",
       "XXX      27\n",
       "XX       14\n",
       "X         2\n",
       "Name: Classification, dtype: int64"
      ]
     },
     "execution_count": 29,
     "metadata": {},
     "output_type": "execute_result"
    }
   ],
   "source": [
    "# сортируем по индексам\n",
    "# по алфавиту в обратном порядке\n",
    "\n",
    "df[\"Classification\"].value_counts().sort_index(ascending=False)"
   ]
  },
  {
   "cell_type": "markdown",
   "metadata": {},
   "source": [
    "### Задача 2\n",
    "\n",
    "Отсортируйте строки в датафрейме:\n",
    "\n",
    "* по убыванию размера существ (столбец `Size`);\n",
    "* по убыванию уровня опасности (столбец `Classification`) и убыванию размера существ (`Size`);\n",
    "* чтобы существа были упорядочены по убыванию уровня опасности, но при одинаковом уровне опасности сначала были указаны существа, чье название стоит ранее по алфавиту."
   ]
  },
  {
   "cell_type": "code",
   "execution_count": 30,
   "metadata": {},
   "outputs": [
    {
     "data": {
      "text/html": [
       "<div>\n",
       "<style scoped>\n",
       "    .dataframe tbody tr th:only-of-type {\n",
       "        vertical-align: middle;\n",
       "    }\n",
       "\n",
       "    .dataframe tbody tr th {\n",
       "        vertical-align: top;\n",
       "    }\n",
       "\n",
       "    .dataframe thead th {\n",
       "        text-align: right;\n",
       "    }\n",
       "</style>\n",
       "<table border=\"1\" class=\"dataframe\">\n",
       "  <thead>\n",
       "    <tr style=\"text-align: right;\">\n",
       "      <th></th>\n",
       "      <th>Unnamed: 0</th>\n",
       "      <th>Name</th>\n",
       "      <th>Class</th>\n",
       "      <th>Classification</th>\n",
       "      <th>Colour</th>\n",
       "      <th>Eye</th>\n",
       "      <th>Native</th>\n",
       "      <th>Size</th>\n",
       "    </tr>\n",
       "  </thead>\n",
       "  <tbody>\n",
       "    <tr>\n",
       "      <th>7</th>\n",
       "      <td>7</td>\n",
       "      <td>Hungarian Horntail</td>\n",
       "      <td>Dragon</td>\n",
       "      <td>XXXXX</td>\n",
       "      <td>Black</td>\n",
       "      <td>Yellow</td>\n",
       "      <td>Hungary</td>\n",
       "      <td>600.0</td>\n",
       "    </tr>\n",
       "    <tr>\n",
       "      <th>1</th>\n",
       "      <td>1</td>\n",
       "      <td>Basilisk</td>\n",
       "      <td>Basilisk</td>\n",
       "      <td>XXXXX</td>\n",
       "      <td>Green</td>\n",
       "      <td>Yellow</td>\n",
       "      <td>Greece</td>\n",
       "      <td>600.0</td>\n",
       "    </tr>\n",
       "    <tr>\n",
       "      <th>10</th>\n",
       "      <td>10</td>\n",
       "      <td>Romanian Longhorn</td>\n",
       "      <td>Dragon</td>\n",
       "      <td>XXXXX</td>\n",
       "      <td>Dark green</td>\n",
       "      <td>No data</td>\n",
       "      <td>Romania</td>\n",
       "      <td>480.0</td>\n",
       "    </tr>\n",
       "    <tr>\n",
       "      <th>6</th>\n",
       "      <td>6</td>\n",
       "      <td>Hebridean Black</td>\n",
       "      <td>Dragon</td>\n",
       "      <td>XXXXX</td>\n",
       "      <td>Dark</td>\n",
       "      <td>Brilliant purple</td>\n",
       "      <td>Scotland</td>\n",
       "      <td>360.0</td>\n",
       "    </tr>\n",
       "    <tr>\n",
       "      <th>4</th>\n",
       "      <td>4</td>\n",
       "      <td>Chinese Fireball</td>\n",
       "      <td>Dragon</td>\n",
       "      <td>XXXXX</td>\n",
       "      <td>Scarlet</td>\n",
       "      <td>Yellow</td>\n",
       "      <td>China</td>\n",
       "      <td>300.0</td>\n",
       "    </tr>\n",
       "    <tr>\n",
       "      <th>...</th>\n",
       "      <td>...</td>\n",
       "      <td>...</td>\n",
       "      <td>...</td>\n",
       "      <td>...</td>\n",
       "      <td>...</td>\n",
       "      <td>...</td>\n",
       "      <td>...</td>\n",
       "      <td>...</td>\n",
       "    </tr>\n",
       "    <tr>\n",
       "      <th>71</th>\n",
       "      <td>71</td>\n",
       "      <td>Ghoul</td>\n",
       "      <td>Ghoul</td>\n",
       "      <td>XX</td>\n",
       "      <td>Greyish green</td>\n",
       "      <td>Green</td>\n",
       "      <td>No data</td>\n",
       "      <td>NaN</td>\n",
       "    </tr>\n",
       "    <tr>\n",
       "      <th>75</th>\n",
       "      <td>75</td>\n",
       "      <td>Jobberknoll</td>\n",
       "      <td>Jobberknoll</td>\n",
       "      <td>XX</td>\n",
       "      <td>Speckled blue</td>\n",
       "      <td>Black</td>\n",
       "      <td>Europe|North America</td>\n",
       "      <td>NaN</td>\n",
       "    </tr>\n",
       "    <tr>\n",
       "      <th>76</th>\n",
       "      <td>76</td>\n",
       "      <td>Mooncalf</td>\n",
       "      <td>Mooncalf</td>\n",
       "      <td>XX</td>\n",
       "      <td>Pink|Pale grey</td>\n",
       "      <td>Blue-green</td>\n",
       "      <td>World-wide</td>\n",
       "      <td>NaN</td>\n",
       "    </tr>\n",
       "    <tr>\n",
       "      <th>78</th>\n",
       "      <td>78</td>\n",
       "      <td>Puffskein</td>\n",
       "      <td>Puffskein</td>\n",
       "      <td>XX</td>\n",
       "      <td>Custard</td>\n",
       "      <td>No data</td>\n",
       "      <td>No data</td>\n",
       "      <td>NaN</td>\n",
       "    </tr>\n",
       "    <tr>\n",
       "      <th>80</th>\n",
       "      <td>80</td>\n",
       "      <td>Horklump</td>\n",
       "      <td>Horklump</td>\n",
       "      <td>X</td>\n",
       "      <td>Pink|Black</td>\n",
       "      <td>No data</td>\n",
       "      <td>Scandinavia</td>\n",
       "      <td>NaN</td>\n",
       "    </tr>\n",
       "  </tbody>\n",
       "</table>\n",
       "<p>81 rows × 8 columns</p>\n",
       "</div>"
      ],
      "text/plain": [
       "    Unnamed: 0                Name        Class Classification  \\\n",
       "7            7  Hungarian Horntail       Dragon          XXXXX   \n",
       "1            1            Basilisk     Basilisk          XXXXX   \n",
       "10          10   Romanian Longhorn       Dragon          XXXXX   \n",
       "6            6     Hebridean Black       Dragon          XXXXX   \n",
       "4            4    Chinese Fireball       Dragon          XXXXX   \n",
       "..         ...                 ...          ...            ...   \n",
       "71          71               Ghoul        Ghoul             XX   \n",
       "75          75         Jobberknoll  Jobberknoll             XX   \n",
       "76          76            Mooncalf     Mooncalf             XX   \n",
       "78          78           Puffskein    Puffskein             XX   \n",
       "80          80            Horklump     Horklump              X   \n",
       "\n",
       "            Colour               Eye                Native   Size  \n",
       "7            Black            Yellow               Hungary  600.0  \n",
       "1            Green            Yellow                Greece  600.0  \n",
       "10      Dark green           No data               Romania  480.0  \n",
       "6             Dark  Brilliant purple              Scotland  360.0  \n",
       "4          Scarlet            Yellow                 China  300.0  \n",
       "..             ...               ...                   ...    ...  \n",
       "71   Greyish green             Green               No data    NaN  \n",
       "75   Speckled blue             Black  Europe|North America    NaN  \n",
       "76  Pink|Pale grey        Blue-green            World-wide    NaN  \n",
       "78         Custard           No data               No data    NaN  \n",
       "80      Pink|Black           No data           Scandinavia    NaN  \n",
       "\n",
       "[81 rows x 8 columns]"
      ]
     },
     "execution_count": 30,
     "metadata": {},
     "output_type": "execute_result"
    }
   ],
   "source": [
    "# та же история, только применяем метод к df\n",
    "# как аргумент – название столбца, по которому сортируем\n",
    "\n",
    "df.sort_values(\"Size\", ascending=False)"
   ]
  },
  {
   "cell_type": "code",
   "execution_count": 31,
   "metadata": {},
   "outputs": [
    {
     "data": {
      "text/html": [
       "<div>\n",
       "<style scoped>\n",
       "    .dataframe tbody tr th:only-of-type {\n",
       "        vertical-align: middle;\n",
       "    }\n",
       "\n",
       "    .dataframe tbody tr th {\n",
       "        vertical-align: top;\n",
       "    }\n",
       "\n",
       "    .dataframe thead th {\n",
       "        text-align: right;\n",
       "    }\n",
       "</style>\n",
       "<table border=\"1\" class=\"dataframe\">\n",
       "  <thead>\n",
       "    <tr style=\"text-align: right;\">\n",
       "      <th></th>\n",
       "      <th>Unnamed: 0</th>\n",
       "      <th>Name</th>\n",
       "      <th>Class</th>\n",
       "      <th>Classification</th>\n",
       "      <th>Colour</th>\n",
       "      <th>Eye</th>\n",
       "      <th>Native</th>\n",
       "      <th>Size</th>\n",
       "    </tr>\n",
       "  </thead>\n",
       "  <tbody>\n",
       "    <tr>\n",
       "      <th>1</th>\n",
       "      <td>1</td>\n",
       "      <td>Basilisk</td>\n",
       "      <td>Basilisk</td>\n",
       "      <td>XXXXX</td>\n",
       "      <td>Green</td>\n",
       "      <td>Yellow</td>\n",
       "      <td>Greece</td>\n",
       "      <td>600.0</td>\n",
       "    </tr>\n",
       "    <tr>\n",
       "      <th>7</th>\n",
       "      <td>7</td>\n",
       "      <td>Hungarian Horntail</td>\n",
       "      <td>Dragon</td>\n",
       "      <td>XXXXX</td>\n",
       "      <td>Black</td>\n",
       "      <td>Yellow</td>\n",
       "      <td>Hungary</td>\n",
       "      <td>600.0</td>\n",
       "    </tr>\n",
       "    <tr>\n",
       "      <th>10</th>\n",
       "      <td>10</td>\n",
       "      <td>Romanian Longhorn</td>\n",
       "      <td>Dragon</td>\n",
       "      <td>XXXXX</td>\n",
       "      <td>Dark green</td>\n",
       "      <td>No data</td>\n",
       "      <td>Romania</td>\n",
       "      <td>480.0</td>\n",
       "    </tr>\n",
       "    <tr>\n",
       "      <th>6</th>\n",
       "      <td>6</td>\n",
       "      <td>Hebridean Black</td>\n",
       "      <td>Dragon</td>\n",
       "      <td>XXXXX</td>\n",
       "      <td>Dark</td>\n",
       "      <td>Brilliant purple</td>\n",
       "      <td>Scotland</td>\n",
       "      <td>360.0</td>\n",
       "    </tr>\n",
       "    <tr>\n",
       "      <th>4</th>\n",
       "      <td>4</td>\n",
       "      <td>Chinese Fireball</td>\n",
       "      <td>Dragon</td>\n",
       "      <td>XXXXX</td>\n",
       "      <td>Scarlet</td>\n",
       "      <td>Yellow</td>\n",
       "      <td>China</td>\n",
       "      <td>300.0</td>\n",
       "    </tr>\n",
       "    <tr>\n",
       "      <th>...</th>\n",
       "      <td>...</td>\n",
       "      <td>...</td>\n",
       "      <td>...</td>\n",
       "      <td>...</td>\n",
       "      <td>...</td>\n",
       "      <td>...</td>\n",
       "      <td>...</td>\n",
       "      <td>...</td>\n",
       "    </tr>\n",
       "    <tr>\n",
       "      <th>75</th>\n",
       "      <td>75</td>\n",
       "      <td>Jobberknoll</td>\n",
       "      <td>Jobberknoll</td>\n",
       "      <td>XX</td>\n",
       "      <td>Speckled blue</td>\n",
       "      <td>Black</td>\n",
       "      <td>Europe|North America</td>\n",
       "      <td>NaN</td>\n",
       "    </tr>\n",
       "    <tr>\n",
       "      <th>76</th>\n",
       "      <td>76</td>\n",
       "      <td>Mooncalf</td>\n",
       "      <td>Mooncalf</td>\n",
       "      <td>XX</td>\n",
       "      <td>Pink|Pale grey</td>\n",
       "      <td>Blue-green</td>\n",
       "      <td>World-wide</td>\n",
       "      <td>NaN</td>\n",
       "    </tr>\n",
       "    <tr>\n",
       "      <th>78</th>\n",
       "      <td>78</td>\n",
       "      <td>Puffskein</td>\n",
       "      <td>Puffskein</td>\n",
       "      <td>XX</td>\n",
       "      <td>Custard</td>\n",
       "      <td>No data</td>\n",
       "      <td>No data</td>\n",
       "      <td>NaN</td>\n",
       "    </tr>\n",
       "    <tr>\n",
       "      <th>79</th>\n",
       "      <td>79</td>\n",
       "      <td>Flobberworm</td>\n",
       "      <td>Flobberworm</td>\n",
       "      <td>X</td>\n",
       "      <td>Brown</td>\n",
       "      <td>No data</td>\n",
       "      <td>No data</td>\n",
       "      <td>10.0</td>\n",
       "    </tr>\n",
       "    <tr>\n",
       "      <th>80</th>\n",
       "      <td>80</td>\n",
       "      <td>Horklump</td>\n",
       "      <td>Horklump</td>\n",
       "      <td>X</td>\n",
       "      <td>Pink|Black</td>\n",
       "      <td>No data</td>\n",
       "      <td>Scandinavia</td>\n",
       "      <td>NaN</td>\n",
       "    </tr>\n",
       "  </tbody>\n",
       "</table>\n",
       "<p>81 rows × 8 columns</p>\n",
       "</div>"
      ],
      "text/plain": [
       "    Unnamed: 0                Name        Class Classification  \\\n",
       "1            1            Basilisk     Basilisk          XXXXX   \n",
       "7            7  Hungarian Horntail       Dragon          XXXXX   \n",
       "10          10   Romanian Longhorn       Dragon          XXXXX   \n",
       "6            6     Hebridean Black       Dragon          XXXXX   \n",
       "4            4    Chinese Fireball       Dragon          XXXXX   \n",
       "..         ...                 ...          ...            ...   \n",
       "75          75         Jobberknoll  Jobberknoll             XX   \n",
       "76          76            Mooncalf     Mooncalf             XX   \n",
       "78          78           Puffskein    Puffskein             XX   \n",
       "79          79         Flobberworm  Flobberworm              X   \n",
       "80          80            Horklump     Horklump              X   \n",
       "\n",
       "            Colour               Eye                Native   Size  \n",
       "1            Green            Yellow                Greece  600.0  \n",
       "7            Black            Yellow               Hungary  600.0  \n",
       "10      Dark green           No data               Romania  480.0  \n",
       "6             Dark  Brilliant purple              Scotland  360.0  \n",
       "4          Scarlet            Yellow                 China  300.0  \n",
       "..             ...               ...                   ...    ...  \n",
       "75   Speckled blue             Black  Europe|North America    NaN  \n",
       "76  Pink|Pale grey        Blue-green            World-wide    NaN  \n",
       "78         Custard           No data               No data    NaN  \n",
       "79           Brown           No data               No data   10.0  \n",
       "80      Pink|Black           No data           Scandinavia    NaN  \n",
       "\n",
       "[81 rows x 8 columns]"
      ]
     },
     "execution_count": 31,
     "metadata": {},
     "output_type": "execute_result"
    }
   ],
   "source": [
    "# два основания сортировки – два названия списком\n",
    "\n",
    "df.sort_values([\"Classification\", \"Size\"], ascending=False)"
   ]
  },
  {
   "cell_type": "code",
   "execution_count": 32,
   "metadata": {},
   "outputs": [
    {
     "data": {
      "text/html": [
       "<div>\n",
       "<style scoped>\n",
       "    .dataframe tbody tr th:only-of-type {\n",
       "        vertical-align: middle;\n",
       "    }\n",
       "\n",
       "    .dataframe tbody tr th {\n",
       "        vertical-align: top;\n",
       "    }\n",
       "\n",
       "    .dataframe thead th {\n",
       "        text-align: right;\n",
       "    }\n",
       "</style>\n",
       "<table border=\"1\" class=\"dataframe\">\n",
       "  <thead>\n",
       "    <tr style=\"text-align: right;\">\n",
       "      <th></th>\n",
       "      <th>Unnamed: 0</th>\n",
       "      <th>Name</th>\n",
       "      <th>Class</th>\n",
       "      <th>Classification</th>\n",
       "      <th>Colour</th>\n",
       "      <th>Eye</th>\n",
       "      <th>Native</th>\n",
       "      <th>Size</th>\n",
       "    </tr>\n",
       "  </thead>\n",
       "  <tbody>\n",
       "    <tr>\n",
       "      <th>0</th>\n",
       "      <td>0</td>\n",
       "      <td>Acromantula</td>\n",
       "      <td>Acromantula</td>\n",
       "      <td>XXXXX</td>\n",
       "      <td>Jet-Black</td>\n",
       "      <td>Black</td>\n",
       "      <td>Island of Borneo</td>\n",
       "      <td>180.0</td>\n",
       "    </tr>\n",
       "    <tr>\n",
       "      <th>3</th>\n",
       "      <td>3</td>\n",
       "      <td>Antipodean Opaleye</td>\n",
       "      <td>Dragon</td>\n",
       "      <td>XXXXX</td>\n",
       "      <td>Pearly</td>\n",
       "      <td>Multi-coloured</td>\n",
       "      <td>New Zealand</td>\n",
       "      <td>NaN</td>\n",
       "    </tr>\n",
       "    <tr>\n",
       "      <th>1</th>\n",
       "      <td>1</td>\n",
       "      <td>Basilisk</td>\n",
       "      <td>Basilisk</td>\n",
       "      <td>XXXXX</td>\n",
       "      <td>Green</td>\n",
       "      <td>Yellow</td>\n",
       "      <td>Greece</td>\n",
       "      <td>600.0</td>\n",
       "    </tr>\n",
       "    <tr>\n",
       "      <th>2</th>\n",
       "      <td>2</td>\n",
       "      <td>Chimaera</td>\n",
       "      <td>Chimaera</td>\n",
       "      <td>XXXXX</td>\n",
       "      <td>Golden</td>\n",
       "      <td>White</td>\n",
       "      <td>Greece</td>\n",
       "      <td>NaN</td>\n",
       "    </tr>\n",
       "    <tr>\n",
       "      <th>4</th>\n",
       "      <td>4</td>\n",
       "      <td>Chinese Fireball</td>\n",
       "      <td>Dragon</td>\n",
       "      <td>XXXXX</td>\n",
       "      <td>Scarlet</td>\n",
       "      <td>Yellow</td>\n",
       "      <td>China</td>\n",
       "      <td>300.0</td>\n",
       "    </tr>\n",
       "    <tr>\n",
       "      <th>...</th>\n",
       "      <td>...</td>\n",
       "      <td>...</td>\n",
       "      <td>...</td>\n",
       "      <td>...</td>\n",
       "      <td>...</td>\n",
       "      <td>...</td>\n",
       "      <td>...</td>\n",
       "      <td>...</td>\n",
       "    </tr>\n",
       "    <tr>\n",
       "      <th>76</th>\n",
       "      <td>76</td>\n",
       "      <td>Mooncalf</td>\n",
       "      <td>Mooncalf</td>\n",
       "      <td>XX</td>\n",
       "      <td>Pink|Pale grey</td>\n",
       "      <td>Blue-green</td>\n",
       "      <td>World-wide</td>\n",
       "      <td>NaN</td>\n",
       "    </tr>\n",
       "    <tr>\n",
       "      <th>77</th>\n",
       "      <td>77</td>\n",
       "      <td>Porlock</td>\n",
       "      <td>Porlock</td>\n",
       "      <td>XX</td>\n",
       "      <td>Black|Red|Brown</td>\n",
       "      <td>Blue</td>\n",
       "      <td>England|Ireland</td>\n",
       "      <td>24.0</td>\n",
       "    </tr>\n",
       "    <tr>\n",
       "      <th>78</th>\n",
       "      <td>78</td>\n",
       "      <td>Puffskein</td>\n",
       "      <td>Puffskein</td>\n",
       "      <td>XX</td>\n",
       "      <td>Custard</td>\n",
       "      <td>No data</td>\n",
       "      <td>No data</td>\n",
       "      <td>NaN</td>\n",
       "    </tr>\n",
       "    <tr>\n",
       "      <th>79</th>\n",
       "      <td>79</td>\n",
       "      <td>Flobberworm</td>\n",
       "      <td>Flobberworm</td>\n",
       "      <td>X</td>\n",
       "      <td>Brown</td>\n",
       "      <td>No data</td>\n",
       "      <td>No data</td>\n",
       "      <td>10.0</td>\n",
       "    </tr>\n",
       "    <tr>\n",
       "      <th>80</th>\n",
       "      <td>80</td>\n",
       "      <td>Horklump</td>\n",
       "      <td>Horklump</td>\n",
       "      <td>X</td>\n",
       "      <td>Pink|Black</td>\n",
       "      <td>No data</td>\n",
       "      <td>Scandinavia</td>\n",
       "      <td>NaN</td>\n",
       "    </tr>\n",
       "  </tbody>\n",
       "</table>\n",
       "<p>81 rows × 8 columns</p>\n",
       "</div>"
      ],
      "text/plain": [
       "    Unnamed: 0                Name        Class Classification  \\\n",
       "0            0         Acromantula  Acromantula          XXXXX   \n",
       "3            3  Antipodean Opaleye       Dragon          XXXXX   \n",
       "1            1            Basilisk     Basilisk          XXXXX   \n",
       "2            2            Chimaera     Chimaera          XXXXX   \n",
       "4            4    Chinese Fireball       Dragon          XXXXX   \n",
       "..         ...                 ...          ...            ...   \n",
       "76          76            Mooncalf     Mooncalf             XX   \n",
       "77          77             Porlock      Porlock             XX   \n",
       "78          78           Puffskein    Puffskein             XX   \n",
       "79          79         Flobberworm  Flobberworm              X   \n",
       "80          80            Horklump     Horklump              X   \n",
       "\n",
       "             Colour             Eye            Native   Size  \n",
       "0         Jet-Black           Black  Island of Borneo  180.0  \n",
       "3            Pearly  Multi-coloured       New Zealand    NaN  \n",
       "1             Green          Yellow            Greece  600.0  \n",
       "2            Golden           White            Greece    NaN  \n",
       "4           Scarlet          Yellow             China  300.0  \n",
       "..              ...             ...               ...    ...  \n",
       "76   Pink|Pale grey      Blue-green        World-wide    NaN  \n",
       "77  Black|Red|Brown            Blue   England|Ireland   24.0  \n",
       "78          Custard         No data           No data    NaN  \n",
       "79            Brown         No data           No data   10.0  \n",
       "80       Pink|Black         No data       Scandinavia    NaN  \n",
       "\n",
       "[81 rows x 8 columns]"
      ]
     },
     "execution_count": 32,
     "metadata": {},
     "output_type": "execute_result"
    }
   ],
   "source": [
    "# в ascending тоже список,\n",
    "# порядок сортировки по Classification и Name разный\n",
    "\n",
    "df.sort_values([\"Classification\", \"Name\"], ascending = [False, True])"
   ]
  },
  {
   "cell_type": "markdown",
   "metadata": {},
   "source": [
    "**NB.** По умолчанию метод `.sort_values()`, как и многие другие, не изменяет сам датафрейм, а возвращает его измененную копию. Поэтому выше на экране мы видим датафреймы с соответствующей сортировкой и номерами строк «вперемешку» (а в самом `df` все по-прежнему). Чтобы сохранить изменения, можно либо перезаписать сам датафрейм через `=`:\n",
    "\n",
    "    df = df.sort_values([\"Classification\", \"Size\"], ascending=False)\n",
    "    \n",
    "Либо добавить аргумент `inplace = True`:\n",
    "\n",
    "    df.sort_values([\"Classification\", \"Size\"], ascending=False, inplace = True)\n",
    "    \n",
    "Главное, не использовать `=` и `inplace = True` одновременно. Когда мы дописываем `inplace = True`, изменения молча сохраняются в `df`, а сам метод `.sort_values()` ничего не возвращает, то есть возвращает `None`. Если записать `df.sort_values([\"Classification\", \"Size\"], ascending=False, inplace = True)` в `df` будет храниться `None`, то есть мы попросту сотрем датафрейм."
   ]
  },
  {
   "cell_type": "markdown",
   "metadata": {},
   "source": [
    "### Задача 3\n",
    "\n",
    "Определите число уникальных значений цветов глаз существ (переменная `Eye`). \n",
    "\n",
    "**Подсказка:** метод `.unique()`."
   ]
  },
  {
   "cell_type": "code",
   "execution_count": 33,
   "metadata": {},
   "outputs": [
    {
     "data": {
      "text/plain": [
       "array(['Black', 'Yellow', 'White', 'Multi-coloured', 'No data',\n",
       "       'Brilliant purple', 'Deep red', 'Varies', 'Brown', 'Red', 'Hazel',\n",
       "       'Grey', nan, 'Orange', 'Blue', 'Green', 'Yellow|White|Green',\n",
       "       'Blue-green'], dtype=object)"
      ]
     },
     "execution_count": 33,
     "metadata": {},
     "output_type": "execute_result"
    }
   ],
   "source": [
    "df[\"Eye\"].unique()"
   ]
  },
  {
   "cell_type": "code",
   "execution_count": 34,
   "metadata": {},
   "outputs": [
    {
     "name": "stdout",
     "output_type": "stream",
     "text": [
      "18\n"
     ]
    }
   ],
   "source": [
    "n = df[\"Eye\"].unique().size\n",
    "print(n)"
   ]
  },
  {
   "cell_type": "markdown",
   "metadata": {},
   "source": [
    "### Задача 4\n",
    "\n",
    "Добавьте в таблицу новый столбец `Dragon`, который будет представлять собой закодированный вид существа: 1, если это дракон, 0 – во всех остальных случаях (переменная `Class`)."
   ]
  },
  {
   "cell_type": "code",
   "execution_count": 35,
   "metadata": {},
   "outputs": [
    {
     "data": {
      "text/plain": [
       "0     False\n",
       "1     False\n",
       "2     False\n",
       "3      True\n",
       "4      True\n",
       "      ...  \n",
       "76    False\n",
       "77    False\n",
       "78    False\n",
       "79    False\n",
       "80    False\n",
       "Name: Class, Length: 81, dtype: bool"
      ]
     },
     "execution_count": 35,
     "metadata": {},
     "output_type": "execute_result"
    }
   ],
   "source": [
    "# просто проверим равенство слову Dragon для \n",
    "# каждой ячейки в столбце Class\n",
    "\n",
    "df[\"Class\"] == \"Dragon\""
   ]
  },
  {
   "cell_type": "code",
   "execution_count": 36,
   "metadata": {},
   "outputs": [
    {
     "data": {
      "text/html": [
       "<div>\n",
       "<style scoped>\n",
       "    .dataframe tbody tr th:only-of-type {\n",
       "        vertical-align: middle;\n",
       "    }\n",
       "\n",
       "    .dataframe tbody tr th {\n",
       "        vertical-align: top;\n",
       "    }\n",
       "\n",
       "    .dataframe thead th {\n",
       "        text-align: right;\n",
       "    }\n",
       "</style>\n",
       "<table border=\"1\" class=\"dataframe\">\n",
       "  <thead>\n",
       "    <tr style=\"text-align: right;\">\n",
       "      <th></th>\n",
       "      <th>Unnamed: 0</th>\n",
       "      <th>Name</th>\n",
       "      <th>Class</th>\n",
       "      <th>Classification</th>\n",
       "      <th>Colour</th>\n",
       "      <th>Eye</th>\n",
       "      <th>Native</th>\n",
       "      <th>Size</th>\n",
       "      <th>Dragon</th>\n",
       "    </tr>\n",
       "  </thead>\n",
       "  <tbody>\n",
       "    <tr>\n",
       "      <th>0</th>\n",
       "      <td>0</td>\n",
       "      <td>Acromantula</td>\n",
       "      <td>Acromantula</td>\n",
       "      <td>XXXXX</td>\n",
       "      <td>Jet-Black</td>\n",
       "      <td>Black</td>\n",
       "      <td>Island of Borneo</td>\n",
       "      <td>180.0</td>\n",
       "      <td>0</td>\n",
       "    </tr>\n",
       "    <tr>\n",
       "      <th>1</th>\n",
       "      <td>1</td>\n",
       "      <td>Basilisk</td>\n",
       "      <td>Basilisk</td>\n",
       "      <td>XXXXX</td>\n",
       "      <td>Green</td>\n",
       "      <td>Yellow</td>\n",
       "      <td>Greece</td>\n",
       "      <td>600.0</td>\n",
       "      <td>0</td>\n",
       "    </tr>\n",
       "    <tr>\n",
       "      <th>2</th>\n",
       "      <td>2</td>\n",
       "      <td>Chimaera</td>\n",
       "      <td>Chimaera</td>\n",
       "      <td>XXXXX</td>\n",
       "      <td>Golden</td>\n",
       "      <td>White</td>\n",
       "      <td>Greece</td>\n",
       "      <td>NaN</td>\n",
       "      <td>0</td>\n",
       "    </tr>\n",
       "    <tr>\n",
       "      <th>3</th>\n",
       "      <td>3</td>\n",
       "      <td>Antipodean Opaleye</td>\n",
       "      <td>Dragon</td>\n",
       "      <td>XXXXX</td>\n",
       "      <td>Pearly</td>\n",
       "      <td>Multi-coloured</td>\n",
       "      <td>New Zealand</td>\n",
       "      <td>NaN</td>\n",
       "      <td>1</td>\n",
       "    </tr>\n",
       "    <tr>\n",
       "      <th>4</th>\n",
       "      <td>4</td>\n",
       "      <td>Chinese Fireball</td>\n",
       "      <td>Dragon</td>\n",
       "      <td>XXXXX</td>\n",
       "      <td>Scarlet</td>\n",
       "      <td>Yellow</td>\n",
       "      <td>China</td>\n",
       "      <td>300.0</td>\n",
       "      <td>1</td>\n",
       "    </tr>\n",
       "    <tr>\n",
       "      <th>5</th>\n",
       "      <td>5</td>\n",
       "      <td>Common Welsh Green</td>\n",
       "      <td>Dragon</td>\n",
       "      <td>XXXXX</td>\n",
       "      <td>Green</td>\n",
       "      <td>No data</td>\n",
       "      <td>Wales</td>\n",
       "      <td>216.0</td>\n",
       "      <td>1</td>\n",
       "    </tr>\n",
       "    <tr>\n",
       "      <th>6</th>\n",
       "      <td>6</td>\n",
       "      <td>Hebridean Black</td>\n",
       "      <td>Dragon</td>\n",
       "      <td>XXXXX</td>\n",
       "      <td>Dark</td>\n",
       "      <td>Brilliant purple</td>\n",
       "      <td>Scotland</td>\n",
       "      <td>360.0</td>\n",
       "      <td>1</td>\n",
       "    </tr>\n",
       "    <tr>\n",
       "      <th>7</th>\n",
       "      <td>7</td>\n",
       "      <td>Hungarian Horntail</td>\n",
       "      <td>Dragon</td>\n",
       "      <td>XXXXX</td>\n",
       "      <td>Black</td>\n",
       "      <td>Yellow</td>\n",
       "      <td>Hungary</td>\n",
       "      <td>600.0</td>\n",
       "      <td>1</td>\n",
       "    </tr>\n",
       "    <tr>\n",
       "      <th>8</th>\n",
       "      <td>8</td>\n",
       "      <td>Norwegian Ridgeback</td>\n",
       "      <td>Dragon</td>\n",
       "      <td>XXXXX</td>\n",
       "      <td>Dark green</td>\n",
       "      <td>No data</td>\n",
       "      <td>Norway</td>\n",
       "      <td>NaN</td>\n",
       "      <td>1</td>\n",
       "    </tr>\n",
       "    <tr>\n",
       "      <th>9</th>\n",
       "      <td>9</td>\n",
       "      <td>Peruvian Vipertooth</td>\n",
       "      <td>Dragon</td>\n",
       "      <td>XXXXX</td>\n",
       "      <td>Copper</td>\n",
       "      <td>No data</td>\n",
       "      <td>Peru</td>\n",
       "      <td>180.0</td>\n",
       "      <td>1</td>\n",
       "    </tr>\n",
       "  </tbody>\n",
       "</table>\n",
       "</div>"
      ],
      "text/plain": [
       "   Unnamed: 0                 Name        Class Classification      Colour  \\\n",
       "0           0          Acromantula  Acromantula          XXXXX   Jet-Black   \n",
       "1           1             Basilisk     Basilisk          XXXXX       Green   \n",
       "2           2             Chimaera     Chimaera          XXXXX      Golden   \n",
       "3           3   Antipodean Opaleye       Dragon          XXXXX      Pearly   \n",
       "4           4     Chinese Fireball       Dragon          XXXXX     Scarlet   \n",
       "5           5   Common Welsh Green       Dragon          XXXXX       Green   \n",
       "6           6      Hebridean Black       Dragon          XXXXX        Dark   \n",
       "7           7   Hungarian Horntail       Dragon          XXXXX       Black   \n",
       "8           8  Norwegian Ridgeback       Dragon          XXXXX  Dark green   \n",
       "9           9  Peruvian Vipertooth       Dragon          XXXXX      Copper   \n",
       "\n",
       "                Eye            Native   Size  Dragon  \n",
       "0             Black  Island of Borneo  180.0       0  \n",
       "1            Yellow            Greece  600.0       0  \n",
       "2             White            Greece    NaN       0  \n",
       "3    Multi-coloured       New Zealand    NaN       1  \n",
       "4            Yellow             China  300.0       1  \n",
       "5           No data             Wales  216.0       1  \n",
       "6  Brilliant purple          Scotland  360.0       1  \n",
       "7            Yellow           Hungary  600.0       1  \n",
       "8           No data            Norway    NaN       1  \n",
       "9           No data              Peru  180.0       1  "
      ]
     },
     "execution_count": 36,
     "metadata": {},
     "output_type": "execute_result"
    }
   ],
   "source": [
    "# и переводим True в 1, а False в 0\n",
    "# через приведение типа в integer через astype() \n",
    "\n",
    "df[\"Dragon\"] = (df[\"Class\"] == \"Dragon\").astype(int)\n",
    "\n",
    "# первые 10 строк для примера\n",
    "df.head(10)"
   ]
  },
  {
   "cell_type": "markdown",
   "metadata": {},
   "source": [
    "### Задача 5\n",
    "\n",
    "Выберите строки, соответствующие драконам, и сохраните эти строки в датафрейм `dragons`."
   ]
  },
  {
   "cell_type": "code",
   "execution_count": 37,
   "metadata": {},
   "outputs": [],
   "source": [
    "# df[\"Dragon\"] == 1 возвращает набор из True и False\n",
    "# помещаем условие в квадратные скобки,\n",
    "# отбираем те строки, на которых вернулось True\n",
    "\n",
    "dragons = df[df[\"Dragon\"] == 1]"
   ]
  },
  {
   "cell_type": "markdown",
   "metadata": {},
   "source": [
    "### Задача 6\n",
    "\n",
    "Выберите строки, соответствующие существам размером не менее 180 дюймов (переменная `Size`)."
   ]
  },
  {
   "cell_type": "code",
   "execution_count": 38,
   "metadata": {},
   "outputs": [],
   "source": [
    "df2 = df[df[\"Size\"] >= 180]"
   ]
  },
  {
   "cell_type": "markdown",
   "metadata": {},
   "source": [
    "### Задача 7\n",
    "\n",
    "Выберите строки, соответствующие существам с уровнем опасности не ниже `XXXX` и имеющим жёлтые глаза (`Yellow`). Сохраните эти строки в датафрейм `dang_yellow` и посчитайте число таких существ."
   ]
  },
  {
   "cell_type": "code",
   "execution_count": 39,
   "metadata": {},
   "outputs": [
    {
     "data": {
      "text/html": [
       "<div>\n",
       "<style scoped>\n",
       "    .dataframe tbody tr th:only-of-type {\n",
       "        vertical-align: middle;\n",
       "    }\n",
       "\n",
       "    .dataframe tbody tr th {\n",
       "        vertical-align: top;\n",
       "    }\n",
       "\n",
       "    .dataframe thead th {\n",
       "        text-align: right;\n",
       "    }\n",
       "</style>\n",
       "<table border=\"1\" class=\"dataframe\">\n",
       "  <thead>\n",
       "    <tr style=\"text-align: right;\">\n",
       "      <th></th>\n",
       "      <th>Unnamed: 0</th>\n",
       "      <th>Name</th>\n",
       "      <th>Class</th>\n",
       "      <th>Classification</th>\n",
       "      <th>Colour</th>\n",
       "      <th>Eye</th>\n",
       "      <th>Native</th>\n",
       "      <th>Size</th>\n",
       "      <th>Dragon</th>\n",
       "    </tr>\n",
       "  </thead>\n",
       "  <tbody>\n",
       "    <tr>\n",
       "      <th>1</th>\n",
       "      <td>1</td>\n",
       "      <td>Basilisk</td>\n",
       "      <td>Basilisk</td>\n",
       "      <td>XXXXX</td>\n",
       "      <td>Green</td>\n",
       "      <td>Yellow</td>\n",
       "      <td>Greece</td>\n",
       "      <td>600.0</td>\n",
       "      <td>0</td>\n",
       "    </tr>\n",
       "    <tr>\n",
       "      <th>4</th>\n",
       "      <td>4</td>\n",
       "      <td>Chinese Fireball</td>\n",
       "      <td>Dragon</td>\n",
       "      <td>XXXXX</td>\n",
       "      <td>Scarlet</td>\n",
       "      <td>Yellow</td>\n",
       "      <td>China</td>\n",
       "      <td>300.0</td>\n",
       "      <td>1</td>\n",
       "    </tr>\n",
       "    <tr>\n",
       "      <th>7</th>\n",
       "      <td>7</td>\n",
       "      <td>Hungarian Horntail</td>\n",
       "      <td>Dragon</td>\n",
       "      <td>XXXXX</td>\n",
       "      <td>Black</td>\n",
       "      <td>Yellow</td>\n",
       "      <td>Hungary</td>\n",
       "      <td>600.0</td>\n",
       "      <td>1</td>\n",
       "    </tr>\n",
       "    <tr>\n",
       "      <th>20</th>\n",
       "      <td>20</td>\n",
       "      <td>Erkling</td>\n",
       "      <td>Erkling</td>\n",
       "      <td>XXXX</td>\n",
       "      <td>Green</td>\n",
       "      <td>Yellow</td>\n",
       "      <td>Germany</td>\n",
       "      <td>36.0</td>\n",
       "      <td>0</td>\n",
       "    </tr>\n",
       "    <tr>\n",
       "      <th>23</th>\n",
       "      <td>23</td>\n",
       "      <td>Griffin</td>\n",
       "      <td>Griffin</td>\n",
       "      <td>XXXX</td>\n",
       "      <td>Brownish-yellow|White|Brown</td>\n",
       "      <td>Yellow</td>\n",
       "      <td>Greece</td>\n",
       "      <td>NaN</td>\n",
       "      <td>0</td>\n",
       "    </tr>\n",
       "  </tbody>\n",
       "</table>\n",
       "</div>"
      ],
      "text/plain": [
       "    Unnamed: 0                Name     Class Classification  \\\n",
       "1            1            Basilisk  Basilisk          XXXXX   \n",
       "4            4    Chinese Fireball    Dragon          XXXXX   \n",
       "7            7  Hungarian Horntail    Dragon          XXXXX   \n",
       "20          20             Erkling   Erkling           XXXX   \n",
       "23          23             Griffin   Griffin           XXXX   \n",
       "\n",
       "                         Colour     Eye   Native   Size  Dragon  \n",
       "1                         Green  Yellow   Greece  600.0       0  \n",
       "4                       Scarlet  Yellow    China  300.0       1  \n",
       "7                         Black  Yellow  Hungary  600.0       1  \n",
       "20                        Green  Yellow  Germany   36.0       0  \n",
       "23  Brownish-yellow|White|Brown  Yellow   Greece    NaN       0  "
      ]
     },
     "execution_count": 39,
     "metadata": {},
     "output_type": "execute_result"
    }
   ],
   "source": [
    "# внимание на скобки\n",
    "\n",
    "dang_yellow = df[((df[\"Classification\"] == \"XXXX\") | \n",
    "(df[\"Classification\"] == \"XXXXX\")) & \n",
    "(df[\"Eye\"] == \"Yellow\")]\n",
    "dang_yellow"
   ]
  },
  {
   "cell_type": "markdown",
   "metadata": {},
   "source": [
    "**Дополнительно.** В реальной жизни при работе с текстовыми столбцами часто нас интересует не точное соответствие какому-то слову, а просто вхождение этого слова в ячейку, причём иногда в любом регистре (маленькими буквами, большими или вперемешку). Тогда поможет метод `.contains()` из подмодуля `str` для работами со строками внутри `pandas`. Он проверяет вхождение подстроки в строку. Однако есть одна загвоздка – этот метод работает только со строками, поэтому если в столбце есть хотя бы один пропуск (`NaN`, не строка), все сломается. \n",
    "\n",
    "Если вернемся к задаче 3, отметим, что пропуск в столбце `Eye` все-таки есть. Для удаления строк с пропущенными значениями есть метод `.dropna()`. Однако по умолчанию он удалит все строки, где есть пропуск хотя бы в одном столбце. В случае большого датафрейма при таком радикальном подходе мы рискуем остаться вообще с таблицей без строк. Да и здесь тоже при удалении всех строк с пропусками мы сократим все до 28 наблюдений, так как много пустых ячеек в столбце `Size`. Выход простой – ограничить набор столбцов, в которых проверять пропуски:"
   ]
  },
  {
   "cell_type": "code",
   "execution_count": 40,
   "metadata": {},
   "outputs": [],
   "source": [
    "df.dropna(subset = [\"Eye\"], inplace = True)"
   ]
  },
  {
   "cell_type": "markdown",
   "metadata": {},
   "source": [
    "В коде выше мы удалили те строки из `df`, где в столбце `Eye` были пропущенные значения, и сохранили изменения через `inplace = True`. Теперь можно вернуться к методу `.contains()`:"
   ]
  },
  {
   "cell_type": "code",
   "execution_count": 41,
   "metadata": {},
   "outputs": [
    {
     "data": {
      "text/html": [
       "<div>\n",
       "<style scoped>\n",
       "    .dataframe tbody tr th:only-of-type {\n",
       "        vertical-align: middle;\n",
       "    }\n",
       "\n",
       "    .dataframe tbody tr th {\n",
       "        vertical-align: top;\n",
       "    }\n",
       "\n",
       "    .dataframe thead th {\n",
       "        text-align: right;\n",
       "    }\n",
       "</style>\n",
       "<table border=\"1\" class=\"dataframe\">\n",
       "  <thead>\n",
       "    <tr style=\"text-align: right;\">\n",
       "      <th></th>\n",
       "      <th>Unnamed: 0</th>\n",
       "      <th>Name</th>\n",
       "      <th>Class</th>\n",
       "      <th>Classification</th>\n",
       "      <th>Colour</th>\n",
       "      <th>Eye</th>\n",
       "      <th>Native</th>\n",
       "      <th>Size</th>\n",
       "      <th>Dragon</th>\n",
       "    </tr>\n",
       "  </thead>\n",
       "  <tbody>\n",
       "    <tr>\n",
       "      <th>1</th>\n",
       "      <td>1</td>\n",
       "      <td>Basilisk</td>\n",
       "      <td>Basilisk</td>\n",
       "      <td>XXXXX</td>\n",
       "      <td>Green</td>\n",
       "      <td>Yellow</td>\n",
       "      <td>Greece</td>\n",
       "      <td>600.0</td>\n",
       "      <td>0</td>\n",
       "    </tr>\n",
       "    <tr>\n",
       "      <th>4</th>\n",
       "      <td>4</td>\n",
       "      <td>Chinese Fireball</td>\n",
       "      <td>Dragon</td>\n",
       "      <td>XXXXX</td>\n",
       "      <td>Scarlet</td>\n",
       "      <td>Yellow</td>\n",
       "      <td>China</td>\n",
       "      <td>300.0</td>\n",
       "      <td>1</td>\n",
       "    </tr>\n",
       "    <tr>\n",
       "      <th>7</th>\n",
       "      <td>7</td>\n",
       "      <td>Hungarian Horntail</td>\n",
       "      <td>Dragon</td>\n",
       "      <td>XXXXX</td>\n",
       "      <td>Black</td>\n",
       "      <td>Yellow</td>\n",
       "      <td>Hungary</td>\n",
       "      <td>600.0</td>\n",
       "      <td>1</td>\n",
       "    </tr>\n",
       "    <tr>\n",
       "      <th>20</th>\n",
       "      <td>20</td>\n",
       "      <td>Erkling</td>\n",
       "      <td>Erkling</td>\n",
       "      <td>XXXX</td>\n",
       "      <td>Green</td>\n",
       "      <td>Yellow</td>\n",
       "      <td>Germany</td>\n",
       "      <td>36.0</td>\n",
       "      <td>0</td>\n",
       "    </tr>\n",
       "    <tr>\n",
       "      <th>23</th>\n",
       "      <td>23</td>\n",
       "      <td>Griffin</td>\n",
       "      <td>Griffin</td>\n",
       "      <td>XXXX</td>\n",
       "      <td>Brownish-yellow|White|Brown</td>\n",
       "      <td>Yellow</td>\n",
       "      <td>Greece</td>\n",
       "      <td>NaN</td>\n",
       "      <td>0</td>\n",
       "    </tr>\n",
       "    <tr>\n",
       "      <th>40</th>\n",
       "      <td>40</td>\n",
       "      <td>Bundimun</td>\n",
       "      <td>Bundimun</td>\n",
       "      <td>XXX</td>\n",
       "      <td>Green</td>\n",
       "      <td>Yellow</td>\n",
       "      <td>World-wide</td>\n",
       "      <td>NaN</td>\n",
       "      <td>0</td>\n",
       "    </tr>\n",
       "    <tr>\n",
       "      <th>68</th>\n",
       "      <td>68</td>\n",
       "      <td>Clabbert</td>\n",
       "      <td>Clabbert</td>\n",
       "      <td>XX</td>\n",
       "      <td>Mottled green</td>\n",
       "      <td>Yellow</td>\n",
       "      <td>World-wide</td>\n",
       "      <td>NaN</td>\n",
       "      <td>0</td>\n",
       "    </tr>\n",
       "    <tr>\n",
       "      <th>73</th>\n",
       "      <td>73</td>\n",
       "      <td>Grindylow</td>\n",
       "      <td>Grindylow</td>\n",
       "      <td>XX</td>\n",
       "      <td>Sickly green</td>\n",
       "      <td>Yellow|White|Green</td>\n",
       "      <td>Great Britain|Ireland</td>\n",
       "      <td>60.0</td>\n",
       "      <td>0</td>\n",
       "    </tr>\n",
       "    <tr>\n",
       "      <th>74</th>\n",
       "      <td>74</td>\n",
       "      <td>Imp</td>\n",
       "      <td>Imp</td>\n",
       "      <td>XX</td>\n",
       "      <td>Grey</td>\n",
       "      <td>Yellow</td>\n",
       "      <td>Great Britain|Ireland</td>\n",
       "      <td>7.0</td>\n",
       "      <td>0</td>\n",
       "    </tr>\n",
       "  </tbody>\n",
       "</table>\n",
       "</div>"
      ],
      "text/plain": [
       "    Unnamed: 0                Name      Class Classification  \\\n",
       "1            1            Basilisk   Basilisk          XXXXX   \n",
       "4            4    Chinese Fireball     Dragon          XXXXX   \n",
       "7            7  Hungarian Horntail     Dragon          XXXXX   \n",
       "20          20             Erkling    Erkling           XXXX   \n",
       "23          23             Griffin    Griffin           XXXX   \n",
       "40          40            Bundimun   Bundimun            XXX   \n",
       "68          68            Clabbert   Clabbert             XX   \n",
       "73          73           Grindylow  Grindylow             XX   \n",
       "74          74                 Imp        Imp             XX   \n",
       "\n",
       "                         Colour                 Eye                 Native  \\\n",
       "1                         Green              Yellow                 Greece   \n",
       "4                       Scarlet              Yellow                  China   \n",
       "7                         Black              Yellow                Hungary   \n",
       "20                        Green              Yellow                Germany   \n",
       "23  Brownish-yellow|White|Brown              Yellow                 Greece   \n",
       "40                        Green              Yellow             World-wide   \n",
       "68                Mottled green              Yellow             World-wide   \n",
       "73                 Sickly green  Yellow|White|Green  Great Britain|Ireland   \n",
       "74                         Grey              Yellow  Great Britain|Ireland   \n",
       "\n",
       "     Size  Dragon  \n",
       "1   600.0       0  \n",
       "4   300.0       1  \n",
       "7   600.0       1  \n",
       "20   36.0       0  \n",
       "23    NaN       0  \n",
       "40    NaN       0  \n",
       "68    NaN       0  \n",
       "73   60.0       0  \n",
       "74    7.0       0  "
      ]
     },
     "execution_count": 41,
     "metadata": {},
     "output_type": "execute_result"
    }
   ],
   "source": [
    "# True, если в ячейке в столбце Eye есть слово\n",
    "# Yellow любыми буквами (case = True)\n",
    "\n",
    "df[df[\"Eye\"].str.contains(\"Yellow\", case = False)]"
   ]
  },
  {
   "cell_type": "markdown",
   "metadata": {},
   "source": [
    "Теперь добавим это условие в набор условий в этой задаче:"
   ]
  },
  {
   "cell_type": "code",
   "execution_count": 42,
   "metadata": {},
   "outputs": [
    {
     "data": {
      "text/html": [
       "<div>\n",
       "<style scoped>\n",
       "    .dataframe tbody tr th:only-of-type {\n",
       "        vertical-align: middle;\n",
       "    }\n",
       "\n",
       "    .dataframe tbody tr th {\n",
       "        vertical-align: top;\n",
       "    }\n",
       "\n",
       "    .dataframe thead th {\n",
       "        text-align: right;\n",
       "    }\n",
       "</style>\n",
       "<table border=\"1\" class=\"dataframe\">\n",
       "  <thead>\n",
       "    <tr style=\"text-align: right;\">\n",
       "      <th></th>\n",
       "      <th>Unnamed: 0</th>\n",
       "      <th>Name</th>\n",
       "      <th>Class</th>\n",
       "      <th>Classification</th>\n",
       "      <th>Colour</th>\n",
       "      <th>Eye</th>\n",
       "      <th>Native</th>\n",
       "      <th>Size</th>\n",
       "      <th>Dragon</th>\n",
       "    </tr>\n",
       "  </thead>\n",
       "  <tbody>\n",
       "    <tr>\n",
       "      <th>1</th>\n",
       "      <td>1</td>\n",
       "      <td>Basilisk</td>\n",
       "      <td>Basilisk</td>\n",
       "      <td>XXXXX</td>\n",
       "      <td>Green</td>\n",
       "      <td>Yellow</td>\n",
       "      <td>Greece</td>\n",
       "      <td>600.0</td>\n",
       "      <td>0</td>\n",
       "    </tr>\n",
       "    <tr>\n",
       "      <th>4</th>\n",
       "      <td>4</td>\n",
       "      <td>Chinese Fireball</td>\n",
       "      <td>Dragon</td>\n",
       "      <td>XXXXX</td>\n",
       "      <td>Scarlet</td>\n",
       "      <td>Yellow</td>\n",
       "      <td>China</td>\n",
       "      <td>300.0</td>\n",
       "      <td>1</td>\n",
       "    </tr>\n",
       "    <tr>\n",
       "      <th>7</th>\n",
       "      <td>7</td>\n",
       "      <td>Hungarian Horntail</td>\n",
       "      <td>Dragon</td>\n",
       "      <td>XXXXX</td>\n",
       "      <td>Black</td>\n",
       "      <td>Yellow</td>\n",
       "      <td>Hungary</td>\n",
       "      <td>600.0</td>\n",
       "      <td>1</td>\n",
       "    </tr>\n",
       "    <tr>\n",
       "      <th>20</th>\n",
       "      <td>20</td>\n",
       "      <td>Erkling</td>\n",
       "      <td>Erkling</td>\n",
       "      <td>XXXX</td>\n",
       "      <td>Green</td>\n",
       "      <td>Yellow</td>\n",
       "      <td>Germany</td>\n",
       "      <td>36.0</td>\n",
       "      <td>0</td>\n",
       "    </tr>\n",
       "    <tr>\n",
       "      <th>23</th>\n",
       "      <td>23</td>\n",
       "      <td>Griffin</td>\n",
       "      <td>Griffin</td>\n",
       "      <td>XXXX</td>\n",
       "      <td>Brownish-yellow|White|Brown</td>\n",
       "      <td>Yellow</td>\n",
       "      <td>Greece</td>\n",
       "      <td>NaN</td>\n",
       "      <td>0</td>\n",
       "    </tr>\n",
       "  </tbody>\n",
       "</table>\n",
       "</div>"
      ],
      "text/plain": [
       "    Unnamed: 0                Name     Class Classification  \\\n",
       "1            1            Basilisk  Basilisk          XXXXX   \n",
       "4            4    Chinese Fireball    Dragon          XXXXX   \n",
       "7            7  Hungarian Horntail    Dragon          XXXXX   \n",
       "20          20             Erkling   Erkling           XXXX   \n",
       "23          23             Griffin   Griffin           XXXX   \n",
       "\n",
       "                         Colour     Eye   Native   Size  Dragon  \n",
       "1                         Green  Yellow   Greece  600.0       0  \n",
       "4                       Scarlet  Yellow    China  300.0       1  \n",
       "7                         Black  Yellow  Hungary  600.0       1  \n",
       "20                        Green  Yellow  Germany   36.0       0  \n",
       "23  Brownish-yellow|White|Brown  Yellow   Greece    NaN       0  "
      ]
     },
     "execution_count": 42,
     "metadata": {},
     "output_type": "execute_result"
    }
   ],
   "source": [
    "# в данном случае разницы в результатах нет,\n",
    "# так как значение Yellow|White|Green у существа\n",
    "# с уровнем опасности XX, не XXXX или XXXXX\n",
    "\n",
    "df[((df[\"Classification\"] == \"XXXX\") | \n",
    "(df[\"Classification\"] == \"XXXXX\")) & \n",
    "(df[\"Eye\"].str.contains(\"Yellow\", case = False))]"
   ]
  },
  {
   "cell_type": "markdown",
   "metadata": {},
   "source": [
    "### Задача 8\n",
    "\n",
    "Добавьте в датафрейм столбец `Danger` с числовыми значениями уровня опасности (целые значения от 1 до 5)."
   ]
  },
  {
   "cell_type": "code",
   "execution_count": 43,
   "metadata": {},
   "outputs": [
    {
     "data": {
      "text/html": [
       "<div>\n",
       "<style scoped>\n",
       "    .dataframe tbody tr th:only-of-type {\n",
       "        vertical-align: middle;\n",
       "    }\n",
       "\n",
       "    .dataframe tbody tr th {\n",
       "        vertical-align: top;\n",
       "    }\n",
       "\n",
       "    .dataframe thead th {\n",
       "        text-align: right;\n",
       "    }\n",
       "</style>\n",
       "<table border=\"1\" class=\"dataframe\">\n",
       "  <thead>\n",
       "    <tr style=\"text-align: right;\">\n",
       "      <th></th>\n",
       "      <th>Unnamed: 0</th>\n",
       "      <th>Name</th>\n",
       "      <th>Class</th>\n",
       "      <th>Classification</th>\n",
       "      <th>Colour</th>\n",
       "      <th>Eye</th>\n",
       "      <th>Native</th>\n",
       "      <th>Size</th>\n",
       "      <th>Dragon</th>\n",
       "      <th>Danger</th>\n",
       "    </tr>\n",
       "  </thead>\n",
       "  <tbody>\n",
       "    <tr>\n",
       "      <th>0</th>\n",
       "      <td>0</td>\n",
       "      <td>Acromantula</td>\n",
       "      <td>Acromantula</td>\n",
       "      <td>XXXXX</td>\n",
       "      <td>Jet-Black</td>\n",
       "      <td>Black</td>\n",
       "      <td>Island of Borneo</td>\n",
       "      <td>180.0</td>\n",
       "      <td>0</td>\n",
       "      <td>5</td>\n",
       "    </tr>\n",
       "    <tr>\n",
       "      <th>1</th>\n",
       "      <td>1</td>\n",
       "      <td>Basilisk</td>\n",
       "      <td>Basilisk</td>\n",
       "      <td>XXXXX</td>\n",
       "      <td>Green</td>\n",
       "      <td>Yellow</td>\n",
       "      <td>Greece</td>\n",
       "      <td>600.0</td>\n",
       "      <td>0</td>\n",
       "      <td>5</td>\n",
       "    </tr>\n",
       "    <tr>\n",
       "      <th>2</th>\n",
       "      <td>2</td>\n",
       "      <td>Chimaera</td>\n",
       "      <td>Chimaera</td>\n",
       "      <td>XXXXX</td>\n",
       "      <td>Golden</td>\n",
       "      <td>White</td>\n",
       "      <td>Greece</td>\n",
       "      <td>NaN</td>\n",
       "      <td>0</td>\n",
       "      <td>5</td>\n",
       "    </tr>\n",
       "    <tr>\n",
       "      <th>3</th>\n",
       "      <td>3</td>\n",
       "      <td>Antipodean Opaleye</td>\n",
       "      <td>Dragon</td>\n",
       "      <td>XXXXX</td>\n",
       "      <td>Pearly</td>\n",
       "      <td>Multi-coloured</td>\n",
       "      <td>New Zealand</td>\n",
       "      <td>NaN</td>\n",
       "      <td>1</td>\n",
       "      <td>5</td>\n",
       "    </tr>\n",
       "    <tr>\n",
       "      <th>4</th>\n",
       "      <td>4</td>\n",
       "      <td>Chinese Fireball</td>\n",
       "      <td>Dragon</td>\n",
       "      <td>XXXXX</td>\n",
       "      <td>Scarlet</td>\n",
       "      <td>Yellow</td>\n",
       "      <td>China</td>\n",
       "      <td>300.0</td>\n",
       "      <td>1</td>\n",
       "      <td>5</td>\n",
       "    </tr>\n",
       "    <tr>\n",
       "      <th>...</th>\n",
       "      <td>...</td>\n",
       "      <td>...</td>\n",
       "      <td>...</td>\n",
       "      <td>...</td>\n",
       "      <td>...</td>\n",
       "      <td>...</td>\n",
       "      <td>...</td>\n",
       "      <td>...</td>\n",
       "      <td>...</td>\n",
       "      <td>...</td>\n",
       "    </tr>\n",
       "    <tr>\n",
       "      <th>76</th>\n",
       "      <td>76</td>\n",
       "      <td>Mooncalf</td>\n",
       "      <td>Mooncalf</td>\n",
       "      <td>XX</td>\n",
       "      <td>Pink|Pale grey</td>\n",
       "      <td>Blue-green</td>\n",
       "      <td>World-wide</td>\n",
       "      <td>NaN</td>\n",
       "      <td>0</td>\n",
       "      <td>2</td>\n",
       "    </tr>\n",
       "    <tr>\n",
       "      <th>77</th>\n",
       "      <td>77</td>\n",
       "      <td>Porlock</td>\n",
       "      <td>Porlock</td>\n",
       "      <td>XX</td>\n",
       "      <td>Black|Red|Brown</td>\n",
       "      <td>Blue</td>\n",
       "      <td>England|Ireland</td>\n",
       "      <td>24.0</td>\n",
       "      <td>0</td>\n",
       "      <td>2</td>\n",
       "    </tr>\n",
       "    <tr>\n",
       "      <th>78</th>\n",
       "      <td>78</td>\n",
       "      <td>Puffskein</td>\n",
       "      <td>Puffskein</td>\n",
       "      <td>XX</td>\n",
       "      <td>Custard</td>\n",
       "      <td>No data</td>\n",
       "      <td>No data</td>\n",
       "      <td>NaN</td>\n",
       "      <td>0</td>\n",
       "      <td>2</td>\n",
       "    </tr>\n",
       "    <tr>\n",
       "      <th>79</th>\n",
       "      <td>79</td>\n",
       "      <td>Flobberworm</td>\n",
       "      <td>Flobberworm</td>\n",
       "      <td>X</td>\n",
       "      <td>Brown</td>\n",
       "      <td>No data</td>\n",
       "      <td>No data</td>\n",
       "      <td>10.0</td>\n",
       "      <td>0</td>\n",
       "      <td>1</td>\n",
       "    </tr>\n",
       "    <tr>\n",
       "      <th>80</th>\n",
       "      <td>80</td>\n",
       "      <td>Horklump</td>\n",
       "      <td>Horklump</td>\n",
       "      <td>X</td>\n",
       "      <td>Pink|Black</td>\n",
       "      <td>No data</td>\n",
       "      <td>Scandinavia</td>\n",
       "      <td>NaN</td>\n",
       "      <td>0</td>\n",
       "      <td>1</td>\n",
       "    </tr>\n",
       "  </tbody>\n",
       "</table>\n",
       "<p>80 rows × 10 columns</p>\n",
       "</div>"
      ],
      "text/plain": [
       "    Unnamed: 0                Name        Class Classification  \\\n",
       "0            0         Acromantula  Acromantula          XXXXX   \n",
       "1            1            Basilisk     Basilisk          XXXXX   \n",
       "2            2            Chimaera     Chimaera          XXXXX   \n",
       "3            3  Antipodean Opaleye       Dragon          XXXXX   \n",
       "4            4    Chinese Fireball       Dragon          XXXXX   \n",
       "..         ...                 ...          ...            ...   \n",
       "76          76            Mooncalf     Mooncalf             XX   \n",
       "77          77             Porlock      Porlock             XX   \n",
       "78          78           Puffskein    Puffskein             XX   \n",
       "79          79         Flobberworm  Flobberworm              X   \n",
       "80          80            Horklump     Horklump              X   \n",
       "\n",
       "             Colour             Eye            Native   Size  Dragon  Danger  \n",
       "0         Jet-Black           Black  Island of Borneo  180.0       0       5  \n",
       "1             Green          Yellow            Greece  600.0       0       5  \n",
       "2            Golden           White            Greece    NaN       0       5  \n",
       "3            Pearly  Multi-coloured       New Zealand    NaN       1       5  \n",
       "4           Scarlet          Yellow             China  300.0       1       5  \n",
       "..              ...             ...               ...    ...     ...     ...  \n",
       "76   Pink|Pale grey      Blue-green        World-wide    NaN       0       2  \n",
       "77  Black|Red|Brown            Blue   England|Ireland   24.0       0       2  \n",
       "78          Custard         No data           No data    NaN       0       2  \n",
       "79            Brown         No data           No data   10.0       0       1  \n",
       "80       Pink|Black         No data       Scandinavia    NaN       0       1  \n",
       "\n",
       "[80 rows x 10 columns]"
      ]
     },
     "execution_count": 43,
     "metadata": {},
     "output_type": "execute_result"
    }
   ],
   "source": [
    "# применяем функцию len() для определения числа символов\n",
    "# к каждой ячейке в столбце Classification\n",
    "# метод .apply() – аналог map() в базовом Python,\n",
    "# быстрая и удобная альтернатива циклу for\n",
    "\n",
    "df[\"Danger\"] = df[\"Classification\"].apply(len)\n",
    "df"
   ]
  }
 ],
 "metadata": {
  "kernelspec": {
   "display_name": "Python 3",
   "language": "python",
   "name": "python3"
  },
  "language_info": {
   "codemirror_mode": {
    "name": "ipython",
    "version": 3
   },
   "file_extension": ".py",
   "mimetype": "text/x-python",
   "name": "python",
   "nbconvert_exporter": "python",
   "pygments_lexer": "ipython3",
   "version": "3.7.4"
  }
 },
 "nbformat": 4,
 "nbformat_minor": 2
}
