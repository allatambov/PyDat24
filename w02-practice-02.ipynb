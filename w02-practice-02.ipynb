{
 "cells": [
  {
   "cell_type": "markdown",
   "metadata": {},
   "source": [
    "# Основы анализа данных в Python\n",
    "\n",
    "*Алла Тамбовцева*\n",
    "\n",
    "## Практикум 2. Датафреймы `pandas`: часть 2"
   ]
  },
  {
   "cell_type": "markdown",
   "metadata": {},
   "source": [
    "Импортируем библиотеку `pandas` с сокращённым названием:"
   ]
  },
  {
   "cell_type": "code",
   "execution_count": null,
   "metadata": {},
   "outputs": [],
   "source": [
    "import pandas as pd"
   ]
  },
  {
   "cell_type": "markdown",
   "metadata": {},
   "source": [
    "В этом практикуме мы продолжаем работать с данными из файла `beasts.csv`, который содержит характеристики фантастических существ. Переменные в таблице:\n",
    "\n",
    "* `Name`: название существа;\n",
    "* `Class`: вид существа (если есть, если нет, дублируется название);\n",
    "* `Classification`: классификация Министерства Магии по уровням опасности;\n",
    "* `Colour`: цвет тела;\n",
    "* `Eye`: цвет глаз;\n",
    "* `Native`: происхождение и распространение;\n",
    "* `Size`: размер в дюймах.\n",
    "\n",
    "Загрузим данные из CSV-файла:"
   ]
  },
  {
   "cell_type": "code",
   "execution_count": null,
   "metadata": {},
   "outputs": [],
   "source": [
    "df = pd.read_csv(\"beasts.csv\")"
   ]
  },
  {
   "cell_type": "markdown",
   "metadata": {},
   "source": [
    "В предыдущем практикуме мы добавили в этот датафрейм бинарный столбец `Dragon` со значениями 1, если существо – дракон, и значениями 0 – если существо – не дракон:"
   ]
  },
  {
   "cell_type": "code",
   "execution_count": null,
   "metadata": {},
   "outputs": [],
   "source": [
    "df[\"Dragon\"] = (df[\"Class\"] == \"Dragon\").astype(int)\n",
    "df[\"Dragon\"].value_counts()"
   ]
  },
  {
   "cell_type": "markdown",
   "metadata": {},
   "source": [
    "В предыдущем практикуме мы также добавили в этот датафрейм числовой столбец `Danger` с числовыми значениями уровня опасности (целые значения от 1 до 5):"
   ]
  },
  {
   "cell_type": "code",
   "execution_count": null,
   "metadata": {},
   "outputs": [],
   "source": [
    "df[\"Danger\"] = df[\"Classification\"].apply(len)\n",
    "df[\"Danger\"].value_counts()"
   ]
  },
  {
   "cell_type": "markdown",
   "metadata": {},
   "source": [
    "### Задача 1\n",
    "\n",
    "Добавьте в датафрейм новый признак `DangerAgg`, который будет представлять собой закодированный уровень опасности существа: \n",
    "\n",
    "* `High`: если класс Министерства Магии равен 4 или 5 (`XXXX` или `XXXXX`);\n",
    "* `Medium`: если класс Министерства Магии равен 3 (`XXX`);\n",
    "* `Low`: если класс Министерства Магии равен 1 или 2 (`X` и `XX`)."
   ]
  },
  {
   "cell_type": "code",
   "execution_count": null,
   "metadata": {},
   "outputs": [],
   "source": [
    "### YOUR CODE HERE ###"
   ]
  },
  {
   "cell_type": "markdown",
   "metadata": {},
   "source": [
    "### Задача 2\n",
    "\n",
    "Определите моду по столбцу `Eye`. Заполните единственный пропуск в этом столбце модой. Проверьте, что пропусков в столбце не осталось.\n",
    "\n",
    "**Подсказка:** методы `.mode()` и `.fillna()`."
   ]
  },
  {
   "cell_type": "code",
   "execution_count": null,
   "metadata": {},
   "outputs": [],
   "source": [
    "### YOUR CODE HERE ###"
   ]
  },
  {
   "cell_type": "markdown",
   "metadata": {},
   "source": [
    "### Задача 3\n",
    "\n",
    "Выведите описательные статистики для столбца `Size`. Отдельно вычислите среднее и заполните пропущенные значения средним арифметическим. Снова выведите описательные статистики для столбца `Size` и сравните результаты."
   ]
  },
  {
   "cell_type": "code",
   "execution_count": null,
   "metadata": {},
   "outputs": [],
   "source": [
    "### YOUR CODE HERE ###"
   ]
  },
  {
   "cell_type": "markdown",
   "metadata": {},
   "source": [
    "### Задача 4\n",
    "\n",
    "Сгруппируйте строки по уровню опасности существа и выведите описательные статистики для столбца `Size`. \n",
    "\n",
    "**Подсказка:** метод `.groupby()`."
   ]
  },
  {
   "cell_type": "code",
   "execution_count": null,
   "metadata": {},
   "outputs": [],
   "source": [
    "### YOUR CODE HERE ###"
   ]
  },
  {
   "cell_type": "markdown",
   "metadata": {},
   "source": [
    "### Задача 5\n",
    "\n",
    "Сгруппируйте строки по столбцу `Dragon` и по каждой группе выведите среднее значение `Size` и медианное значение `Danger`."
   ]
  },
  {
   "cell_type": "code",
   "execution_count": null,
   "metadata": {},
   "outputs": [],
   "source": [
    "### YOUR CODE HERE ###"
   ]
  },
  {
   "cell_type": "markdown",
   "metadata": {},
   "source": [
    "### Задача 6\n",
    "\n",
    "Сформулируйте принципиальную разницу между гистограммой и столбиковой диаграммой. Постройте подходящий вид графика для визуализации следующих показателей:\n",
    "\n",
    "* размер существа;\n",
    "* уровень опасности существа.\n",
    "\n",
    "**Подсказка:** метод `.hist()` и метод `.bar()` в наборе методов `.plot()`."
   ]
  },
  {
   "cell_type": "code",
   "execution_count": null,
   "metadata": {},
   "outputs": [],
   "source": [
    "### YOUR CODE HERE ###"
   ]
  }
 ],
 "metadata": {
  "kernelspec": {
   "display_name": "Python 3",
   "language": "python",
   "name": "python3"
  },
  "language_info": {
   "codemirror_mode": {
    "name": "ipython",
    "version": 3
   },
   "file_extension": ".py",
   "mimetype": "text/x-python",
   "name": "python",
   "nbconvert_exporter": "python",
   "pygments_lexer": "ipython3",
   "version": "3.7.4"
  }
 },
 "nbformat": 4,
 "nbformat_minor": 2
}
