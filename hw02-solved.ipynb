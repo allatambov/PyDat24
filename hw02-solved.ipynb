{
 "cells": [
  {
   "cell_type": "markdown",
   "metadata": {},
   "source": [
    "## Основы анализа данных в Python\n",
    "\n",
    "### Необязательное домашнее задание №2\n",
    "\n",
    "*Алла Тамбовцева*"
   ]
  },
  {
   "cell_type": "markdown",
   "metadata": {},
   "source": [
    "В этом ДЗ вам предлагается поработать с данными из файла `stars.csv`, который содержит\n",
    "характеристики звезд. Показатели в файле:\n",
    "\n",
    "* `Temperature (K)` : температура звезды по Кельвину;\n",
    "* `Luminosity(L/Lo)` : светимость звезды в единицах светимости Солнца;\n",
    "* `Radius(R/Ro)` : радиус звезды по отношению к Солнцу;\n",
    "* `Absolute magnitude(Mv)` : абсолютная звездная величина;\n",
    "* `Star type` : тип звезды (0 — коричневый карлик, 1 — красный карлик, 2 — белый карлик, 3 —\n",
    "звезда главной последовательности, 4 — супергигант, 5 — гипергигант); \n",
    "* `Star color` : цвет звезды;\n",
    "* `Spectral Class` : спектральный класс звезды.\n",
    "\n",
    "Загрузите данные из файла `stars.csv`, сохраните их в датафрейм и выполните следующие задания."
   ]
  },
  {
   "cell_type": "code",
   "execution_count": 1,
   "metadata": {},
   "outputs": [],
   "source": [
    "import pandas as pd"
   ]
  },
  {
   "cell_type": "code",
   "execution_count": 2,
   "metadata": {},
   "outputs": [],
   "source": [
    "stars = pd.read_csv(\"stars.csv\")"
   ]
  },
  {
   "cell_type": "markdown",
   "metadata": {},
   "source": [
    "### Задача 1\n",
    "\n",
    "Выведите описательные статистики для всех числовых столбцов датафрейма. Проинтерпретируйте результаты для столбца `Temperature (K)`. Выведите описательные статистики для всех текстовых столбцов датафрейма. Звезды какого цвета встречаются чаще?"
   ]
  },
  {
   "cell_type": "code",
   "execution_count": 3,
   "metadata": {},
   "outputs": [
    {
     "data": {
      "text/html": [
       "<div>\n",
       "<style scoped>\n",
       "    .dataframe tbody tr th:only-of-type {\n",
       "        vertical-align: middle;\n",
       "    }\n",
       "\n",
       "    .dataframe tbody tr th {\n",
       "        vertical-align: top;\n",
       "    }\n",
       "\n",
       "    .dataframe thead th {\n",
       "        text-align: right;\n",
       "    }\n",
       "</style>\n",
       "<table border=\"1\" class=\"dataframe\">\n",
       "  <thead>\n",
       "    <tr style=\"text-align: right;\">\n",
       "      <th></th>\n",
       "      <th>Temperature (K)</th>\n",
       "      <th>Luminosity(L/Lo)</th>\n",
       "      <th>Radius(R/Ro)</th>\n",
       "      <th>Absolute magnitude(Mv)</th>\n",
       "      <th>Star type</th>\n",
       "    </tr>\n",
       "  </thead>\n",
       "  <tbody>\n",
       "    <tr>\n",
       "      <th>count</th>\n",
       "      <td>240.000000</td>\n",
       "      <td>240.000000</td>\n",
       "      <td>240.000000</td>\n",
       "      <td>240.000000</td>\n",
       "      <td>240.000000</td>\n",
       "    </tr>\n",
       "    <tr>\n",
       "      <th>mean</th>\n",
       "      <td>10497.462500</td>\n",
       "      <td>107188.361635</td>\n",
       "      <td>237.157781</td>\n",
       "      <td>4.382396</td>\n",
       "      <td>2.500000</td>\n",
       "    </tr>\n",
       "    <tr>\n",
       "      <th>std</th>\n",
       "      <td>9552.425037</td>\n",
       "      <td>179432.244940</td>\n",
       "      <td>517.155763</td>\n",
       "      <td>10.532512</td>\n",
       "      <td>1.711394</td>\n",
       "    </tr>\n",
       "    <tr>\n",
       "      <th>min</th>\n",
       "      <td>1939.000000</td>\n",
       "      <td>0.000080</td>\n",
       "      <td>0.008400</td>\n",
       "      <td>-11.920000</td>\n",
       "      <td>0.000000</td>\n",
       "    </tr>\n",
       "    <tr>\n",
       "      <th>25%</th>\n",
       "      <td>3344.250000</td>\n",
       "      <td>0.000865</td>\n",
       "      <td>0.102750</td>\n",
       "      <td>-6.232500</td>\n",
       "      <td>1.000000</td>\n",
       "    </tr>\n",
       "    <tr>\n",
       "      <th>50%</th>\n",
       "      <td>5776.000000</td>\n",
       "      <td>0.070500</td>\n",
       "      <td>0.762500</td>\n",
       "      <td>8.313000</td>\n",
       "      <td>2.500000</td>\n",
       "    </tr>\n",
       "    <tr>\n",
       "      <th>75%</th>\n",
       "      <td>15055.500000</td>\n",
       "      <td>198050.000000</td>\n",
       "      <td>42.750000</td>\n",
       "      <td>13.697500</td>\n",
       "      <td>4.000000</td>\n",
       "    </tr>\n",
       "    <tr>\n",
       "      <th>max</th>\n",
       "      <td>40000.000000</td>\n",
       "      <td>849420.000000</td>\n",
       "      <td>1948.500000</td>\n",
       "      <td>20.060000</td>\n",
       "      <td>5.000000</td>\n",
       "    </tr>\n",
       "  </tbody>\n",
       "</table>\n",
       "</div>"
      ],
      "text/plain": [
       "       Temperature (K)  Luminosity(L/Lo)  Radius(R/Ro)  \\\n",
       "count       240.000000        240.000000    240.000000   \n",
       "mean      10497.462500     107188.361635    237.157781   \n",
       "std        9552.425037     179432.244940    517.155763   \n",
       "min        1939.000000          0.000080      0.008400   \n",
       "25%        3344.250000          0.000865      0.102750   \n",
       "50%        5776.000000          0.070500      0.762500   \n",
       "75%       15055.500000     198050.000000     42.750000   \n",
       "max       40000.000000     849420.000000   1948.500000   \n",
       "\n",
       "       Absolute magnitude(Mv)   Star type  \n",
       "count              240.000000  240.000000  \n",
       "mean                 4.382396    2.500000  \n",
       "std                 10.532512    1.711394  \n",
       "min                -11.920000    0.000000  \n",
       "25%                 -6.232500    1.000000  \n",
       "50%                  8.313000    2.500000  \n",
       "75%                 13.697500    4.000000  \n",
       "max                 20.060000    5.000000  "
      ]
     },
     "execution_count": 3,
     "metadata": {},
     "output_type": "execute_result"
    }
   ],
   "source": [
    "stars.describe()"
   ]
  },
  {
   "cell_type": "markdown",
   "metadata": {},
   "source": [
    "> В столбце `Temperature (K)` 240 заполненных ячеек, средняя температура звезды примерно 10497 градусов по Кельвину, медианная – 5776 градусов по Кельвину. Скорее всего, в выборке есть нехарактерно большие значения. Так и есть – верхний квартиль 15055.5, а максимум – 40000, температура 75% звезд не более, чем 15055.5, но есть звезды с температурой почти в 3 раза выше этой. С нетипично маленькими значениями все не так очевидно, с одной стороны, минимум тоже почти в 3 раза ниже, чем нижний квартиль, но, с другой стороны, порядок чисел здесь не такой, как в окрестности максимума, поэтому эта разница уже не будет такой заметной. <br>\n",
    "Можете дополнительно построить ящик с усами и убедиться: <br>\n",
    "`stars[\"Temperature (K)\"].plot.box();`"
   ]
  },
  {
   "cell_type": "code",
   "execution_count": 4,
   "metadata": {},
   "outputs": [
    {
     "data": {
      "text/html": [
       "<div>\n",
       "<style scoped>\n",
       "    .dataframe tbody tr th:only-of-type {\n",
       "        vertical-align: middle;\n",
       "    }\n",
       "\n",
       "    .dataframe tbody tr th {\n",
       "        vertical-align: top;\n",
       "    }\n",
       "\n",
       "    .dataframe thead th {\n",
       "        text-align: right;\n",
       "    }\n",
       "</style>\n",
       "<table border=\"1\" class=\"dataframe\">\n",
       "  <thead>\n",
       "    <tr style=\"text-align: right;\">\n",
       "      <th></th>\n",
       "      <th>Star color</th>\n",
       "      <th>Spectral Class</th>\n",
       "    </tr>\n",
       "  </thead>\n",
       "  <tbody>\n",
       "    <tr>\n",
       "      <th>count</th>\n",
       "      <td>240</td>\n",
       "      <td>240</td>\n",
       "    </tr>\n",
       "    <tr>\n",
       "      <th>unique</th>\n",
       "      <td>19</td>\n",
       "      <td>7</td>\n",
       "    </tr>\n",
       "    <tr>\n",
       "      <th>top</th>\n",
       "      <td>Red</td>\n",
       "      <td>M</td>\n",
       "    </tr>\n",
       "    <tr>\n",
       "      <th>freq</th>\n",
       "      <td>112</td>\n",
       "      <td>111</td>\n",
       "    </tr>\n",
       "  </tbody>\n",
       "</table>\n",
       "</div>"
      ],
      "text/plain": [
       "       Star color Spectral Class\n",
       "count         240            240\n",
       "unique         19              7\n",
       "top           Red              M\n",
       "freq          112            111"
      ]
     },
     "execution_count": 4,
     "metadata": {},
     "output_type": "execute_result"
    }
   ],
   "source": [
    "stars.describe(include = \"object\")"
   ]
  },
  {
   "cell_type": "markdown",
   "metadata": {},
   "source": [
    "> Звезды красного цвета встречаются чаще (мода `Red`)."
   ]
  },
  {
   "cell_type": "markdown",
   "metadata": {},
   "source": [
    "### Задача 2\n",
    "\n",
    "Выведите таблицу частот для типа звезды (`Star type`). Запишите, чему равняется мода этого показателя."
   ]
  },
  {
   "cell_type": "code",
   "execution_count": 5,
   "metadata": {},
   "outputs": [
    {
     "data": {
      "text/plain": [
       "0    40\n",
       "1    40\n",
       "2    40\n",
       "3    40\n",
       "4    40\n",
       "5    40\n",
       "Name: Star type, dtype: int64"
      ]
     },
     "execution_count": 5,
     "metadata": {},
     "output_type": "execute_result"
    }
   ],
   "source": [
    "# нет одной моды, подвох\n",
    "# мода 0, 1, 2, 3, 4, 5\n",
    "\n",
    "stars[\"Star type\"].value_counts()"
   ]
  },
  {
   "cell_type": "markdown",
   "metadata": {},
   "source": [
    "### Задача 3\n",
    "\n",
    "Выведите таблицу частот для цвета звезды (`Star color`), отсортировав цвета по алфавиту."
   ]
  },
  {
   "cell_type": "code",
   "execution_count": 6,
   "metadata": {},
   "outputs": [
    {
     "data": {
      "text/plain": [
       "Blue                   55\n",
       "Blue                    1\n",
       "Blue White             10\n",
       "Blue white              3\n",
       "Blue white              1\n",
       "Blue-White              1\n",
       "Blue-white             26\n",
       "Orange                  2\n",
       "Orange-Red              1\n",
       "Pale yellow orange      1\n",
       "Red                   112\n",
       "White                   7\n",
       "White-Yellow            1\n",
       "Whitish                 2\n",
       "Yellowish               1\n",
       "Yellowish White         3\n",
       "white                   3\n",
       "yellow-white            8\n",
       "yellowish               2\n",
       "Name: Star color, dtype: int64"
      ]
     },
     "execution_count": 6,
     "metadata": {},
     "output_type": "execute_result"
    }
   ],
   "source": [
    "stars[\"Star color\"].value_counts().sort_index()"
   ]
  },
  {
   "cell_type": "markdown",
   "metadata": {},
   "source": [
    "### Задача 4\n",
    "\n",
    "Выберите строки, соответствующие звездам с абсолютной звездной величиной меньше 0, и сохраните их в датафрейм `low`."
   ]
  },
  {
   "cell_type": "code",
   "execution_count": 7,
   "metadata": {},
   "outputs": [
    {
     "name": "stdout",
     "output_type": "stream",
     "text": [
      "(102, 7)\n"
     ]
    }
   ],
   "source": [
    "low = stars[stars[\"Absolute magnitude(Mv)\"] < 0]\n",
    "print(low.shape) # размер для проверки"
   ]
  },
  {
   "cell_type": "markdown",
   "metadata": {},
   "source": [
    "### Задача 5\n",
    "\n",
    "Выберите строки, соответствующие звездам спектрального класса `O` или `M`, и сохраните их в датафрейм `stars_sm`."
   ]
  },
  {
   "cell_type": "code",
   "execution_count": 8,
   "metadata": {},
   "outputs": [
    {
     "name": "stdout",
     "output_type": "stream",
     "text": [
      "(151, 7)\n"
     ]
    }
   ],
   "source": [
    "stars_sm = stars[(stars[\"Spectral Class\"] == \"O\") | \n",
    "                 (stars[\"Spectral Class\"] == \"M\")]\n",
    "print(stars_sm.shape) # размер для проверки"
   ]
  },
  {
   "cell_type": "markdown",
   "metadata": {},
   "source": [
    "### Задача 6\n",
    "\n",
    "Выберите строки, соответствующие супергигантам с радиусом по отношению к Солнцу не ниже 50, и сохраните их в датафрейм `super_s`."
   ]
  },
  {
   "cell_type": "code",
   "execution_count": 9,
   "metadata": {},
   "outputs": [
    {
     "name": "stdout",
     "output_type": "stream",
     "text": [
      "(18, 7)\n"
     ]
    }
   ],
   "source": [
    "super_s = stars[(stars[\"Star type\"] == 4) & \n",
    "      (stars[\"Radius(R/Ro)\"] >= 50)]\n",
    "print(super_s.shape) # размер для проверки"
   ]
  },
  {
   "cell_type": "markdown",
   "metadata": {},
   "source": [
    "### Задача 7\n",
    "\n",
    "Добавьте в датафрейм столбец `WhiteDwarf`, который содержит значения 0 и 1, считая, что 1 ставится в случае, если звезда является белым карликом."
   ]
  },
  {
   "cell_type": "code",
   "execution_count": 10,
   "metadata": {},
   "outputs": [
    {
     "data": {
      "text/plain": [
       "0    200\n",
       "1     40\n",
       "Name: WhiteDwarf, dtype: int64"
      ]
     },
     "execution_count": 10,
     "metadata": {},
     "output_type": "execute_result"
    }
   ],
   "source": [
    "stars[\"WhiteDwarf\"] = (stars[\"Star type\"] == 2).astype(int)\n",
    "stars[\"WhiteDwarf\"].value_counts()"
   ]
  },
  {
   "cell_type": "markdown",
   "metadata": {},
   "source": [
    "### Задача 8\n",
    "\n",
    "Добавьте в датафрейм столбец `Color`, который содержит следующие значения:\n",
    "\n",
    "* `Red`: если в цвете звезды встречается слово *Red*;\n",
    "* `Blue`: если в цвете звезды встречается слово *Blue*; \n",
    "* `Other`: иначе.\n",
    "\n",
    "Встречается – слово может входить в состав других, например, `Red-white`,  и `Red ` с пробелом должны относиться к категории `Red` (и с `Blue` та же история)."
   ]
  },
  {
   "cell_type": "code",
   "execution_count": 11,
   "metadata": {},
   "outputs": [
    {
     "data": {
      "text/plain": [
       "Red      113\n",
       "Blue      97\n",
       "Other     30\n",
       "Name: Color, dtype: int64"
      ]
     },
     "execution_count": 11,
     "metadata": {},
     "output_type": "execute_result"
    }
   ],
   "source": [
    "# пишем функцию для проверки\n",
    "# делаем в x все буквы маленькими на всякий случай\n",
    "# (хотя здесь эти цвета всегда с заглавной буквы)\n",
    "\n",
    "def color_agg(x):\n",
    "    if \"red\" in x.lower():\n",
    "        c = \"Red\"\n",
    "    elif \"blue\" in x.lower():\n",
    "        c = \"Blue\"\n",
    "    else:\n",
    "        c = \"Other\"\n",
    "    return c\n",
    "    \n",
    "# применяем ее через apply()\n",
    "stars[\"Color\"] = stars[\"Star color\"].apply(color_agg)\n",
    "stars[\"Color\"].value_counts()"
   ]
  },
  {
   "cell_type": "code",
   "execution_count": 12,
   "metadata": {},
   "outputs": [
    {
     "data": {
      "text/plain": [
       "Red      113\n",
       "Blue      97\n",
       "Other     30\n",
       "Name: Color, dtype: int64"
      ]
     },
     "execution_count": 12,
     "metadata": {},
     "output_type": "execute_result"
    }
   ],
   "source": [
    "# вариант с lambda-функцией в одну строку\n",
    "# если очень хочется (elif нет, в else вкладываем  \n",
    "# еще один if в круглых скобках)\n",
    "\n",
    "stars[\"Color\"] = stars[\"Star color\"].apply(lambda x: \"Red\" if \"red\" in x.lower() else \n",
    "                          (\"Blue\" if \"blue\" in x.lower() else \"Other\"))\n",
    "stars[\"Color\"].value_counts()"
   ]
  },
  {
   "cell_type": "markdown",
   "metadata": {},
   "source": [
    "### Задача 9\n",
    "\n",
    "Добавьте в датафрейм столбец `LogLum`, который содержит логарифмированные значения светимости звезды `Luminosity(L/Lo)` (натуральный логарифм)."
   ]
  },
  {
   "cell_type": "code",
   "execution_count": 13,
   "metadata": {},
   "outputs": [],
   "source": [
    "# log() из math не умеет работать со списками/массивами/столбцами, \n",
    "# а вот log() из numpy умеет\n",
    "\n",
    "import numpy as np\n",
    "stars[\"LogLum\"] = np.log(stars[\"Luminosity(L/Lo)\"])"
   ]
  },
  {
   "cell_type": "markdown",
   "metadata": {},
   "source": [
    "### Задача 10\n",
    "\n",
    "Сгруппируйте строки по значениям столбца `WhiteDwarf` (создается в задаче 7) и выведите для каждой группы:\n",
    "\n",
    "* полный набор описательных статистик для радиуса звезды;\n",
    "* медианное и среднее значение радиуса звезды."
   ]
  },
  {
   "cell_type": "code",
   "execution_count": 14,
   "metadata": {},
   "outputs": [
    {
     "data": {
      "text/html": [
       "<div>\n",
       "<style scoped>\n",
       "    .dataframe tbody tr th:only-of-type {\n",
       "        vertical-align: middle;\n",
       "    }\n",
       "\n",
       "    .dataframe tbody tr th {\n",
       "        vertical-align: top;\n",
       "    }\n",
       "\n",
       "    .dataframe thead th {\n",
       "        text-align: right;\n",
       "    }\n",
       "</style>\n",
       "<table border=\"1\" class=\"dataframe\">\n",
       "  <thead>\n",
       "    <tr style=\"text-align: right;\">\n",
       "      <th></th>\n",
       "      <th>count</th>\n",
       "      <th>mean</th>\n",
       "      <th>std</th>\n",
       "      <th>min</th>\n",
       "      <th>25%</th>\n",
       "      <th>50%</th>\n",
       "      <th>75%</th>\n",
       "      <th>max</th>\n",
       "    </tr>\n",
       "    <tr>\n",
       "      <th>WhiteDwarf</th>\n",
       "      <th></th>\n",
       "      <th></th>\n",
       "      <th></th>\n",
       "      <th></th>\n",
       "      <th></th>\n",
       "      <th></th>\n",
       "      <th></th>\n",
       "      <th></th>\n",
       "    </tr>\n",
       "  </thead>\n",
       "  <tbody>\n",
       "    <tr>\n",
       "      <th>0</th>\n",
       "      <td>200.0</td>\n",
       "      <td>284.587192</td>\n",
       "      <td>554.656448</td>\n",
       "      <td>0.0570</td>\n",
       "      <td>0.240000</td>\n",
       "      <td>5.7125</td>\n",
       "      <td>80.250000</td>\n",
       "      <td>1948.500</td>\n",
       "    </tr>\n",
       "    <tr>\n",
       "      <th>1</th>\n",
       "      <td>40.0</td>\n",
       "      <td>0.010728</td>\n",
       "      <td>0.001725</td>\n",
       "      <td>0.0084</td>\n",
       "      <td>0.009305</td>\n",
       "      <td>0.0102</td>\n",
       "      <td>0.012025</td>\n",
       "      <td>0.015</td>\n",
       "    </tr>\n",
       "  </tbody>\n",
       "</table>\n",
       "</div>"
      ],
      "text/plain": [
       "            count        mean         std     min       25%     50%  \\\n",
       "WhiteDwarf                                                            \n",
       "0           200.0  284.587192  554.656448  0.0570  0.240000  5.7125   \n",
       "1            40.0    0.010728    0.001725  0.0084  0.009305  0.0102   \n",
       "\n",
       "                  75%       max  \n",
       "WhiteDwarf                       \n",
       "0           80.250000  1948.500  \n",
       "1            0.012025     0.015  "
      ]
     },
     "execution_count": 14,
     "metadata": {},
     "output_type": "execute_result"
    }
   ],
   "source": [
    "stars.groupby(\"WhiteDwarf\")[\"Radius(R/Ro)\"].describe()"
   ]
  },
  {
   "cell_type": "code",
   "execution_count": 15,
   "metadata": {},
   "outputs": [
    {
     "data": {
      "text/html": [
       "<div>\n",
       "<style scoped>\n",
       "    .dataframe tbody tr th:only-of-type {\n",
       "        vertical-align: middle;\n",
       "    }\n",
       "\n",
       "    .dataframe tbody tr th {\n",
       "        vertical-align: top;\n",
       "    }\n",
       "\n",
       "    .dataframe thead th {\n",
       "        text-align: right;\n",
       "    }\n",
       "</style>\n",
       "<table border=\"1\" class=\"dataframe\">\n",
       "  <thead>\n",
       "    <tr style=\"text-align: right;\">\n",
       "      <th></th>\n",
       "      <th>median</th>\n",
       "      <th>mean</th>\n",
       "    </tr>\n",
       "    <tr>\n",
       "      <th>WhiteDwarf</th>\n",
       "      <th></th>\n",
       "      <th></th>\n",
       "    </tr>\n",
       "  </thead>\n",
       "  <tbody>\n",
       "    <tr>\n",
       "      <th>0</th>\n",
       "      <td>5.7125</td>\n",
       "      <td>284.587192</td>\n",
       "    </tr>\n",
       "    <tr>\n",
       "      <th>1</th>\n",
       "      <td>0.0102</td>\n",
       "      <td>0.010728</td>\n",
       "    </tr>\n",
       "  </tbody>\n",
       "</table>\n",
       "</div>"
      ],
      "text/plain": [
       "            median        mean\n",
       "WhiteDwarf                    \n",
       "0           5.7125  284.587192\n",
       "1           0.0102    0.010728"
      ]
     },
     "execution_count": 15,
     "metadata": {},
     "output_type": "execute_result"
    }
   ],
   "source": [
    "stars.groupby(\"WhiteDwarf\")[\"Radius(R/Ro)\"].agg([\"median\", \"mean\"])"
   ]
  }
 ],
 "metadata": {
  "kernelspec": {
   "display_name": "Python 3",
   "language": "python",
   "name": "python3"
  },
  "language_info": {
   "codemirror_mode": {
    "name": "ipython",
    "version": 3
   },
   "file_extension": ".py",
   "mimetype": "text/x-python",
   "name": "python",
   "nbconvert_exporter": "python",
   "pygments_lexer": "ipython3",
   "version": "3.7.4"
  }
 },
 "nbformat": 4,
 "nbformat_minor": 2
}
