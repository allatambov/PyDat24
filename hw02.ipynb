{
 "cells": [
  {
   "cell_type": "markdown",
   "metadata": {},
   "source": [
    "## Основы анализа данных в Python\n",
    "\n",
    "### Необязательное домашнее задание №2\n",
    "\n",
    "*Алла Тамбовцева*"
   ]
  },
  {
   "cell_type": "markdown",
   "metadata": {},
   "source": [
    "В этом ДЗ вам предлагается поработать с данными из файла `stars.csv`, который содержит\n",
    "характеристики звезд. Показатели в файле:\n",
    "\n",
    "* `Temperature (K)` : температура звезды по Кельвину;\n",
    "* `Luminosity(L/Lo)` : светимость звезды в единицах светимости Солнца;\n",
    "* `Radius(R/Ro)` : радиус звезды по отношению к Солнцу;\n",
    "* `Absolute magnitude(Mv)` : абсолютная звездная величина;\n",
    "* `Star type` : тип звезды (0 — коричневый карлик, 1 — красный карлик, 2 — белый карлик, 3 —\n",
    "звезда главной последовательности, 4 — супергигант, 5 — гипергигант); \n",
    "* `Star color` : цвет звезды;\n",
    "* `Spectral Class` : спектральный класс звезды.\n",
    "\n",
    "Загрузите данные из файла `stars.csv`, сохраните их в датафрейм и выполните следующие задания."
   ]
  },
  {
   "cell_type": "code",
   "execution_count": null,
   "metadata": {},
   "outputs": [],
   "source": [
    "### YOUR CODE HERE ###"
   ]
  },
  {
   "cell_type": "markdown",
   "metadata": {},
   "source": [
    "### Задача 1\n",
    "\n",
    "Выведите описательные статистики для всех числовых столбцов датафрейма. Проинтерпретируйте результаты для столбца `Temperature (K)`. Выведите описательные статистики для всех текстовых столбцов датафрейма. Звезды какого цвета встречаются чаще?"
   ]
  },
  {
   "cell_type": "code",
   "execution_count": null,
   "metadata": {},
   "outputs": [],
   "source": [
    "### YOUR CODE HERE ###"
   ]
  },
  {
   "cell_type": "markdown",
   "metadata": {},
   "source": [
    "### Задача 2\n",
    "\n",
    "Выведите таблицу частот для типа звезды (`Star type`). Запишите, чему равняется мода этого показателя."
   ]
  },
  {
   "cell_type": "code",
   "execution_count": null,
   "metadata": {},
   "outputs": [],
   "source": [
    "### YOUR CODE HERE ###"
   ]
  },
  {
   "cell_type": "markdown",
   "metadata": {},
   "source": [
    "### Задача 3\n",
    "\n",
    "Выведите таблицу частот для цвета звезды (`Star color`), отсортировав цвета по алфавиту."
   ]
  },
  {
   "cell_type": "code",
   "execution_count": null,
   "metadata": {},
   "outputs": [],
   "source": [
    "### YOUR CODE HERE ###"
   ]
  },
  {
   "cell_type": "markdown",
   "metadata": {},
   "source": [
    "### Задача 4\n",
    "\n",
    "Выберите строки, соответствующие звездам с абсолютной звездной величиной меньше 0, и сохраните их в датафрейм `low`."
   ]
  },
  {
   "cell_type": "code",
   "execution_count": null,
   "metadata": {},
   "outputs": [],
   "source": [
    "### YOUR CODE HERE ###"
   ]
  },
  {
   "cell_type": "markdown",
   "metadata": {},
   "source": [
    "### Задача 5\n",
    "\n",
    "Выберите строки, соответствующие звездам спектрального класса `O` или `M`, и сохраните их в датафрейм `stars_sm`."
   ]
  },
  {
   "cell_type": "code",
   "execution_count": null,
   "metadata": {},
   "outputs": [],
   "source": [
    "### YOUR CODE HERE ###"
   ]
  },
  {
   "cell_type": "markdown",
   "metadata": {},
   "source": [
    "### Задача 6\n",
    "\n",
    "Выберите строки, соответствующие супергигантам с радиусом по отношению к Солнцу не ниже 50, и сохраните их в датафрейм `super_s`."
   ]
  },
  {
   "cell_type": "code",
   "execution_count": null,
   "metadata": {},
   "outputs": [],
   "source": [
    "### YOUR CODE HERE ###"
   ]
  },
  {
   "cell_type": "markdown",
   "metadata": {},
   "source": [
    "### Задача 7\n",
    "\n",
    "Добавьте в датафрейм столбец `WhiteDwarf`, который содержит значения 0 и 1, считая, что 1 ставится в случае, если звезда является белым карликом."
   ]
  },
  {
   "cell_type": "code",
   "execution_count": null,
   "metadata": {},
   "outputs": [],
   "source": [
    "### YOUR CODE HERE ###"
   ]
  },
  {
   "cell_type": "markdown",
   "metadata": {},
   "source": [
    "### Задача 8\n",
    "\n",
    "Добавьте в датафрейм столбец `Color`, который содержит следующие значения:\n",
    "\n",
    "* `Red`: если в цвете звезды встречается слово *Red*;\n",
    "* `Blue`: если в цвете звезды встречается слово *Blue*; \n",
    "* `Other`: иначе.\n",
    "\n",
    "Встречается – слово может входить в состав других, например, `Red-white`,  и `Red ` с пробелом должны относиться к категории `Red` (и с `Blue` та же история)."
   ]
  },
  {
   "cell_type": "code",
   "execution_count": null,
   "metadata": {},
   "outputs": [],
   "source": [
    "### YOUR CODE HERE ###"
   ]
  },
  {
   "cell_type": "markdown",
   "metadata": {},
   "source": [
    "### Задача 9\n",
    "\n",
    "Добавьте в датафрейм столбец `LogLum`, который содержит логарифмированные значения светимости звезды `Luminosity(L/Lo)` (натуральный логарифм)."
   ]
  },
  {
   "cell_type": "code",
   "execution_count": null,
   "metadata": {},
   "outputs": [],
   "source": [
    "### YOUR CODE HERE ###"
   ]
  },
  {
   "cell_type": "markdown",
   "metadata": {},
   "source": [
    "### Задача 10\n",
    "\n",
    "Сгруппируйте строки по значениям столбца `WhiteDwarf` (создается в задаче 7) и выведите для каждой группы:\n",
    "\n",
    "* полный набор описательных статистик для радиуса звезды;\n",
    "* медианное и среднее значение радиуса звезды."
   ]
  },
  {
   "cell_type": "code",
   "execution_count": null,
   "metadata": {},
   "outputs": [],
   "source": [
    "### YOUR CODE HERE ###"
   ]
  }
 ],
 "metadata": {
  "kernelspec": {
   "display_name": "Python 3",
   "language": "python",
   "name": "python3"
  },
  "language_info": {
   "codemirror_mode": {
    "name": "ipython",
    "version": 3
   },
   "file_extension": ".py",
   "mimetype": "text/x-python",
   "name": "python",
   "nbconvert_exporter": "python",
   "pygments_lexer": "ipython3",
   "version": "3.7.4"
  }
 },
 "nbformat": 4,
 "nbformat_minor": 2
}
