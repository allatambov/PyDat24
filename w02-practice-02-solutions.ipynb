{
 "cells": [
  {
   "cell_type": "markdown",
   "metadata": {},
   "source": [
    "# Основы анализа данных в Python\n",
    "\n",
    "*Алла Тамбовцева*\n",
    "\n",
    "## Практикум 2. Датафреймы `pandas`: часть 2"
   ]
  },
  {
   "cell_type": "markdown",
   "metadata": {},
   "source": [
    "Импортируем библиотеку `pandas` с сокращённым названием:"
   ]
  },
  {
   "cell_type": "code",
   "execution_count": 1,
   "metadata": {},
   "outputs": [],
   "source": [
    "import pandas as pd"
   ]
  },
  {
   "cell_type": "markdown",
   "metadata": {},
   "source": [
    "В этом практикуме мы продолжаем работать с данными из файла `beasts.csv`, который содержит характеристики фантастических существ. Переменные в таблице:\n",
    "\n",
    "* `Name`: название существа;\n",
    "* `Class`: вид существа (если есть, если нет, дублируется название);\n",
    "* `Classification`: классификация Министерства Магии по уровням опасности;\n",
    "* `Colour`: цвет тела;\n",
    "* `Eye`: цвет глаз;\n",
    "* `Native`: происхождение и распространение;\n",
    "* `Size`: размер в дюймах.\n",
    "\n",
    "Загрузим данные из CSV-файла:"
   ]
  },
  {
   "cell_type": "code",
   "execution_count": 2,
   "metadata": {},
   "outputs": [],
   "source": [
    "df = pd.read_csv(\"beasts.csv\")"
   ]
  },
  {
   "cell_type": "markdown",
   "metadata": {},
   "source": [
    "В предыдущем практикуме мы добавили в этот датафрейм бинарный столбец `Dragon` со значениями 1, если существо – дракон, и значениями 0 – если существо – не дракон:"
   ]
  },
  {
   "cell_type": "code",
   "execution_count": 3,
   "metadata": {},
   "outputs": [
    {
     "data": {
      "text/plain": [
       "0    71\n",
       "1    10\n",
       "Name: Dragon, dtype: int64"
      ]
     },
     "execution_count": 3,
     "metadata": {},
     "output_type": "execute_result"
    }
   ],
   "source": [
    "df[\"Dragon\"] = (df[\"Class\"] == \"Dragon\").astype(int)\n",
    "df[\"Dragon\"].value_counts()"
   ]
  },
  {
   "cell_type": "markdown",
   "metadata": {},
   "source": [
    "В предыдущем практикуме мы также добавили в этот датафрейм числовой столбец `Danger` с числовыми значениями уровня опасности (целые значения от 1 до 5):"
   ]
  },
  {
   "cell_type": "code",
   "execution_count": 4,
   "metadata": {},
   "outputs": [
    {
     "data": {
      "text/plain": [
       "3    27\n",
       "4    20\n",
       "5    18\n",
       "2    14\n",
       "1     2\n",
       "Name: Danger, dtype: int64"
      ]
     },
     "execution_count": 4,
     "metadata": {},
     "output_type": "execute_result"
    }
   ],
   "source": [
    "df[\"Danger\"] = df[\"Classification\"].apply(len)\n",
    "df[\"Danger\"].value_counts()"
   ]
  },
  {
   "cell_type": "markdown",
   "metadata": {},
   "source": [
    "### Задача 1\n",
    "\n",
    "Добавьте в датафрейм новый признак `DangerAgg`, который будет представлять собой закодированный уровень опасности существа: \n",
    "\n",
    "* `High`: если класс Министерства Магии равен 4 или 5 (`XXXX` или `XXXXX`);\n",
    "* `Medium`: если класс Министерства Магии равен 3 (`XXX`);\n",
    "* `Low`: если класс Министерства Магии равен 1 или 2 (`X` и `XX`)."
   ]
  },
  {
   "cell_type": "code",
   "execution_count": 5,
   "metadata": {},
   "outputs": [],
   "source": [
    "# вариант с заменой через .replace() и словарь\n",
    "\n",
    "df[\"DangerAgg\"] = df[\"Danger\"].replace({5 : \"High\", \n",
    "                                        4 : \"High\", \n",
    "                                        3 : \"Medium\", \n",
    "                                        2 : \"Low\", \n",
    "                                        1 : \"Low\"})"
   ]
  },
  {
   "cell_type": "code",
   "execution_count": 6,
   "metadata": {},
   "outputs": [],
   "source": [
    "# вариант со своей функцией и apply()\n",
    "\n",
    "# пишем свою функцию для одной ячейки\n",
    "# предусматриваем None на случай пропусков\n",
    "# здесь их нет, но вообще полезно учитывать,\n",
    "# иначе при применении функции в apply()\n",
    "# все сломается\n",
    "\n",
    "def recode(x):\n",
    "    if x > 3:\n",
    "        y = \"High\"\n",
    "    elif x > 2:\n",
    "        y = \"Medium\"\n",
    "    elif x > 0:\n",
    "        y = \"Low\"\n",
    "    else:\n",
    "        y = None # само переделается в NaN\n",
    "    return y"
   ]
  },
  {
   "cell_type": "code",
   "execution_count": 7,
   "metadata": {},
   "outputs": [
    {
     "data": {
      "text/plain": [
       "High      38\n",
       "Medium    27\n",
       "Low       16\n",
       "Name: DangerAgg, dtype: int64"
      ]
     },
     "execution_count": 7,
     "metadata": {},
     "output_type": "execute_result"
    }
   ],
   "source": [
    "# применяем recode() ко всем ячейкам в Danger\n",
    "# проверяем результаты\n",
    "\n",
    "df[\"DangerAgg\"] = df[\"Danger\"].apply(recode)\n",
    "df[\"DangerAgg\"].value_counts()"
   ]
  },
  {
   "cell_type": "markdown",
   "metadata": {},
   "source": [
    "### Задача 2\n",
    "\n",
    "Определите моду по столбцу `Eye`. Заполните единственный пропуск в этом столбце модой. Проверьте, что пропусков в столбце не осталось.\n",
    "\n",
    "**Подсказка:** методы `.mode()` и `.fillna()`."
   ]
  },
  {
   "cell_type": "code",
   "execution_count": 8,
   "metadata": {},
   "outputs": [
    {
     "data": {
      "text/plain": [
       "0    No data\n",
       "dtype: object"
      ]
     },
     "execution_count": 8,
     "metadata": {},
     "output_type": "execute_result"
    }
   ],
   "source": [
    "# так как мода может быть не одна,\n",
    "# возвращается всегда столбец pandas Series,\n",
    "# здесь он из одной строки с индексом 0\n",
    "\n",
    "df[\"Eye\"].mode()"
   ]
  },
  {
   "cell_type": "code",
   "execution_count": 9,
   "metadata": {},
   "outputs": [
    {
     "name": "stdout",
     "output_type": "stream",
     "text": [
      "No data\n"
     ]
    }
   ],
   "source": [
    "# забираем элемент с индексом 0\n",
    "\n",
    "m = df[\"Eye\"].mode()[0]\n",
    "print(m)"
   ]
  },
  {
   "cell_type": "code",
   "execution_count": 10,
   "metadata": {},
   "outputs": [],
   "source": [
    "# заполняем им пропуски в Eye и сразу сохраняем изменения\n",
    "\n",
    "df[\"Eye\"].fillna(m, inplace = True)"
   ]
  },
  {
   "cell_type": "code",
   "execution_count": 11,
   "metadata": {},
   "outputs": [
    {
     "data": {
      "text/plain": [
       "0"
      ]
     },
     "execution_count": 11,
     "metadata": {},
     "output_type": "execute_result"
    }
   ],
   "source": [
    "# проверяем, что пропусков не осталось\n",
    "\n",
    "df[\"Eye\"].isna().sum()"
   ]
  },
  {
   "cell_type": "markdown",
   "metadata": {},
   "source": [
    "### Задача 3\n",
    "\n",
    "Выведите описательные статистики для столбца `Size`. Отдельно вычислите среднее и заполните пропущенные значения средним арифметическим. Снова выведите описательные статистики для столбца `Size` и сравните результаты."
   ]
  },
  {
   "cell_type": "code",
   "execution_count": 12,
   "metadata": {},
   "outputs": [
    {
     "data": {
      "text/plain": [
       "count     28.000000\n",
       "mean     147.358929\n",
       "std      178.181732\n",
       "min        0.050000\n",
       "25%       11.500000\n",
       "50%       69.000000\n",
       "75%      189.000000\n",
       "max      600.000000\n",
       "Name: Size, dtype: float64"
      ]
     },
     "execution_count": 12,
     "metadata": {},
     "output_type": "execute_result"
    }
   ],
   "source": [
    "# внимание на среднее\n",
    "\n",
    "df[\"Size\"].describe()"
   ]
  },
  {
   "cell_type": "code",
   "execution_count": 13,
   "metadata": {},
   "outputs": [],
   "source": [
    "# считаем среднее отдельно\n",
    "# и заполняем пропуски им\n",
    "\n",
    "avg = df[\"Size\"].mean()\n",
    "df[\"Size\"].fillna(avg, inplace = True)"
   ]
  },
  {
   "cell_type": "code",
   "execution_count": 14,
   "metadata": {},
   "outputs": [
    {
     "data": {
      "text/plain": [
       "count     81.000000\n",
       "mean     147.358929\n",
       "std      103.514232\n",
       "min        0.050000\n",
       "25%      147.358929\n",
       "50%      147.358929\n",
       "75%      147.358929\n",
       "max      600.000000\n",
       "Name: Size, dtype: float64"
      ]
     },
     "execution_count": 14,
     "metadata": {},
     "output_type": "execute_result"
    }
   ],
   "source": [
    "# сравниваем результаты:\n",
    "# все ячейки заполнены, count = 81\n",
    "# среднее не изменилось\n",
    "# остальное изменилось, кроме min и max\n",
    "\n",
    "df[\"Size\"].describe()"
   ]
  },
  {
   "cell_type": "markdown",
   "metadata": {},
   "source": [
    "> Из-за того, что мы 53 пропуска заполнили средним (одинаковыми значениями 147.358929), этих значений оказалось довольно много, и теперь и среднее, и нижний квартиль, и медиана, и верхний квартиль оказались равными примерно 147.36. Стандартное отклонение как показатель разнообразия наблюдений осталось довольно высоким только из-за того, что в выборке есть очень маленькое значение около 0 и очень большое значение 600. Этот пример служит иллюстрацией того, что заполнение пропусков решает некоторые технические проблемы, однако если пропусков много, а данных мало, содержательно заполнение средним/медианой/модой не сделает датасет более интересным и полезным для анализа. "
   ]
  },
  {
   "cell_type": "markdown",
   "metadata": {},
   "source": [
    "### Задача 4\n",
    "\n",
    "Сгруппируйте строки по уровню опасности существа и выведите описательные статистики для столбца `Size`. \n",
    "\n",
    "**Подсказка:** метод `.groupby()`."
   ]
  },
  {
   "cell_type": "code",
   "execution_count": 15,
   "metadata": {},
   "outputs": [
    {
     "data": {
      "text/html": [
       "<div>\n",
       "<style scoped>\n",
       "    .dataframe tbody tr th:only-of-type {\n",
       "        vertical-align: middle;\n",
       "    }\n",
       "\n",
       "    .dataframe tbody tr th {\n",
       "        vertical-align: top;\n",
       "    }\n",
       "\n",
       "    .dataframe thead th {\n",
       "        text-align: right;\n",
       "    }\n",
       "</style>\n",
       "<table border=\"1\" class=\"dataframe\">\n",
       "  <thead>\n",
       "    <tr style=\"text-align: right;\">\n",
       "      <th></th>\n",
       "      <th>count</th>\n",
       "      <th>mean</th>\n",
       "      <th>std</th>\n",
       "      <th>min</th>\n",
       "      <th>25%</th>\n",
       "      <th>50%</th>\n",
       "      <th>75%</th>\n",
       "      <th>max</th>\n",
       "    </tr>\n",
       "    <tr>\n",
       "      <th>Danger</th>\n",
       "      <th></th>\n",
       "      <th></th>\n",
       "      <th></th>\n",
       "      <th></th>\n",
       "      <th></th>\n",
       "      <th></th>\n",
       "      <th></th>\n",
       "      <th></th>\n",
       "    </tr>\n",
       "  </thead>\n",
       "  <tbody>\n",
       "    <tr>\n",
       "      <th>1</th>\n",
       "      <td>2.0</td>\n",
       "      <td>78.679464</td>\n",
       "      <td>97.127430</td>\n",
       "      <td>10.000000</td>\n",
       "      <td>44.339732</td>\n",
       "      <td>78.679464</td>\n",
       "      <td>113.019196</td>\n",
       "      <td>147.358929</td>\n",
       "    </tr>\n",
       "    <tr>\n",
       "      <th>2</th>\n",
       "      <td>14.0</td>\n",
       "      <td>81.825893</td>\n",
       "      <td>69.452754</td>\n",
       "      <td>0.050000</td>\n",
       "      <td>9.000000</td>\n",
       "      <td>103.679464</td>\n",
       "      <td>147.358929</td>\n",
       "      <td>147.358929</td>\n",
       "    </tr>\n",
       "    <tr>\n",
       "      <th>3</th>\n",
       "      <td>27.0</td>\n",
       "      <td>127.181349</td>\n",
       "      <td>47.013420</td>\n",
       "      <td>8.000000</td>\n",
       "      <td>147.358929</td>\n",
       "      <td>147.358929</td>\n",
       "      <td>147.358929</td>\n",
       "      <td>147.358929</td>\n",
       "    </tr>\n",
       "    <tr>\n",
       "      <th>4</th>\n",
       "      <td>20.0</td>\n",
       "      <td>134.651250</td>\n",
       "      <td>42.578702</td>\n",
       "      <td>12.000000</td>\n",
       "      <td>147.358929</td>\n",
       "      <td>147.358929</td>\n",
       "      <td>147.358929</td>\n",
       "      <td>180.000000</td>\n",
       "    </tr>\n",
       "    <tr>\n",
       "      <th>5</th>\n",
       "      <td>18.0</td>\n",
       "      <td>250.346131</td>\n",
       "      <td>156.893847</td>\n",
       "      <td>147.358929</td>\n",
       "      <td>147.358929</td>\n",
       "      <td>163.679464</td>\n",
       "      <td>291.000000</td>\n",
       "      <td>600.000000</td>\n",
       "    </tr>\n",
       "  </tbody>\n",
       "</table>\n",
       "</div>"
      ],
      "text/plain": [
       "        count        mean         std         min         25%         50%  \\\n",
       "Danger                                                                      \n",
       "1         2.0   78.679464   97.127430   10.000000   44.339732   78.679464   \n",
       "2        14.0   81.825893   69.452754    0.050000    9.000000  103.679464   \n",
       "3        27.0  127.181349   47.013420    8.000000  147.358929  147.358929   \n",
       "4        20.0  134.651250   42.578702   12.000000  147.358929  147.358929   \n",
       "5        18.0  250.346131  156.893847  147.358929  147.358929  163.679464   \n",
       "\n",
       "               75%         max  \n",
       "Danger                          \n",
       "1       113.019196  147.358929  \n",
       "2       147.358929  147.358929  \n",
       "3       147.358929  147.358929  \n",
       "4       147.358929  180.000000  \n",
       "5       291.000000  600.000000  "
      ]
     },
     "execution_count": 15,
     "metadata": {},
     "output_type": "execute_result"
    }
   ],
   "source": [
    "df.groupby(\"Danger\")[\"Size\"].describe()"
   ]
  },
  {
   "cell_type": "markdown",
   "metadata": {},
   "source": [
    "### Задача 5\n",
    "\n",
    "Сгруппируйте строки по столбцу `Dragon` и по каждой группе выведите среднее значение `Size` и медианное значение `Danger`."
   ]
  },
  {
   "cell_type": "code",
   "execution_count": 16,
   "metadata": {},
   "outputs": [
    {
     "data": {
      "text/html": [
       "<div>\n",
       "<style scoped>\n",
       "    .dataframe tbody tr th:only-of-type {\n",
       "        vertical-align: middle;\n",
       "    }\n",
       "\n",
       "    .dataframe tbody tr th {\n",
       "        vertical-align: top;\n",
       "    }\n",
       "\n",
       "    .dataframe thead th {\n",
       "        text-align: right;\n",
       "    }\n",
       "</style>\n",
       "<table border=\"1\" class=\"dataframe\">\n",
       "  <thead>\n",
       "    <tr style=\"text-align: right;\">\n",
       "      <th></th>\n",
       "      <th>Size</th>\n",
       "      <th>Danger</th>\n",
       "    </tr>\n",
       "    <tr>\n",
       "      <th>Dragon</th>\n",
       "      <th></th>\n",
       "      <th></th>\n",
       "    </tr>\n",
       "  </thead>\n",
       "  <tbody>\n",
       "    <tr>\n",
       "      <th>0</th>\n",
       "      <td>128.084457</td>\n",
       "      <td>3.0</td>\n",
       "    </tr>\n",
       "    <tr>\n",
       "      <th>1</th>\n",
       "      <td>284.207679</td>\n",
       "      <td>5.0</td>\n",
       "    </tr>\n",
       "  </tbody>\n",
       "</table>\n",
       "</div>"
      ],
      "text/plain": [
       "              Size  Danger\n",
       "Dragon                    \n",
       "0       128.084457     3.0\n",
       "1       284.207679     5.0"
      ]
     },
     "execution_count": 16,
     "metadata": {},
     "output_type": "execute_result"
    }
   ],
   "source": [
    "# в agg() указываем словарь, в нем описываем,\n",
    "# для какого столбца какую функцию для агрегирования использовать\n",
    "\n",
    "df.groupby(\"Dragon\").agg({\"Size\" : \"mean\", \n",
    "                         \"Danger\" : \"median\"})"
   ]
  },
  {
   "cell_type": "markdown",
   "metadata": {},
   "source": [
    "**Дополнительно.** Любой результат группировки и агрегирования (и вообще любой датафрейм) можно выгрузить в виде таблицы в LaTeX или Word с помощью методов `.to_latex()` или `.to_html()`:"
   ]
  },
  {
   "cell_type": "code",
   "execution_count": 17,
   "metadata": {},
   "outputs": [
    {
     "name": "stdout",
     "output_type": "stream",
     "text": [
      "\\begin{tabular}{lrr}\n",
      "\\toprule\n",
      "{} &        Size &  Danger \\\\\n",
      "Dragon &             &         \\\\\n",
      "\\midrule\n",
      "0      &  128.084457 &     3.0 \\\\\n",
      "1      &  284.207679 &     5.0 \\\\\n",
      "\\bottomrule\n",
      "\\end{tabular}\n",
      "\n"
     ]
    }
   ],
   "source": [
    "tab = df.groupby(\"Dragon\").agg({\"Size\" : \"mean\", \"Danger\" : \"median\"})\n",
    "\n",
    "# код LaTex для таблицы выше, можно доработать\n",
    "\n",
    "print(tab.to_latex())"
   ]
  },
  {
   "cell_type": "code",
   "execution_count": 18,
   "metadata": {},
   "outputs": [
    {
     "name": "stdout",
     "output_type": "stream",
     "text": [
      "<table border=\"1\" class=\"dataframe\">\n",
      "  <thead>\n",
      "    <tr style=\"text-align: right;\">\n",
      "      <th></th>\n",
      "      <th>Size</th>\n",
      "      <th>Danger</th>\n",
      "    </tr>\n",
      "    <tr>\n",
      "      <th>Dragon</th>\n",
      "      <th></th>\n",
      "      <th></th>\n",
      "    </tr>\n",
      "  </thead>\n",
      "  <tbody>\n",
      "    <tr>\n",
      "      <th>0</th>\n",
      "      <td>128.084457</td>\n",
      "      <td>3.0</td>\n",
      "    </tr>\n",
      "    <tr>\n",
      "      <th>1</th>\n",
      "      <td>284.207679</td>\n",
      "      <td>5.0</td>\n",
      "    </tr>\n",
      "  </tbody>\n",
      "</table>\n"
     ]
    }
   ],
   "source": [
    "# код HTML для таблицы выше\n",
    "\n",
    "print(tab.to_html())"
   ]
  },
  {
   "cell_type": "code",
   "execution_count": 19,
   "metadata": {},
   "outputs": [],
   "source": [
    "# если экспортируем HTML в файл с расширением .htm,\n",
    "# его можно будет открыть в помощью Word и аналогов\n",
    "# и скопировать оттуда таблицу в текстовом формате\n",
    "\n",
    "tab.to_html(\"result.htm\")"
   ]
  },
  {
   "cell_type": "markdown",
   "metadata": {},
   "source": [
    "### Задача 6\n",
    "\n",
    "Сформулируйте принципиальную разницу между гистограммой и столбиковой диаграммой. Постройте подходящий вид графика для визуализации следующих показателей:\n",
    "\n",
    "* размер существа;\n",
    "* уровень опасности существа.\n",
    "\n",
    "**Подсказка:** метод `.hist()` и метод `.bar()` в наборе методов `.plot()`."
   ]
  },
  {
   "cell_type": "markdown",
   "metadata": {},
   "source": [
    "**Важно.** Гистограмма – график для количественных данных, так как ее построение предполагает упорядочение значений от меньшего к большему, разделение этого диапазона на равные интервалы и подсчет того, сколько наблюдений попадает в каждый интервал. Гистограмму невозможно построить для текстовых данных, так как упорядочение в математическом смысле выполнить нельзя. Если данные качественные, но значения закодированы числами, технически получить гистограмму можно, но она будет бессмысленной. \n",
    "\n",
    "Столбиковая диаграмма – график для качественных данных или для данных в порядковой шкале с малым числом уникальных значений, он просто сопоставляет категории и соответствующие им частоты. Столбцы в такой диаграмме мы можем упорядочить как угодно, от самой частой категории к самой редкой, от самой редкой к самой частой, или просто расположить категории в алфавитном порядке. Для количественных данных, особенно, если уникальных значений много, столбиковую диаграмму технически построить можно, но бессмысленно, получится неупорядоченный набор столбцов, причем большинство столбцов будет высоты 1."
   ]
  },
  {
   "cell_type": "code",
   "execution_count": 20,
   "metadata": {},
   "outputs": [
    {
     "data": {
      "image/png": "[encoded data removed]",
      "text/plain": [
       "<Figure size 432x288 with 1 Axes>"
      ]
     },
     "metadata": {
      "needs_background": "light"
     },
     "output_type": "display_data"
    }
   ],
   "source": [
    "# размер существа – числовой показатель\n",
    "# строим гистограмму для Size из df\n",
    "# цвет границ столбцов – белый для наглядности\n",
    "\n",
    "df.hist(\"Size\", edgecolor = \"white\");"
   ]
  },
  {
   "cell_type": "code",
   "execution_count": 21,
   "metadata": {},
   "outputs": [
    {
     "data": {
      "image/png": "[encoded data removed]",
      "text/plain": [
       "<Figure size 432x288 with 1 Axes>"
      ]
     },
     "metadata": {
      "needs_background": "light"
     },
     "output_type": "display_data"
    }
   ],
   "source": [
    "# уменьшим число столбцов, чтобы получить\n",
    "# меньше столбцов, но более широких\n",
    "\n",
    "df.hist(\"Size\", edgecolor = \"white\", bins = 5);"
   ]
  },
  {
   "cell_type": "code",
   "execution_count": 22,
   "metadata": {},
   "outputs": [
    {
     "data": {
      "image/png": "[encoded data removed]",
      "text/plain": [
       "<Figure size 432x288 with 1 Axes>"
      ]
     },
     "metadata": {
      "needs_background": "light"
     },
     "output_type": "display_data"
    }
   ],
   "source": [
    "# уровень опасности – порядковая шкала от 1 до 5,\n",
    "# строим столбиковую диаграмму, но не по исходному столбцу, \n",
    "# а по таблице частот для него (иначе никак)\n",
    "\n",
    "tab = df[\"Classification\"].value_counts()\n",
    "tab.plot.bar();"
   ]
  },
  {
   "cell_type": "markdown",
   "metadata": {},
   "source": [
    "О более красивом оформлении графиков и нюансах их построения мы поговорим в следующий раз, а пока просто маленькая иллюстрация, почему столбиковая диаграмма для числового столбца с разнообразными значениями – плохая идея:"
   ]
  },
  {
   "cell_type": "code",
   "execution_count": 23,
   "metadata": {},
   "outputs": [
    {
     "data": {
      "image/png": "[encoded data removed]",
      "text/plain": [
       "<Figure size 432x288 with 1 Axes>"
      ]
     },
     "metadata": {
      "needs_background": "light"
     },
     "output_type": "display_data"
    }
   ],
   "source": [
    "df[\"Size\"].plot.bar();"
   ]
  }
 ],
 "metadata": {
  "kernelspec": {
   "display_name": "Python 3",
   "language": "python",
   "name": "python3"
  },
  "language_info": {
   "codemirror_mode": {
    "name": "ipython",
    "version": 3
   },
   "file_extension": ".py",
   "mimetype": "text/x-python",
   "name": "python",
   "nbconvert_exporter": "python",
   "pygments_lexer": "ipython3",
   "version": "3.7.4"
  }
 },
 "nbformat": 4,
 "nbformat_minor": 2
}
